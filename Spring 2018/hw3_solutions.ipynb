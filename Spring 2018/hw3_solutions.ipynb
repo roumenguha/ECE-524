{
 "cells": [
  {
   "cell_type": "markdown",
   "metadata": {},
   "source": [
    "# CS/ECE/ISyE 524 - Spr 2018 - HW 3 - Solutions\n",
    "### Prepared by: Laurent Lessard"
   ]
  },
  {
   "cell_type": "markdown",
   "metadata": {
    "collapsed": true
   },
   "source": [
    "## 1. Doodle Scheduling\n",
    "\n",
    "Doodle is looking to interview a candidate for a new software engineer\n",
    "position at their company. It works like this: the interview (10 AM to 3 PM) is divided into a number\n",
    "of 20-minute time slots that may be used for 1-on-1 meetings with the candidate. There is also a\n",
    "one-hour time slot in the middle of the day where 3 employees take the candidate out for lunch.\n",
    "It would be nice for all 15 senior employees to have a chance to meet with the candidate at some point\n",
    "during the day, but everybody has a busy schedule so it's not clear whether this will be possible. As an\n",
    "obvious first step, a doodle poll was sent out to the 15 senior employees to figure out their availability.\n",
    "The data collected is shown in the table below.\n",
    "\n",
    "|       |10:00|10:20|10:40|11:00|11:20|11:40|Lunch|1:00|1:20|1:40|2:00|2:20|2:40|\n",
    "|-------|:---:|:---:|:---:|:---:|:---:|:---:|:---:|:--:|:--:|:--:|:--:|:--:|:--:|\n",
    "|Manuel |0|0|1|1|0|0|0|1|1|0|0|0|0|\n",
    "|Luca   |0|1|1|0|0|0|0|0|1|1|0|0|0|\n",
    "|Jule   |0|0|0|1|1|0|1|1|0|1|1|1|1|\n",
    "|Michael|0|0|0|1|1|1|1|1|1|1|1|1|0|\n",
    "|Malte  |0|0|0|0|0|0|1|1|1|0|0|0|0|\n",
    "|Chris  |0|1|1|0|0|0|0|0|1|1|0|0|0|\n",
    "|Spyros |0|0|0|1|1|1|1|0|0|0|0|0|0|\n",
    "|Mirjam |1|1|0|0|0|0|0|0|0|0|1|1|1|\n",
    "|Matt   |1|1|1|0|0|0|0|0|0|1|1|0|0|\n",
    "|Florian|0|0|0|0|0|0|0|1|1|0|0|0|0|\n",
    "|Josep  |0|0|0|0|0|0|1|1|1|0|0|0|0|\n",
    "|Joel   |1|1|0|0|0|1|1|1|1|0|0|1|1|\n",
    "|Tom    |1|1|1|0|1|1|0|0|0|0|0|1|1|\n",
    "|Daniel |0|1|1|1|0|0|0|0|0|0|0|0|0|\n",
    "|Anne   |1|1|0|0|1|1|0|0|0|0|0|0|0|\n",
    "\n",
    "In the table, a 1 means that the employee is available at the indicated time, while a 0 means that they\n",
    "are unavailable. Determine whether a feasible interview schedule exists. If so, print out a calendar for\n",
    "candidate that lists who they will be meeting at each time slot."
   ]
  },
  {
   "cell_type": "markdown",
   "metadata": {},
   "source": [
    "**Solution**: You can think of this as an assignment problem where we are assigning people to timeslots. The only twist is that three people must be assigned to lunch. This is dealt with by changing the constraint associated with the lunch slot. As in all network flow problems, our decision variables are the edges of the graph. Specifically, we use a variable $x_{ij} \\in \\{0,1\\}$ that indicates whether or not person $i$ meets with the candidate at time $j$. NOTE: there is no objective here; we are simply seeking a feasible solution. In fact, there are many different feasible solutions to this problem!"
   ]
  },
  {
   "cell_type": "code",
   "execution_count": 7,
   "metadata": {},
   "outputs": [
    {
     "name": "stdout",
     "output_type": "stream",
     "text": [
      "INTERVIEW SCHEDULE:\n",
      "10:00 -- meet with Matt \n",
      "10:20 -- meet with Chris \n",
      "10:40 -- meet with Daniel \n",
      "11:00 -- meet with Manuel \n",
      "11:20 -- meet with Tom \n",
      "11:40 -- meet with Anne \n",
      "lunch -- meet with Spyros Josep Joel \n",
      "1:00 -- meet with Malte \n",
      "1:20 -- meet with Florian \n",
      "1:40 -- meet with Luca \n",
      "2:00 -- meet with Mirjam \n",
      "2:20 -- meet with Michael \n",
      "2:40 -- meet with Jule \n"
     ]
    }
   ],
   "source": [
    "using JuMP, Clp, NamedArrays\n",
    "\n",
    "availability =\n",
    "  [ 0 0 1 1 0 0 0 1 1 0 0 0 0\n",
    "    0 1 1 0 0 0 0 0 1 1 0 0 0\n",
    "    0 0 0 1 1 0 1 1 0 1 1 1 1\n",
    "    0 0 0 1 1 1 1 1 1 1 1 1 0\n",
    "    0 0 0 0 0 0 1 1 1 0 0 0 0\n",
    "    0 1 1 0 0 0 0 0 1 1 0 0 0\n",
    "    0 0 0 1 1 1 1 0 0 0 0 0 0\n",
    "    1 1 0 0 0 0 0 0 0 0 1 1 1\n",
    "    1 1 1 0 0 0 0 0 0 1 1 0 0\n",
    "    0 0 0 0 0 0 0 1 1 0 0 0 0\n",
    "    0 0 0 0 0 0 1 1 1 0 0 0 0\n",
    "    1 1 0 0 0 1 1 1 1 0 0 1 1\n",
    "    1 1 1 0 1 1 0 0 0 0 0 1 1\n",
    "    0 1 1 1 0 0 0 0 0 0 0 0 0\n",
    "    1 1 0 0 1 1 0 0 0 0 0 0 0 ]\n",
    "\n",
    "TIME = collect(1:13)   # numbered time slots (lunch is slot number 7)\n",
    "TIMESTR = [\"10:00\",\"10:20\",\"10:40\",\"11:00\",\"11:20\",\"11:40\",\"lunch\",\"1:00\",\"1:20\",\"1:40\",\"2:00\",\"2:20\",\"2:40\"]\n",
    "NAME = [ :Manuel, :Luca, :Jule, :Michael, :Malte, :Chris, :Spyros, :Mirjam, :Matt, :Florian, :Josep, :Joel, :Tom, :Daniel, :Anne ]\n",
    "times = NamedArray( availability, (NAME,TIME), (\"NAME\",\"TIME\"))\n",
    "\n",
    "m = Model(solver=ClpSolver())\n",
    "\n",
    "@variable(m, x[NAME,TIME] >= 0)\n",
    "@constraint(m, flow1[j in [1:6; 8:13]], sum(x[i,j]*times[i,j] for i in NAME) <= 1  )   # all time slots except lunch\n",
    "@constraint(m, sum(x[i,7]*times[i,7] for i in NAME) == 3  )                            # lunch time needs 3 people\n",
    "@constraint(m, flow2[i in NAME], sum(x[i,j]*times[i,j] for j in TIME) == 1 )           # every employee has one meeting\n",
    "@objective(m, Min, sum(x[i,j] for i in NAME, j in TIME) )\n",
    "\n",
    "solve(m)\n",
    "\n",
    "assignment = [ Int(getvalue(x[i,j])) for i in NAME, j in TIME ]\n",
    "                                                \n",
    "println(\"INTERVIEW SCHEDULE:\")\n",
    "for (i,t) in enumerate(TIMESTR)\n",
    "    print(t, \" -- meet with \")\n",
    "    for j = find(assignment[:,i])\n",
    "        print(NAME[j],\" \")\n",
    "    end\n",
    "    println()\n",
    "end"
   ]
  },
  {
   "cell_type": "markdown",
   "metadata": {},
   "source": [
    "## 2. Car rental\n",
    "\n",
    "A small car rental company has a fleet of 94 vehicles distributed among its 10 agencies. The location of every agency is given by its geographical coordinates x and y in a grid based on miles. We assume that the road distance between agencies is approximately 1.3 times the Euclidean distance (as the crow flies). The following table indicates the coordinates of all agencies, the number of cars required the next morning, and the stock of cars in the evening preceding this day.\n",
    "\n",
    "|Agency number |1 |2 |3 |4 |5 |6 |7 |8 |9 |10|\n",
    "|--------------|:-:|:-:|:-:|:-:|:-:|:-:|:-:|:-:|:-:|:-:|\n",
    "|x coordinate  |0 |20 |18 |30 |35 |33 |5 |5 |11 |2|\n",
    "|y coordinate  |0 |20 |10 |12 |0 |25 |27 |10 |0 |15|\n",
    "|Required cars |10 |6 |8 |11 |9 |7 |15 |7 |9 |12|\n",
    "|Cars present  |8 |13 |4 |8 |12 |2 |14 |11 |15 |7|\n",
    "\n",
    "Supposing the cost for transporting a car is \\$0.50 per mile, determine the movements of cars that allow\n",
    "the company to re-establish the required numbers of cars at all agencies, minimizing the total cost\n",
    "incurred for transport."
   ]
  },
  {
   "cell_type": "markdown",
   "metadata": {},
   "source": [
    "**Solution:** This is a standard transportation problem, except that we are allowed to keep cars where they are. This amounts to adding edges of distance zero from each agency to itself! Note that since the supply/demand for each node is an integer and the edge capacities are unconstrained, this problem will have integer solutions. So we can solve it as an ordinary LP."
   ]
  },
  {
   "cell_type": "code",
   "execution_count": 19,
   "metadata": {},
   "outputs": [
    {
     "name": "stdout",
     "output_type": "stream",
     "text": [
      "The minimum cost for transportation is: $152.63901632295628\n",
      "The transportation matrix is:\n"
     ]
    },
    {
     "data": {
      "text/plain": [
       "10×10 Array{Int64,2}:\n",
       " 8  0  0  0  0  0   0  0  0  0\n",
       " 0  6  1  0  0  5   1  0  0  0\n",
       " 0  0  4  0  0  0   0  0  0  0\n",
       " 0  0  0  8  0  0   0  0  0  0\n",
       " 0  0  0  3  9  0   0  0  0  0\n",
       " 0  0  0  0  0  2   0  0  0  0\n",
       " 0  0  0  0  0  0  14  0  0  0\n",
       " 0  0  0  0  0  0   0  6  0  5\n",
       " 2  0  3  0  0  0   0  1  9  0\n",
       " 0  0  0  0  0  0   0  0  0  7"
      ]
     },
     "metadata": {},
     "output_type": "display_data"
    }
   ],
   "source": [
    "using JuMP, Clp\n",
    "\n",
    "position = [0 0; 20 20; 18 10; 30 12; 35 0; 33 25; 5 27; 5 10; 11 0; 2 15]\n",
    "present = [8; 13; 4; 8; 12; 2; 14; 11; 15; 7]\n",
    "required = [10; 6; 8; 11; 9; 7; 15; 7; 9; 12]\n",
    "dist = zeros(10,10)\n",
    "\n",
    "# form the array of distances dist[i,j] which is the distance from agency i to agency j.\n",
    "for i = 1 : 10\n",
    "    for j = 1 : 10\n",
    "        dist[i,j] = 1.3 * norm(position[i,:]-position[j,:])\n",
    "    end\n",
    "end\n",
    "\n",
    "m = Model(solver=ClpSolver())\n",
    "\n",
    "#assume flow[i,j] is the number of cars sent from agency i to agency j\n",
    "@variable(m, flow[1:10,1:10] >= 0)\n",
    "\n",
    "for i = 1 : 10\n",
    "    @constraint(m, sum(flow[i,:]) == present[i])  # send to other plcaes\n",
    "    @constraint(m, sum(flow[:,i]) == required[i]) # receive from other places\n",
    "end\n",
    "\n",
    "@objective(m, Min, 0.5*sum( flow[i,j]*dist[i,j] for i=1:10, j=1:10))\n",
    "\n",
    "status = solve(m)\n",
    "\n",
    "println(\"The minimum cost for transportation is: \\$\",getobjectivevalue(m))\n",
    "println(\"The transportation matrix is:\")\n",
    "sleep(.5)\n",
    "display(round.(Int,getvalue(flow)))"
   ]
  },
  {
   "cell_type": "markdown",
   "metadata": {},
   "source": [
    "## 3. Building a stadium\n",
    "\n",
    "A town council wishes to construct a small stadium in order to\n",
    "improve the services provided to the people living in the district. After the invitation to tender, a local\n",
    "construction company is awarded the contract and wishes to complete the task within the shortest\n",
    "possible time. All the major tasks are listed in the following table. Some tasks can only start after the\n",
    "completion of certain other tasks, as indicated by the \"Predecessors\" column.\n",
    "\n",
    "|Task| Description|Duration (weeks)| Predecessors| Max reduction (weeks)|Reduction cost ($1k/wk)|\n",
    "|:-:|--|:-:|:-:|:-:|:-:|\n",
    "|1| Installing the construction site| 2| none| 0| --|\n",
    "|2| Terracing| 16| 1| 3| 30|\n",
    "|3| Constructing the foundations| 9| 2| 1| 26|\n",
    "|4| Access roads and other networks| 8| 2| 2| 12|\n",
    "|5| Erecting the basement| 10| 3| 2| 17|\n",
    "|6| Main floor| 6| 4,5| 1| 15|\n",
    "|7| Dividing up the changing rooms| 2| 4| 1| 8|\n",
    "|8| Electrifying the terraces| 2| 6| 0| --|\n",
    "|9| Constructing the roof| 9| 4,6| 2| 42|\n",
    "|10| Lighting of the stadium| 5| 4| 1| 21|\n",
    "|11| Installing the terraces| 3| 6| 1| 18|\n",
    "|12| Sealing the roof| 2| 9| 0| --|\n",
    "|13| Finishing the changing rooms| 1| 7| 0| --|\n",
    "|14| Constructing the ticket office| 7| 2| 2| 22|\n",
    "|15| Secondary access roads| 4| 4,14| 2| 12|\n",
    "|16| Means of signalling| 3| 8,11,14| 1| 6|\n",
    "|17| Lawn and sport accessories| 9| 12| 3| 16|\n",
    "|18| Handing over the building| 1| 17| 0| --|\n",
    "\n",
    "And now, the problems:\n",
    "\n",
    "**a)** What is the earliest possible date of completion for the construction? Note that the last two\n",
    "columns of the table are not relevant for this problem.\n",
    "\n",
    "**b)** The town council wants the builder to expedite the project. As an incentive, the council will\n",
    "pay a bonus of $30k/week for each week the work finishes early. To accomplish this, the builder\n",
    "may employ additional workers and rent more equipment to cut down on the total time. The last\n",
    "two columns of the table show the maximum number of weeks that can be saved per task and\n",
    "the associated additional cost per week incurred by the extra work. When will the project be\n",
    "completed if the builder is acting in a way that maximizes his profit?"
   ]
  },
  {
   "cell_type": "markdown",
   "metadata": {},
   "source": [
    "**Solution to part a:** Here, we use the same formulation as in class, using the start time of each task as a decision variable and imposing constraints that each task may only start once its predecessors have completed."
   ]
  },
  {
   "cell_type": "code",
   "execution_count": 20,
   "metadata": {},
   "outputs": [
    {
     "name": "stdout",
     "output_type": "stream",
     "text": [
      "The minimum #weeks required to complete the construction: 64.0\n"
     ]
    }
   ],
   "source": [
    "using JuMP, Clp\n",
    "\n",
    "tasks = 1:18\n",
    "dur = [2 16 9 8 10 6 2 2 9 5 3 2 1 7 4 3 9 1]\n",
    "pre = ( [], [1], [2], [2], [3], [4,5], [4], [6], [4,6], [4], [6], [9], [7], [2], [4,14], [8,11,14], [12], [17] )\n",
    "pred = Dict(zip(tasks,pre));\n",
    "\n",
    "m = Model(solver=ClpSolver())\n",
    "\n",
    "@variable(m, start[tasks]>=0)\n",
    "for i in tasks\n",
    "    for j in pred[i]\n",
    "        @constraint(m, start[j]+dur[j] <= start[i])\n",
    "    end\n",
    "end\n",
    "@objective(m, Min, start[18] + dur[18])\n",
    "\n",
    "status = solve(m)\n",
    "\n",
    "println(\"The minimum #weeks required to complete the construction: \", getobjectivevalue(m))"
   ]
  },
  {
   "cell_type": "markdown",
   "metadata": {},
   "source": [
    "**Solution to part b:** Here, we add an additional decision variable for each task corresponding to how many weeks we reduce the task by. The goal is no longer to minimize time but rather to maximize profit (which is also connected to time)."
   ]
  },
  {
   "cell_type": "code",
   "execution_count": 23,
   "metadata": {},
   "outputs": [
    {
     "name": "stdout",
     "output_type": "stream",
     "text": [
      "The project will end 7.0 weeks early\n",
      "The associated profit is $87.0k\n"
     ]
    }
   ],
   "source": [
    "# additional columns of data (maximum reduction possible )\n",
    "max_reduction =  [0,  3,  1,  2,  2,  1, 1, 0,  2,  1,  1, 0, 0,  2,  2, 1,  3, 0]  # max reduction (in weeks)\n",
    "cost_reduction = [0, 30, 26, 12, 17, 15, 8, 0, 42, 21, 18, 0, 0, 22, 12, 6, 16, 0]  # cost of reduction ($1,000/week)\n",
    "bonus_amount = 30     # bonus for expediting the project ($1,000/week )\n",
    "\n",
    "m = Model(solver=ClpSolver())\n",
    "\n",
    "@variable(m, start[tasks] >= 0)\n",
    "@variable(m, red[tasks] >= 0)    # introduce new variable for the reduction of each task\n",
    "\n",
    "for i in tasks\n",
    "    # reduce less than max reduction time\n",
    "    @constraint(m, 0 <= red[i] <= max_reduction[i]) \n",
    "    for j in pre[i]\n",
    "        # dur[j] - red[j] is new construction duration for task j\n",
    "        @constraint(m, start[j] + dur[j] - red[j] <= start[i])\n",
    "    end\n",
    "end\n",
    "\n",
    "@expression(m, EXTRA_COST, sum(red[i]*cost_reduction[i] for i in tasks))   # the cost of the proposed reduction\n",
    "@expression(m, WEEKS_EARLY, 64 - (start[18] + dur[18]))                    # how many weeks early was project completed?\n",
    "@expression(m, PROFIT, bonus_amount*WEEKS_EARLY - EXTRA_COST)\n",
    "\n",
    "@objective(m, Max, PROFIT)\n",
    "status = solve(m)\n",
    "\n",
    "println(\"The project will end \", getvalue(WEEKS_EARLY), \" weeks early\")\n",
    "println(\"The associated profit is \\$\" , getobjectivevalue(m), \"k\")"
   ]
  },
  {
   "cell_type": "markdown",
   "metadata": {
    "collapsed": true
   },
   "source": [
    "## 4. Museum site planning\n",
    "A site is being investigated as a potential location for a new museum. An aerial plan of the site is shown in the figure below (in units of feet). The museum will have a circular footprint and law mandates that there be at least 50 feet of clearance between the building and any edge of the site. If we want the largest possible museum, where should it be located? What is its\n",
    "optimal radius? Re-plot the figure below along with the optimally designed museum."
   ]
  },
  {
   "cell_type": "code",
   "execution_count": 44,
   "metadata": {},
   "outputs": [
    {
     "data": {
      "image/png": "[encoded data removed]",
      "text/plain": [
       "PyPlot.Figure(PyObject <matplotlib.figure.Figure object at 0x00000000406A0EB8>)"
      ]
     },
     "metadata": {},
     "output_type": "display_data"
    }
   ],
   "source": [
    "using PyPlot\n",
    "\n",
    "function plot_site()\n",
    "    plot([0,0], [0,500], \"b-\")\n",
    "    plot([0,500], [0,0], \"b-\")\n",
    "    plot([500,600], [0,300],\"b-\")\n",
    "    plot([300,600], [500,300],\"b-\")\n",
    "    plot([0,300], [500,500],\"b-\")\n",
    "    axis(\"image\")\n",
    "    axis([-.5,6.5,-.5,5.5]*100)\n",
    "    grid()\n",
    "end\n",
    "\n",
    "figure(figsize=(6,5))\n",
    "plot_site()"
   ]
  },
  {
   "cell_type": "markdown",
   "metadata": {},
   "source": [
    "**Solution:** This is a problem of finding the Chebychev center of a convex polygon. Our first task is to find the inequalities that determine the region (the A and b matrices). Then, to ensure we respect the 50 foot perimeter constraint, we simply shrink the resulting radius by 50."
   ]
  },
  {
   "cell_type": "code",
   "execution_count": 45,
   "metadata": {},
   "outputs": [
    {
     "data": {
      "image/png": "[encoded data removed]",
      "text/plain": [
       "PyPlot.Figure(PyObject <matplotlib.figure.Figure object at 0x00000000404F4748>)"
      ]
     },
     "metadata": {},
     "output_type": "display_data"
    },
    {
     "name": "stdout",
     "output_type": "stream",
     "text": [
      "radius of museum is: 194.02852679380186\n",
      "location of center is: [244.029, 244.029]\n"
     ]
    }
   ],
   "source": [
    "using JuMP, Clp\n",
    "\n",
    "A = [-1 0; 0 -1; 0 1; 2/3 1; 3 -1]\n",
    "b = [0; 0; 5; 7; 15 ]*100\n",
    "\n",
    "m = Model(solver=ClpSolver())\n",
    "@variable(m, r >= 0)\n",
    "@variable(m, x[1:2])\n",
    "for i = 1:size(A,1)\n",
    "    @constraint(m, A[i,:]'*x + (r+50)*norm(A[i,:]) <= b[i])\n",
    "end\n",
    "@objective(m,Max,r)\n",
    "solve(m)\n",
    "ropt = getvalue(r)\n",
    "xopt = getvalue(x)\n",
    "\n",
    "println(\"radius of museum is: \", ropt)\n",
    "println(\"location of center is: \", xopt)\n",
    "\n",
    "\n",
    "figure(figsize=(6,5))\n",
    "\n",
    "θ = linspace(0,2π,50)\n",
    "plot(xopt[1] + ropt*cos.(θ), xopt[2] + ropt*sin.(θ), \"r-\")\n",
    "plot(xopt[1] + (ropt+50)*cos.(θ), xopt[2] + (ropt+50)*sin.(θ), \"r:\")\n",
    "\n",
    "plot_site()\n",
    "\n",
    "legend([\"museum\", \"max circle\"]);"
   ]
  },
  {
   "cell_type": "code",
   "execution_count": null,
   "metadata": {},
   "outputs": [],
   "source": []
  }
 ],
 "metadata": {
  "kernelspec": {
   "display_name": "Julia 0.6.2",
   "language": "julia",
   "name": "julia-0.6"
  },
  "language_info": {
   "file_extension": ".jl",
   "mimetype": "application/julia",
   "name": "julia",
   "version": "0.6.2"
  }
 },
 "nbformat": 4,
 "nbformat_minor": 1
}
