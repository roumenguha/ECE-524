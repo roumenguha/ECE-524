{
 "cells": [
  {
   "cell_type": "markdown",
   "metadata": {},
   "source": [
    "# CS/ECE/ISyE 524 - Spr 2018 - HW 8 - Solutions\n",
    "### Prepared by: Laurent Lessard"
   ]
  },
  {
   "cell_type": "markdown",
   "metadata": {},
   "source": [
    "# 1. Thrift store\n",
    "\n",
    "How should you make change for 99 cents if the goal is to minimize the total weight of the coins used? The following table shows the weight of each type of coin. You may use any number of each type of coin.\n",
    "\n",
    "| Type of coin | penny | nickel | dime | quarter |\n",
    "|:------------:|:-----:|:------:|:----:|:-------:|\n",
    "|Weight (grams)| 2.500 |  5.000 |2.268 |  5.670  |"
   ]
  },
  {
   "cell_type": "code",
   "execution_count": 2,
   "metadata": {},
   "outputs": [
    {
     "name": "stdout",
     "output_type": "stream",
     "text": [
      "x: 1 dimensions:\n",
      "[  penny] = 4.0\n",
      "[ nickel] = 0.0\n",
      "[   dime] = 2.0\n",
      "[quarter] = 3.0\n",
      "31.546\n"
     ]
    }
   ],
   "source": [
    "coinType = [ :penny, :nickel, :dime, :quarter ]\n",
    "\n",
    "# problem data (we'll use a dictionary here)\n",
    "weights = Dict( :penny => 2.500, :nickel => 5.000, :dime => 2.268, :quarter => 5.670 )\n",
    "values  = Dict( :penny => 1    , :nickel => 5    , :dime => 10   , :quarter => 25    )\n",
    "\n",
    "using JuMP, Cbc\n",
    "m = Model(solver = CbcSolver())\n",
    "\n",
    "@variable(m, x[coinType] >= 0, Int)\n",
    "@constraint(m, sum( x[i] * values[i] for i in coinType ) == 99 )\n",
    "@objective(m, Min, sum( x[i] * weights[i] for i in coinType ) )\n",
    "solve(m)\n",
    "\n",
    "println(getvalue(x))\n",
    "println(getobjectivevalue(m))"
   ]
  },
  {
   "cell_type": "markdown",
   "metadata": {},
   "source": [
    "# 2. Checked luggage.\n",
    "\n",
    "You're trying to pack as many souvenirs as possible to bring home from your trip, but your suitcase has a limited capacity. It can hold a maximum of 30 pounds of weight and 15 gallons of volume. Which souvenirs should you pack? The weights and volumes are as follows:\n",
    "\n",
    "|Souvenir number |1 |2 |3 |4 |5 |6 |7 |8 |9 |10|\n",
    "|:---------------|--|--|--|--|--|--|--|--|--|--|\n",
    "|Weight (lbs)    |5 |6 |7 |6 |4 |6 |7 |3 |8 |5 |\n",
    "|Volume (gal)    |2 |4 |5 |3 |3 |2 |3 |1 |2 |4 |"
   ]
  },
  {
   "cell_type": "code",
   "execution_count": 3,
   "metadata": {},
   "outputs": [
    {
     "name": "stdout",
     "output_type": "stream",
     "text": [
      "[1.0, 0.0, 0.0, 1.0, 1.0, 1.0, 0.0, 1.0, 0.0, 1.0]\n",
      "6.0\n"
     ]
    }
   ],
   "source": [
    "# problem data (we'll use an aray here)\n",
    "weights = [ 5, 6, 7, 6, 4, 6, 7, 3, 8, 5 ]\n",
    "volumes = [ 2, 4, 5, 3, 3, 2, 3, 1, 2, 4 ]\n",
    "n = length(volumes) # total number of souvenirs\n",
    "\n",
    "using JuMP, Cbc\n",
    "m = Model(solver = CbcSolver())\n",
    "\n",
    "@variable(m, x[1:n], Bin)\n",
    "@constraint(m, sum( x[i] * weights[i] for i=1:n ) <= 30 )\n",
    "@constraint(m, sum( x[i] * volumes[i] for i=1:n ) <= 15 )\n",
    "@objective(m, Max, sum(x) )\n",
    "solve(m)\n",
    "\n",
    "println(getvalue(x))\n",
    "println(getobjectivevalue(m))"
   ]
  },
  {
   "cell_type": "markdown",
   "metadata": {},
   "source": [
    "# 3. Comquat Computers\n",
    "\n",
    "Comquat owns four production plants at which personal computers are produced. Comquat can sell up to 20,000 computers per year at a price of \\$3,500 per computer. For each plant the production capacity, cost per computer, and fixed cost of operating the plant for a year are given below. Determine how Comquat can maximize its yearly profit from computer production.\n",
    "\n",
    "| Plant | Production capacity | Plant fixed cost (\\$ Million) | Cost per computer (\\$) |\n",
    "|:-----:|:-------------------:|:-----------------------------:|:----------------------:|\n",
    "| 1     | 10,000              |   9                           |  1,000                 |\n",
    "| 2     |  8,000              |   5                           |  1,700                 |\n",
    "| 3     |  9,000              |   3                           |  2,300                 |\n",
    "| 4     |  6,000              |   1                           |  2,900                 |"
   ]
  },
  {
   "cell_type": "code",
   "execution_count": 4,
   "metadata": {},
   "outputs": [
    {
     "name": "stdout",
     "output_type": "stream",
     "text": [
      "The maximal profit is: 2.56e7\n",
      "Here is a tally of factory number, whether it's open or not, and how many computers it should produce.\n"
     ]
    },
    {
     "data": {
      "text/plain": [
       "4×3 Array{Float64,2}:\n",
       " 1.0  1.0  10000.0\n",
       " 2.0  1.0   8000.0\n",
       " 3.0  0.0      0.0\n",
       " 4.0  1.0   2000.0"
      ]
     },
     "execution_count": 4,
     "metadata": {},
     "output_type": "execute_result"
    }
   ],
   "source": [
    "using JuMP, Cbc\n",
    "m = Model(solver = CbcSolver())\n",
    "\n",
    "price     = 3.5e3                       # price at which we can sell a single computer (regardless of where it is produced)\n",
    "cap       = 20000                       # maximum computers that can be sold per year\n",
    "\n",
    "capacity  = [10000, 8000, 9000, 6000]   # production capacity for each plant\n",
    "fixedcost = [9e6, 5e6, 3e6, 1e6]        # fixed cost for each plant\n",
    "itemcost  = [1e3, 1.7e3, 2.3e3, 2.9e3]  # cost per computer for each factory\n",
    "\n",
    "@variable(m, z[1:4], Bin)   # indicator variables: is plant i on or off?\n",
    "@variable(m, x[1:4] >= 0)   # number of computers produced at each of the plants\n",
    "\n",
    "# production constraints on each plant\n",
    "@constraint(m, x .<= capacity)\n",
    "\n",
    "# total production capacity constraint\n",
    "@constraint(m, sum(x) <= cap)\n",
    "\n",
    "# logic constraint: if z[i]=0 then we must have x[i]=0\n",
    "@constraint(m, x .<= capacity .* z)\n",
    "\n",
    "# expenses (item costs + fixed costs)\n",
    "@expression(m, expenses, sum( itemcost[i]*x[i] for i in 1:4) + sum( fixedcost[i]*z[i] for i in 1:4) )\n",
    "\n",
    "# revenue (from selling items)\n",
    "@expression(m, revenue, price*sum(x))\n",
    "\n",
    "# MAXIMIZE PROFIT (revenue - expenses)\n",
    "@objective(m, Max, revenue - expenses)\n",
    "\n",
    "solve(m)\n",
    "println(\"The maximal profit is: \", getobjectivevalue(m))\n",
    "println(\"Here is a tally of factory number, whether it's open or not, and how many computers it should produce.\")\n",
    "getvalue([1:4 z x])"
   ]
  },
  {
   "cell_type": "markdown",
   "metadata": {},
   "source": [
    "# 4. ABC Investments\n",
    "\n",
    "ABC Inc. is considering several investment options.  Each option has a minimum investment required as well as a maximum investment allowed. These restrictions, along with the expected return are summarized in the following table (figures are in millions of dollars):\n",
    "\n",
    "|Option | Minimum investment | Maximum investment | Expected return (%)  |\n",
    "|:-----:|:------------------:|:------------------:|:--------------------:|\n",
    "|  1    |      3             |      27            |     13               |\n",
    "|  2    |      2             |      12            |      9               |\n",
    "|  3    |      9             |      35            |     17               |\n",
    "|  4    |      5             |      15            |     10               |\n",
    "|  5    |     12             |      46            |     22               |\n",
    "|  6    |      4             |      18            |     12               |\n",
    "\n",
    "Because of the high-risk nature of Option 5, company policy requires that the total amount invested in Option 5 be no more that the combined amount invested in Options 2, 4 and 6.  In addition, if an investment is made in Option 3, it is required that at least a minimum investment be made in Option 6.  ABC has \\$80 million to invest and obviously wants to maximize its total expected return on investment.  Which options should ABC invest in, and how much should be invested?"
   ]
  },
  {
   "cell_type": "code",
   "execution_count": 5,
   "metadata": {},
   "outputs": [
    {
     "name": "stdout",
     "output_type": "stream",
     "text": [
      "The maximum return on investment (net profit) is: $13.5 million.\n",
      "This is an average return of: 16.875 %\n",
      "Here is a tally of each investment, whether we invest or not, and how much we invest (in millions of $).\n"
     ]
    },
    {
     "data": {
      "text/plain": [
       "6×3 Array{Float64,2}:\n",
       " 1.0  0.0   0.0\n",
       " 2.0  0.0   0.0\n",
       " 3.0  1.0  35.0\n",
       " 4.0  1.0   5.0\n",
       " 5.0  1.0  22.5\n",
       " 6.0  1.0  17.5"
      ]
     },
     "execution_count": 5,
     "metadata": {},
     "output_type": "execute_result"
    }
   ],
   "source": [
    "using JuMP, Cbc\n",
    "m = Model(solver = CbcSolver())\n",
    "\n",
    "lows  = [  3,  2,  9,  5, 12,  4 ]  # minimum investment\n",
    "highs = [ 27, 12, 35, 15, 46, 18 ]  # maximum investment\n",
    "ret   = [ 13,  9, 17, 10, 22, 12 ]  # expected return\n",
    "\n",
    "@variable(m, x[1:6] >= 0)             # amount invested in each option\n",
    "@variable(m, z[1:6], Bin)             # indicator variable: do we invest in option i or not?\n",
    "\n",
    "@constraint(m, sum(x) <= 80)     # total investment limit\n",
    "\n",
    "# option 5 is no more than combined amounts from options 2, 4, and 6\n",
    "@constraint(m, x[5] <= x[2] + x[4] + x[6])\n",
    "\n",
    "# if there is an investment in option 3, we must invest in option 6.\n",
    "# in other words: if z[3] = 1, then z[6] = 1.\n",
    "@constraint(m, z[3] <= z[6])\n",
    "\n",
    "# variable lower bounds (if z=0 then x=0. if z=1 then low <= x <= hi)\n",
    "for i = 1:6\n",
    "    @constraint(m, lows[i]*z[i] <= x[i]  )\n",
    "    @constraint(m, x[i] <= highs[i]*z[i] )\n",
    "end\n",
    "\n",
    "@expression(m, expectedReturn, sum( x[i] * ret[i]/100 for i = 1:6) )\n",
    "\n",
    "@objective(m, Max, expectedReturn)\n",
    "\n",
    "solve(m)\n",
    "println(\"The maximum return on investment (net profit) is: \\$\", getobjectivevalue(m), \" million.\")\n",
    "println(\"This is an average return of: \", 100*getobjectivevalue(m)/getvalue(sum(x)), \" %\")\n",
    "println(\"Here is a tally of each investment, whether we invest or not, and how much we invest (in millions of \\$).\")\n",
    "getvalue([1:6 z x])"
   ]
  }
 ],
 "metadata": {
  "kernelspec": {
   "display_name": "Julia 0.6.2",
   "language": "julia",
   "name": "julia-0.6"
  },
  "language_info": {
   "file_extension": ".jl",
   "mimetype": "application/julia",
   "name": "julia",
   "version": "0.6.2"
  }
 },
 "nbformat": 4,
 "nbformat_minor": 1
}
