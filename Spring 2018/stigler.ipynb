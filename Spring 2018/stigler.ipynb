{
 "cells": [
  {
   "cell_type": "code",
   "execution_count": 1,
   "metadata": {
    "scrolled": true
   },
   "outputs": [],
   "source": [
    "# STARTER CODE FOR STIGLER'S DIET PROBLEM\n",
    "using NamedArrays\n",
    "\n",
    "# import Stigler's data set\n",
    "raw = readcsv(\"stigler.csv\")\n",
    "(m,n) = size(raw)\n",
    "\n",
    "n_nutrients = 2:n      # columns containing nutrients\n",
    "n_foods = 3:m          # rows containing food names\n",
    "\n",
    "nutrients = raw[1,n_nutrients][:]   # the list of nutrients (convert to 1-D array)\n",
    "foods = raw[n_foods,1][:]           # the list of foods (convert to 1-D array)\n",
    "\n",
    "# lower[i] is the minimum daily requirement of nutrient i.\n",
    "lower = Dict( zip(nutrients,raw[2,n_nutrients]) )\n",
    "\n",
    "# data[f,i] is the amount of nutrient i contained in food f.\n",
    "data = NamedArray( raw[n_foods,n_nutrients], (foods,nutrients), (\"foods\",\"nutrients\") );"
   ]
  }
 ],
 "metadata": {
  "kernelspec": {
   "display_name": "Julia 0.6.2",
   "language": "julia",
   "name": "julia-0.6"
  },
  "language_info": {
   "file_extension": ".jl",
   "mimetype": "application/julia",
   "name": "julia",
   "version": "0.6.2"
  }
 },
 "nbformat": 4,
 "nbformat_minor": 1
}
