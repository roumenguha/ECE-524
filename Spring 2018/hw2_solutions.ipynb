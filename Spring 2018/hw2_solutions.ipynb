{
 "cells": [
  {
   "cell_type": "markdown",
   "metadata": {},
   "source": [
    "# CS/ECE/ISyE 524 - Spr 2018 - HW 2 - Solutions\n",
    "### Prepared by: Laurent Lessard"
   ]
  },
  {
   "cell_type": "markdown",
   "metadata": {},
   "source": [
    "---\n",
    "## 1. Polyhedron modeling\n",
    "\n",
    "We saw that the set of $x$ such that $Ax \\le b$ where $A \\in \\mathbb{R}^{m\\times n}$ and $b\\in \\mathbb{R}^m$\n",
    "describes a polyhedron. For each polyhedron below, find a matrix $A$ and vector $b$ such that $Ax \\le b$\n",
    "describes the polyhedron. Hint: since each inequality describes a different face, $m$ should be equal to\n",
    "the number of faces. Make sure the inequalities go the right way!\n",
    "\n",
    "**a)** Cube centered at the origin with vertices at $(\\pm 1,\\pm 1,\\pm 1)$.\n",
    "\n",
    "**b)** Octahedron centered at the origin with vertices at $(\\pm 1,0,0)$, $(0,\\pm 1,0)$, $(0,0,\\pm 1)$."
   ]
  },
  {
   "cell_type": "markdown",
   "metadata": {},
   "source": [
    "**Solution for the cube**\n",
    "For the cube, each face is given by a constraint on just one variable. For example, we have the faces $x \\le 1$, $x \\ge -1$, and similarly for $y$ and $z$. We can also write them as box constraints: $-1\\le x\\le 1$, and similarly for $y$ and $z$. To convert to standard inequalities, we need to put all the variables on the same side with the inequality sign going the same way. In other words: $x \\le 1$, $-x \\le 1$, and so on. Converting into matrices and vectors, we have:\n",
    "$$\n",
    "\\begin{bmatrix}\n",
    "1 & 0 & 0 \\\\\n",
    "-1 & 0 & 0 \\\\\n",
    "0 & 1 & 0 \\\\\n",
    "0 & -1 & 0 \\\\\n",
    "0 & 0 & 1 \\\\\n",
    "0 & 0 & -1 \\end{bmatrix}\n",
    "\\begin{bmatrix} x \\\\ y \\\\ z \\end{bmatrix}\n",
    "\\le \\begin{bmatrix} 1 \\\\ 1 \\\\ 1 \\\\ 1 \\\\ 1 \\\\ 1 \\end{bmatrix}\n",
    "\\qquad\\text{(for the cube)}\n",
    "$$\n",
    "Note that we can also rearrange the rows of $A$ (and correspondingly rearrange the rows of $b$) and the result doesn't change. This amounts to writing the six inequalities in a different order, which makes no difference.\n",
    "\n",
    "**Solution for the octahedron**\n",
    "For the octahedron, each face is a hyperplane with a normal vector that is $(\\pm 1, \\pm 1, \\pm 1)$. So each of the 8 faces is a different combination of +'s and -'s. To figure out the $b$ vectors, we can go one face at a time. The halfspace corresponding to all positive coordinates has equation $x+y+z\\le 1$. The face opposite it has equation $x+y+z \\ge -1$, which we can rearrange to $-x-y-z\\le 1$. Proceeding in a similar fashion for the six other faces, we obtain the equations:\n",
    "$$\n",
    "\\begin{bmatrix}\n",
    "1 & 1 & 1 \\\\\n",
    "1 & 1 & -1 \\\\\n",
    "1 & -1 & 1 \\\\\n",
    "1 & -1 & -1 \\\\\n",
    "-1 & 1 & 1 \\\\\n",
    "-1 & 1 & -1 \\\\\n",
    "-1 & -1 & 1 \\\\\n",
    "-1 & -1 & -1 \n",
    "\\end{bmatrix}\n",
    "\\begin{bmatrix} x \\\\ y \\\\ z \\end{bmatrix}\n",
    "\\le \\begin{bmatrix} 1 \\\\ 1 \\\\ 1 \\\\ 1 \\\\ 1 \\\\ 1 \\\\1 \\\\1\\end{bmatrix}\n",
    "\\qquad\\text{(for the octahedron)}$$"
   ]
  },
  {
   "cell_type": "markdown",
   "metadata": {},
   "source": [
    "---\n",
    "## 2. Standard form with equality constraints\n",
    "\n",
    "Rather than using the standard LP form we saw in class, some prefer using a form where all variables are nonnegative, all constraints are equality constraints, and the cost function is a minimization. So a general LP would look like:\n",
    "\n",
    "$$\\begin{aligned}\n",
    "\\text{minimize} \\qquad& c^Tx \\\\\n",
    "\\text{subject to:} \\qquad& Ax = b \\\\\n",
    "& x \\ge 0\\\\\n",
    "\\end{aligned}$$\n",
    "\n",
    "Consider the following LP:\n",
    "$$\\begin{aligned}\n",
    "\\text{maximize} \\qquad& 3z_1 - z_2 \\\\\n",
    "\\text{subject to:} \\qquad& -z_1 + 6z_2 - z_3 + z_4 \\ge -3\\\\\n",
    "& 7z_2 + z_4 = 5 \\\\\n",
    "& z_3 + z_4 \\le 2 \\\\\n",
    "& -1 \\le z_2 \\le 5,\\quad -1 \\le z_3 \\le 5,\\quad -2 \\le z_4 \\le 2\n",
    "\\end{aligned}$$\n",
    "\n",
    "**a)** Transform the above LP into the equality-constrained standard form of (1). What are A, b, c,\n",
    "and x? Be sure to explain how the decision variables of your transformed LP relate to those of\n",
    "the original LP \n",
    "\n",
    "**b)** Solve both versions of the LP using JuMP and show that you can recover the optimal z and\n",
    "objective value by solving your transformed version of the LP."
   ]
  },
  {
   "cell_type": "markdown",
   "metadata": {},
   "source": [
    "We have omitted the details for part a. The solution to part b is given below."
   ]
  },
  {
   "cell_type": "code",
   "execution_count": 7,
   "metadata": {},
   "outputs": [
    {
     "name": "stdout",
     "output_type": "stream",
     "text": [
      "Max 3 z[1] - z[2]\n",
      "Subject to\n",
      " -1 <= z[2] <= 5\n",
      " -1 <= z[3] <= 5\n",
      " -2 <= z[4] <= 2\n",
      " -z[1] + 6 z[2] - z[3] + z[4] >= -3\n",
      " z[3] + z[4] <= 2\n",
      " 7 z[2] + z[4] == 5\n",
      " z[i] for all i in {1,2,3,4}\n",
      "\n",
      "Optimal\n",
      "\n",
      "z[1] = 8.571428571428571\n",
      "z[2] = 0.42857142857142855\n",
      "z[3] = -1.0\n",
      "z[4] = 2.0\n",
      "objective = 25.28571428571429\n"
     ]
    }
   ],
   "source": [
    "# Solution of the original problem\n",
    "\n",
    "using JuMP,Clp\n",
    "m = Model(solver=ClpSolver())\n",
    "\n",
    "@variable(m, z[1:4] )\n",
    "@constraints(m, begin\n",
    "    -1 <= z[2] <= 5\n",
    "    -1 <= z[3] <= 5\n",
    "    -2 <= z[4] <= 2\n",
    "    -z[1] + 6z[2] - z[3] + z[4] >= -3\n",
    "    z[3] + z[4] <= 2\n",
    "    7z[2] + z[4] == 5\n",
    "end)\n",
    "@objective(m, Max, 3z[1] - z[2])\n",
    "\n",
    "status = solve(m)\n",
    "println(m)\n",
    "println(status)\n",
    "println()\n",
    "for i = 1:4\n",
    "    println(\"z[\", i, \"] = \", getvalue(z[i]) )\n",
    "end\n",
    "println(\"objective = \", getobjectivevalue(m) )"
   ]
  },
  {
   "cell_type": "code",
   "execution_count": 8,
   "metadata": {},
   "outputs": [
    {
     "name": "stdout",
     "output_type": "stream",
     "text": [
      "Min -3 x[1] + 0.8333333333333333 x[2] - 0.16666666666666666 x[3]\n",
      "Subject to\n",
      " x[4] + x[5] == 6\n",
      " x[2] + x[3] == 6\n",
      " x[6] + x[7] == 4\n",
      " x[1] - 5 x[2] + x[3] + 0.8333333333333333 x[4] - 0.16666666666666666 x[5] - 0.5 x[6] + 0.5 x[7] + x[8] == 3\n",
      " 5.833333333333333 x[2] - 1.1666666666666665 x[3] + 0.5 x[6] - 0.5 x[7] == 5\n",
      " 0.8333333333333333 x[4] - 0.16666666666666666 x[5] + 0.5 x[6] - 0.5 x[7] + x[9] == 2\n",
      " x[i] >= 0 for all i in {1,2,..,8,9}\n",
      "\n",
      "Optimal\n",
      "\n",
      "z[1] = 8.571428571428571\n",
      "z[2] = 0.4285714285714286\n",
      "z[3] = -1.0\n",
      "z[4] = 2.0\n",
      "objective = 25.28571428571429\n"
     ]
    }
   ],
   "source": [
    "# Solution of the new version of the problem\n",
    "\n",
    "using JuMP, Clp\n",
    "m = Model(solver=ClpSolver())\n",
    "\n",
    "@variable(m, x[1:9] >= 0 )\n",
    "@constraints(m, begin\n",
    "    x[4] + x[5] == 6\n",
    "    x[2] + x[3] == 6\n",
    "    x[6] + x[7] == 4\n",
    "    x[1]-5x[2]+x[3]+(5/6)x[4]-(1/6)x[5]-(1/2)x[6]+(1/2)x[7]+x[8] == 3\n",
    "    (35/6)x[2]-(7/6)x[3]+(1/2)x[6]-(1/2)x[7] == 5\n",
    "    (5/6)x[4]-(1/6)x[5]+(1/2)x[6]-(1/2)x[7]+x[9] == 2\n",
    "end)\n",
    "@objective(m, Min, -3x[1] + (5/6)x[2] - (1/6)x[3] )\n",
    "\n",
    "status = solve(m)\n",
    "println(m)\n",
    "println(status)\n",
    "println()\n",
    "println(\"z[1] = \", getvalue( x[1] ))\n",
    "println(\"z[2] = \", getvalue( (5/6)x[2] - (1/6)x[3]) )\n",
    "println(\"z[3] = \", getvalue( (5/6)x[4] - (1/6)x[5]) )\n",
    "println(\"z[4] = \", getvalue( (1/2)x[6] - (1/2)x[7]) )\n",
    "println(\"objective = \", -getobjectivevalue(m) )"
   ]
  },
  {
   "cell_type": "code",
   "execution_count": 9,
   "metadata": {},
   "outputs": [
    {
     "name": "stdout",
     "output_type": "stream",
     "text": [
      "Min -3 x[1] + 0.8333333333333334 x[2] - 0.16666666666666666 x[3]\n",
      "Subject to\n",
      " x[4] + x[5] == 6\n",
      " x[2] + x[3] == 6\n",
      " x[6] + x[7] == 4\n",
      " x[1] - 5 x[2] + x[3] + 0.8333333333333334 x[4] - 0.16666666666666666 x[5] - 0.5 x[6] + 0.5 x[7] + x[8] == 3\n",
      " 5.833333333333333 x[2] - 1.1666666666666667 x[3] + 0.5 x[6] - 0.5 x[7] == 5\n",
      " 0.8333333333333334 x[4] - 0.16666666666666666 x[5] + 0.5 x[6] - 0.5 x[7] + x[9] == 2\n",
      " x[i] >= 0 for all i in {1,2,..,8,9}\n",
      "\n",
      "Optimal\n",
      "\n",
      "z[1] = 8.571428571428571\n",
      "z[2] = 0.4285714285714286\n",
      "z[3] = -1.0\n",
      "z[4] = 2.0\n",
      "objective = 25.28571428571429\n"
     ]
    }
   ],
   "source": [
    "# Solution of the new version of the problem (condensed form)\n",
    "\n",
    "using JuMP, Clp\n",
    "m = Model(solver=ClpSolver())\n",
    "\n",
    "@variable(m, x[1:9] >= 0 )\n",
    "\n",
    "A = [ 0   0    0    1    1    0    0    0    0\n",
    "      0   1    1    0    0    0    0    0    0\n",
    "      0   0    0    0    0    1    1    0    0\n",
    "      1  -5    1   5/6 -1/6 -1/2  1/2   1    0\n",
    "      0  35/6 -7/6  0    0   1/2 -1/2   0    0\n",
    "      0   0    0   5/6 -1/6  1/2 -1/2   0    1 ]\n",
    "\n",
    "b = [ 6; 6; 4; 3; 5; 2 ]\n",
    "\n",
    "c = [ -3; 5/6; -1/6; 0; 0; 0; 0; 0; 0 ]\n",
    "\n",
    "@constraint(m, A*x .== b)\n",
    "@objective(m, Min, dot(c,x))\n",
    "\n",
    "status = solve(m)\n",
    "println(m)\n",
    "println(status)\n",
    "println()\n",
    "println(\"z[1] = \", getvalue( x[1]) )\n",
    "println(\"z[2] = \", getvalue( (5/6)x[2] - (1/6)x[3]) )\n",
    "println(\"z[3] = \", getvalue( (5/6)x[4] - (1/6)x[5]) )\n",
    "println(\"z[4] = \", getvalue( (1/2)x[6] - (1/2)x[7]) )\n",
    "println(\"objective = \", -getobjectivevalue(m) )"
   ]
  },
  {
   "cell_type": "markdown",
   "metadata": {},
   "source": [
    "---\n",
    "## 3. Alloy blending\n",
    "\n",
    "The company Steelco has received an order for 500 tonnes of steel to be used in shipbuilding.  The steel must have the following charactersitics:\n",
    "\n",
    "| Chemical Element | Minimum Grade | Maximum Grade |\n",
    "|------------------|---------------|---------------|\n",
    "| Carbon (C)       | 2             | 3             |\n",
    "| Copper (Cu)      | 0.4           | 0.6           |\n",
    "| Manganese (Mn)   | 1.2           | 1.65          |\n",
    "\n",
    "The company has seven different raw materials in stock that may be used for the production of this steel. The following table lists the grades, available amounts and prices for all materials:\n",
    "\n",
    "| Raw Material | C%     | Cu%    | Mn%    | Availability in t | Cost in $/t  |\n",
    "|--------------|--------|--------|--------|-------------------|--------------|\n",
    "| Iron1        | 2.5    | 0      | 1.3    | 400               | 200          |\n",
    "| Iron2        | 3      | 0      | 0.8    | 300               | 250          |\n",
    "| Iron3        | 0      | 0.3    | 0      | 600               | 150          |\n",
    "| Cu1          | 0      | 90     | 0      | 500               | 220          |\n",
    "| Cu2          | 0      | 96     | 4      | 200               | 240          |\n",
    "| Al1          | 0      | 0.4    | 1.2    | 300               | 200          |\n",
    "| Al2          | 0      | 0.6    | 0      | 250               | 165          |\n",
    "\n",
    "The objective is to determine the composition of the steel that minimizes the production cost."
   ]
  },
  {
   "cell_type": "code",
   "execution_count": 1,
   "metadata": {},
   "outputs": [],
   "source": [
    "# store all the data for the problem\n",
    "\n",
    "raw = [ :iron1, :iron2, :iron3, :cu1, :cu2, :al1, :al2 ]\n",
    "\n",
    "# composition (in percent) of [C, Cu, Mn]\n",
    "composition = Dict(\n",
    ":iron1 => [2.5, 0,  1.3],\n",
    ":iron2 => [3,   0,  0.8],\n",
    ":iron3 => [0,  0.3,  0 ],\n",
    ":cu1   => [0,  90,   0 ],\n",
    ":cu2   => [0,  96,   4 ],\n",
    ":al1   => [0,  0.4, 1.2],\n",
    ":al2   => [0,  0.6,  0 ])\n",
    "\n",
    "# availability in tonnes\n",
    "availability = Dict(\n",
    ":iron1 => 400,\n",
    ":iron2 => 300,\n",
    ":iron3 => 600,\n",
    ":cu1   => 500,\n",
    ":cu2   => 200,\n",
    ":al1   => 300,\n",
    ":al2   => 250)\n",
    "\n",
    "# cost in dollars per tonne\n",
    "cost = Dict(\n",
    ":iron1 => 200,\n",
    ":iron2 => 250,\n",
    ":iron3 => 150,\n",
    ":cu1   => 220,\n",
    ":cu2   => 240,\n",
    ":al1   => 200,\n",
    ":al2   => 165)\n",
    "\n",
    "# minimum and maximum grade of [C, Cu, Mn]\n",
    "MinGrade = [2, 0.4, 1.2]\n",
    "MaxGrade = [3, 0.6, 1.65]\n",
    ";"
   ]
  },
  {
   "cell_type": "code",
   "execution_count": 2,
   "metadata": {},
   "outputs": [
    {
     "name": "stdout",
     "output_type": "stream",
     "text": [
      "use: 1 dimensions:\n",
      "[iron1] = 400.0\n",
      "[iron2] = 0.0\n",
      "[iron3] = 39.77630199231041\n",
      "[  cu1] = 0.0\n",
      "[  cu2] = 2.7612722824187346\n",
      "[  al1] = 57.46242572527083\n",
      "[  al2] = 0.0\n",
      "The cost will be $98121.63579168123\n"
     ]
    }
   ],
   "source": [
    "using JuMP,Clp\n",
    "\n",
    "m = Model(solver=ClpSolver())\n",
    "@variable(m, use[raw] >= 0)   # amount of each raw material to use (in tonnes)\n",
    "@expression(m, production, sum(use))\n",
    "@constraint(m, avail[i in raw], use[i] <= availability[i])\n",
    "@constraint(m, sum(composition[i]*use[i] for i in raw) .>= MinGrade*production)\n",
    "@constraint(m, sum(composition[i]*use[i] for i in raw) .<= MaxGrade*production)\n",
    "@constraint(m, production >= 500)\n",
    "@objective(m, Min, sum(cost[i]*use[i] for i in raw))\n",
    "solve(m)\n",
    "println(getvalue(use))\n",
    "println(\"The cost will be \\$\", getobjectivevalue(m))"
   ]
  },
  {
   "cell_type": "markdown",
   "metadata": {},
   "source": [
    "## 4. Stigler's diet\n",
    "\n",
    "True story! In 1945, American economist (and future Nobel laureate) George Stigler published a paper investigating the composition of an _optimal_ diet; minimizing total cost while meeting the recommended daily allowance (RDA) of several nutrients. To answer this question, Stigler tabulated a list of 77 foods and their nutrient content for 9 nutrients: calories, protein, calcium, iron, vitamin A, thiamine, riboflavin, niacin, and ascorbic acid. Here is what the first few rows and columns of his table looked like:\n",
    "\n",
    "|\t\t\t\t\t\t| Calories (1000)\t| Protein (g)\t| Calcium (g) \t| Iron (mg) | ... |\n",
    "|-----------------------|-------------------|---------------|---------------|-----------|-----|\n",
    "|Wheat Flour (Enriched) | 44.7\t\t\t\t| 1411\t\t\t| 2\t\t\t\t| 365\t\t| ... |\n",
    "|Macaroni\t\t\t\t| 11.6\t\t\t\t| 418\t\t\t| 0.7\t\t\t| 54\t\t| ... |\n",
    "|Wheat Cereal (Enriched)| 11.8\t\t\t\t| 377\t\t\t| 14.4\t\t\t| 175\t\t| ... |\n",
    "| ...\t\t\t        | ...\t\t        | ... \t\t    | ... \t\t    | ...\t    | ... |\n",
    "\n",
    "\n",
    "To make calculations easier, Stigler normalized his data so each row shows the nutrients contained in \\$1's worth of the given food item. Back then, \\$1 could buy you quite a lot!\n",
    "\n",
    "When Stigler posed his diet problem, the simplex method had not yet been invented. In his paper, he wrote: \"...the procedure is experimental because there does not appear to be any direct method of finding the minimum of a linear function subject to linear conditions.\" Nevertheless, through a combination of \"trial and error, mathematical insight, and agility\", he eventually arrived at a solution: a diet costing only \\$39.93 per year. Though he confessed: \"There is no reason to believe that the cheapest combination was found, for only a handful of the [many] possible combinations of commodities were examined.\"\n",
    "\n",
    "**a)** Formulate Stigler's diet problem as an LP and solve it. To get you started, Stigler's original data is provided in `stigler.csv`, and the IJulia notebook `stigler.ipynb` imports the data and puts it into a convenient array format. How does your cheapest diet compare in annual cost to Stigler's? What foods make up your optimal diet?\n",
    "\n",
    "**b)** Suppose we wanted to find the cheapest diet that was also vegetarian. How much would that cost per year, and what foods would be used?"
   ]
  },
  {
   "cell_type": "code",
   "execution_count": 10,
   "metadata": {},
   "outputs": [],
   "source": [
    "using NamedArrays\n",
    "\n",
    "# import Stigler's data set\n",
    "raw = readcsv(\"stigler.csv\");\n",
    "(m,n) = size(raw)\n",
    "\n",
    "n_nutrients = 2:n      # columns containing nutrients\n",
    "n_foods = 3:m          # rows containing food names\n",
    "\n",
    "nutrients = raw[1,n_nutrients][:]   # the list of nutrients (convert to 1-D array)\n",
    "foods = raw[n_foods,1][:]           # the list of foods (convert to 1-D array)\n",
    "\n",
    "# lower[i] is the minimum daily requirement of nutrient i.\n",
    "lower = Dict( zip(nutrients,raw[2,n_nutrients]) )\n",
    "\n",
    "# data[f,i] is the amount of nutrient i contained in food f.\n",
    "data = NamedArray( raw[n_foods,n_nutrients], (foods,nutrients), (\"foods\",\"nutrients\") );"
   ]
  },
  {
   "cell_type": "code",
   "execution_count": 16,
   "metadata": {},
   "outputs": [
    {
     "name": "stdout",
     "output_type": "stream",
     "text": [
      "The optimal (daily) diet is:\n",
      "Wheat Flour (Enriched): 0.02951906167648827\n",
      "Liver (Beef): 0.0018925572907052643\n",
      "Cabbage: 0.011214435246144865\n",
      "Spinach: 0.005007660466725203\n",
      "Navy Beans, Dried: 0.061028563526693246\n",
      "\n",
      "The cost per year is: $39.66173154546625\n"
     ]
    }
   ],
   "source": [
    "# Write as a linear program and solve!\n",
    "\n",
    "using JuMP,Clp\n",
    "m = Model(solver=ClpSolver())\n",
    "\n",
    "@variable(m, x[foods] >= 0)\n",
    "for j in nutrients\n",
    "    @constraint(m, sum( data[i,j]*x[i] for i in foods ) >= lower[j] )\n",
    "end\n",
    "@objective(m, Min, sum(x))\n",
    "\n",
    "solve(m)\n",
    "println(\"The optimal (daily) diet is:\")\n",
    "xopt = getvalue(x)\n",
    "for i in foods\n",
    "    if xopt[i] > 1e-6\n",
    "        println(i, \": \", xopt[i])\n",
    "    end\n",
    "end\n",
    "println()\n",
    "println(\"The cost per year is: \\$\", 365*getobjectivevalue(m))"
   ]
  },
  {
   "cell_type": "code",
   "execution_count": 17,
   "metadata": {},
   "outputs": [
    {
     "name": "stdout",
     "output_type": "stream",
     "text": [
      "Optimal diet without Beef liver:\n",
      "Wheat Flour (Enriched): 0.035455581408887736\n",
      "Evaporated Milk (can): 0.008591461668763588\n",
      "Cabbage: 0.011249517312443502\n",
      "Spinach: 0.005112832613199644\n",
      "Navy Beans, Dried: 0.048628043573168446\n",
      "\n",
      "The cost per year is: $39.79866435040896\n"
     ]
    }
   ],
   "source": [
    "# to make it vegetarian, we definitely can't have Beef liver. So let's remove it and re-solve:\n",
    "@constraint(m, x[\"Liver (Beef)\"] == 0)\n",
    "solve(m)\n",
    "println(\"Optimal diet without Beef liver:\")\n",
    "xopt = getvalue(x)\n",
    "for i in foods\n",
    "    if xopt[i] > 1e-6\n",
    "        println(i, \": \", xopt[i])\n",
    "    end\n",
    "end\n",
    "println()\n",
    "println(\"The cost per year is: \\$\", 365*getobjectivevalue(m))"
   ]
  },
  {
   "cell_type": "markdown",
   "metadata": {},
   "source": [
    "**Comment:** simply excluding beef liver doesn't guarantee that the resulting solution will be vegetarian. But if it is, it's the optimal vegetarian diet. In general we can do this sequentially by removing non-vegetarian items from our solution and re-solving until we get a vegetarian diet. This will give us the same solution as if we had just gone through the entire list of foods, removed all non-vegetarian items, and solved the problem using the modified list of foods."
   ]
  }
 ],
 "metadata": {
  "kernelspec": {
   "display_name": "Julia 0.6.2",
   "language": "julia",
   "name": "julia-0.6"
  },
  "language_info": {
   "file_extension": ".jl",
   "mimetype": "application/julia",
   "name": "julia",
   "version": "0.6.2"
  }
 },
 "nbformat": 4,
 "nbformat_minor": 1
}
