{
 "cells": [
  {
   "cell_type": "markdown",
   "metadata": {},
   "source": [
    "# CS/ECE/ISyE 524 - Spr 2018 - HW 1 - Solutions\n",
    "### Prepared by: Laurent Lessard"
   ]
  },
  {
   "cell_type": "markdown",
   "metadata": {},
   "source": [
    "---\n",
    "## 1. Warm up\n",
    "Model the following problem in JuMP. \n",
    "\n",
    "$$\\begin{aligned}\n",
    "\\text{maximize}\\qquad& 5x_1 − x_2 + 11x_3\\\\\n",
    "\\text{subject to:}\\qquad& 2x_1 \\ge x_2 + x_3 \\\\\n",
    "& 0 \\le x_j \\le 3, \\ \\ j=1,...,3\n",
    "\\end{aligned}$$\n",
    "\n",
    "Solve this problem using Clp, ECOS, and SCS. Compare the answers found by each solver."
   ]
  },
  {
   "cell_type": "code",
   "execution_count": 6,
   "metadata": {},
   "outputs": [],
   "source": [
    "using JuMP\n",
    "\n",
    "# function that solves the LP k times using the specified solver\n",
    "function solveLP(solver,k)\n",
    "    m = Model(solver=solver)\n",
    "    @variable(m, 0 <= x[1:3] <= 3)\n",
    "    @constraint(m, 2x[1] >= x[2] + x[3] )\n",
    "    @objective(m, Max, 5x[1] - x[2] + 11x[3] )\n",
    "    status = \"\"\n",
    "    for i = 1:k\n",
    "        status = solve(m)\n",
    "    end\n",
    "    println()\n",
    "    println(\"SOLVER: \", m.solver)\n",
    "    println(\"STATUS: \", status)\n",
    "    println(\"x = \", getvalue(x))\n",
    "    println(\"objective = \", getobjectivevalue(m) )\n",
    "end;"
   ]
  },
  {
   "cell_type": "code",
   "execution_count": 8,
   "metadata": {
    "scrolled": false
   },
   "outputs": [
    {
     "name": "stdout",
     "output_type": "stream",
     "text": [
      "\n",
      "SOLVER: Clp.ClpMathProgSolverInterface.ClpSolver(Any[])\n",
      "STATUS: Optimal\n",
      "x = [3.0, 0.0, 3.0]\n",
      "objective = 48.0\n",
      "  0.010426 seconds (4.14 k allocations: 267.828 KiB)\n",
      "\n",
      "SOLVER: ECOS.ECOSSolver(Any[(:verbose, 0)])\n",
      "STATUS: Optimal\n",
      "x = [3.0, 8.22327e-9, 3.0]\n",
      "objective = 47.999999986810174\n",
      "  0.021148 seconds (50.09 k allocations: 2.862 MiB)\n",
      "\n",
      "SOLVER: SCS.SCSSolver(Any[(:verbose, 0)])\n",
      "STATUS: Optimal\n",
      "x = [2.99999, 4.14972e-6, 3.00001]\n",
      "objective = 48.00006780505256\n",
      "  0.042453 seconds (41.01 k allocations: 2.368 MiB)\n"
     ]
    }
   ],
   "source": [
    "using Clp, ECOS, SCS\n",
    "for solver in [ ClpSolver(), ECOSSolver(verbose=0), SCSSolver(verbose=0) ]\n",
    "    @time solveLP(solver,100)\n",
    "end"
   ]
  },
  {
   "cell_type": "markdown",
   "metadata": {},
   "source": [
    "**Comments:** the most accurate solver is Clp, because it is a dedicated LP solver. The other two solvers are less accurate (and slower) because they are using more general algorithms that are less specialized and more boradly applicable."
   ]
  },
  {
   "cell_type": "markdown",
   "metadata": {},
   "source": [
    "---\n",
    "## 2. Crop planning\n",
    "\n",
    "Farmer Jane owns 45 acres of land. She is going to plant each with wheat or corn. Each acre planted with wheat yields \\$200 profit; each with corn yields \\$300 profit. The labor and fertilizer used for each acre are given in the table below. One hundred workers and 120 tons of fertilizer are available. How should Jane plant her crops to maximize profits from her land?\n",
    "\n",
    "|            | Wheat     | Corn      |\n",
    "|:-----------|:----------|:----------|\n",
    "| Labor      | 3 workers | 2 workers |\n",
    "| Fertilizer | 2 tons    | 4 tons    |"
   ]
  },
  {
   "cell_type": "code",
   "execution_count": 9,
   "metadata": {},
   "outputs": [
    {
     "name": "stdout",
     "output_type": "stream",
     "text": [
      "acres of wheat planted: 19.99999999999999\n",
      "acres of corn planted:  20.000000000000007\n",
      "total profit: $10000.0\n"
     ]
    }
   ],
   "source": [
    "using JuMP, Clp\n",
    "\n",
    "m = Model(solver = ClpSolver())\n",
    "\n",
    "@variable(m, wheat >= 0)                   # acres of wheat planted, must be nonnegative\n",
    "@variable(m, corn  >= 0)                   # acres of corn planted, must be nonnegative\n",
    "@constraint(m, wheat + corn <= 45 )        # acreage budget\n",
    "@constraint(m, 3*wheat + 2*corn <= 100 )   # labor budget\n",
    "@constraint(m, 2*wheat + 4*corn <= 120 )   # fertilizer budget\n",
    "@objective(m, Max, 200*wheat + 300*corn )  # maximize profit\n",
    "\n",
    "solve(m)\n",
    "println(\"acres of wheat planted: \", getvalue(wheat))\n",
    "println(\"acres of corn planted:  \", getvalue(corn))\n",
    "println(\"total profit: \\$\", getobjectivevalue(m))"
   ]
  },
  {
   "cell_type": "markdown",
   "metadata": {},
   "source": [
    "**Comments:** Jane should plant 20 acres of wheat and 20 acres of corn. Although the solution returned by Clp isn't *exactly* 20, this is simply due to numerical round-off error. As we see in the geometrical approach, the solution is actually exactly (20,20). Here is a version of the code where the parameters are separated from the solution."
   ]
  },
  {
   "cell_type": "code",
   "execution_count": 11,
   "metadata": {},
   "outputs": [
    {
     "name": "stdout",
     "output_type": "stream",
     "text": [
      "acres of wheat planted: 19.99999999999999\n",
      "acres of corn planted:  20.000000000000007\n",
      "total profit: $10000.0\n"
     ]
    }
   ],
   "source": [
    "using JuMP, Clp\n",
    "\n",
    "# problem parameters\n",
    "\n",
    "acre_budget = 45         # total acres available for wheat and corn\n",
    "\n",
    "labor_budget = 100       # total hours of labor available\n",
    "labor_per_wheat = 3      # hours of labor per acre of wheat\n",
    "labor_per_corn = 2       # hours of labor per acre of corn\n",
    "\n",
    "fert_budget = 120        # total tons of fertilizer available\n",
    "fert_per_wheat = 2       # tons of fertilizer required per acre of wheat\n",
    "fert_per_corn = 4        # tons of fertilizer required per acre of corn\n",
    "\n",
    "profit_of_wheat = 200    # profit earned for planting one acre of wheat, in dollars\n",
    "profit_of_corn = 300     # profit earned for planting one acre of corn, in dollars\n",
    "\n",
    "\n",
    "# create model and declare variables\n",
    "\n",
    "m = Model(solver = ClpSolver())\n",
    "@variable(m, wheat >= 0)                   # acres of wheat planted, must be nonnegative\n",
    "@variable(m, corn  >= 0)                   # acres of corn planted, must be nonnegative\n",
    "\n",
    "# declare some useful expressions\n",
    "@expression(m, acres_used, wheat + corn)                                  # total acres used\n",
    "@expression(m, fert_used, fert_per_wheat*wheat + fert_per_corn*corn)      # total fertilizer used\n",
    "@expression(m, labor_used, labor_per_wheat*wheat + labor_per_corn*corn)   # total labor used\n",
    "@expression(m, total_profit, profit_of_wheat*wheat + profit_of_corn*corn) # total profit in dollars\n",
    "\n",
    "# problem constraints and objective\n",
    "@constraint(m, acres_used <= acre_budget )    # don't exceed acreage budget\n",
    "@constraint(m, fert_used <= fert_budget )     # don't exceed fertilizer budget\n",
    "@constraint(m, labor_used <= labor_budget )   # don't exceed labor budget\n",
    "@objective(m, Max, total_profit )             # maximize profit\n",
    "\n",
    "solve(m)\n",
    "println(\"acres of wheat planted: \", getvalue(wheat))\n",
    "println(\"acres of corn planted:  \", getvalue(corn))\n",
    "println(\"total profit: \\$\", getvalue(total_profit))"
   ]
  },
  {
   "cell_type": "markdown",
   "metadata": {},
   "source": [
    "**Comments:** We did not expect a solution this detailed; just showing an example of how detailed things can get! "
   ]
  },
  {
   "cell_type": "code",
   "execution_count": 14,
   "metadata": {},
   "outputs": [
    {
     "data": {
      "image/png": "[encoded data removed]",
      "text/plain": [
       "PyPlot.Figure(PyObject <matplotlib.figure.Figure object at 0x0000000008C3AFD0>)"
      ]
     },
     "metadata": {},
     "output_type": "display_data"
    }
   ],
   "source": [
    "# here is PyPlot code that plots the region and shows the optimal value\n",
    "using PyPlot\n",
    "figure(figsize=(6,5))\n",
    "\n",
    "# express each constraint as corn = f(wheat)\n",
    "w = linspace(-10,80,3)\n",
    "plot( w, (10000-200*w)/300, \"r:\")      # cost (200w + 300c = 10000)\n",
    "plot( w, 0*w, \"b-\" )                   # c = 0\n",
    "plot( 0*w, w, \"b-\" )                   # w = 0\n",
    "plot( w, (100 - 3*w)/2, \"b-\")          # 3w + 2c = 100\n",
    "plot( w, (120 - 2*w)/4, \"b-\")          # 2w + 4c = 120\n",
    "plot( w, 45-w, \"b-\")                   # w + c = 45\n",
    "plot( 20, 20, \"k.\", markersize=12)     # optimal point (20,20)\n",
    "text( 14, 18, \"(20,20)\")\n",
    "fill( [0, 0, 20, 100/3, 0], [0, 30, 20, 0, 0], color=(160/255,220/255,255/255) )\n",
    "grid(); axis(\"equal\"); axis([-2,40,-2,40]); \n",
    "xlabel(\"acres of wheat\");  ylabel(\"acres of corn\")\n",
    "legend([\"optimal cost\", \"constraints\"])\n",
    "title(\"feasible set for the crop planning problem\");"
   ]
  },
  {
   "cell_type": "code",
   "execution_count": null,
   "metadata": {},
   "outputs": [],
   "source": []
  }
 ],
 "metadata": {
  "kernelspec": {
   "display_name": "Julia 0.6.2",
   "language": "julia",
   "name": "julia-0.6"
  },
  "language_info": {
   "file_extension": ".jl",
   "mimetype": "application/julia",
   "name": "julia",
   "version": "0.6.2"
  }
 },
 "nbformat": 4,
 "nbformat_minor": 1
}
