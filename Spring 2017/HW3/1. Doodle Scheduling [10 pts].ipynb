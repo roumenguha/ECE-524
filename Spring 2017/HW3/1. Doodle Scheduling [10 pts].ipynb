{
 "cells": [
  {
   "cell_type": "markdown",
   "metadata": {},
   "source": [
    "# 1. Doodle Scheduling [10 pts]\n",
    "\n",
    "#### by Roumen Guha, on Sunday, February 19th, 2017\n",
    "\n",
    "Doodle Inc. is looking to interview a candidate for a new software engineer position at their company. It works like this: the interview (10 AM to 3 PM) is divided into a number of 20-minute time slots that may be used for 1-on-1 meetings with the candidate. There is also a one-hour time slot in the middle of the day where 3 employees take the candidate out for lunch.\n",
    "It would be nice for all 15 senior employees to meet with the candidate at some point during the day, but everybody has a busy schedule so it's not clear whether this will be possible. A doodle poll (obviously) was sent to the 15 senior employees to figure out their availability.\n",
    "\n",
    "<img src=\"1.png\">\n",
    "\n",
    "In the table, a 1 means that the employee is available at the indicated time, while a 0 means that they are unavailable. Determine whether a feasible interview schedule exists. If so, print out a calendar for the candidate that lists who they will be meeting at each time slot."
   ]
  },
  {
   "cell_type": "code",
   "execution_count": 6,
   "metadata": {
    "collapsed": false
   },
   "outputs": [
    {
     "name": "stdout",
     "output_type": "stream",
     "text": [
      "15×15 Named Array{Any,2}\n",
      "names ╲ times │ 10:00  10:20  10:40  11:00  11:20  11:40  12:00  12:20  12:40  13:00  13:20  13:40  14:00  14:20  14:40\n",
      "──────────────┼────────────────────────────────────────────────────────────────────────────────────────────────────────\n",
      "Manuel        │     0      0      1      1      0      0      0      0      0      1      1      0      0      0      0\n",
      "Luca          │     0      1      1      0      0      0      0      0      0      0      1      1      0      0      0\n",
      "Jule          │     0      0      0      1      1      0      1      1      1      1      0      1      1      1      1\n",
      "Michael       │     0      0      0      1      1      1      1      1      1      1      1      1      1      1      0\n",
      "Malte         │     0      0      0      0      0      0      1      1      1      1      1      0      0      0      0\n",
      "Chris         │     0      1      1      0      0      0      0      0      0      0      1      1      0      0      0\n",
      "Spyros        │     0      0      0      1      1      1      1      1      1      0      0      0      0      0      0\n",
      "Mirjam        │     1      1      0      0      0      0      0      0      0      0      0      0      1      1      1\n",
      "Matt          │     1      1      1      0      0      0      0      0      0      0      0      1      1      0      0\n",
      "Florian       │     0      0      0      0      0      0      0      0      0      1      1      0      0      0      0\n",
      "Josep         │     0      0      0      0      0      0      1      1      1      1      1      0      0      0      0\n",
      "Joel          │     1      1      0      0      0      1      1      1      1      1      1      0      0      1      1\n",
      "Tom           │     1      1      1      0      1      1      0      0      0      0      0      0      0      1      1\n",
      "Daniel        │     0      1      1      1      0      0      0      0      0      0      0      0      0      0      0\n",
      "Anne          │     1      1      0      0      1      1      0      0      0      0      0      0      0      0      0"
     ]
    }
   ],
   "source": [
    "using NamedArrays      \n",
    "\n",
    "# import data set\n",
    "raw = readcsv(\"1b.csv\")       # A file I made \n",
    "(m, n) = size(raw)\n",
    "\n",
    "n_times = 2:n      # columns containing times\n",
    "n_names = 2:m      # rows containing names\n",
    "\n",
    "times = raw[1, n_times][:]   # the list of times (convert to 1-D array)\n",
    "names = raw[n_names, 1][:]   # the list of names (convert to 1-D array)\n",
    "\n",
    "# data[f,i] is the entire schedule\n",
    "data = NamedArray(raw[n_names, n_times], (names, times), (\"names\", \"times\"))\n",
    "\n",
    "show(IOContext(STDOUT, displaysize=(100, 1000)), data)"
   ]
  },
  {
   "cell_type": "code",
   "execution_count": 7,
   "metadata": {
    "collapsed": false
   },
   "outputs": [
    {
     "name": "stdout",
     "output_type": "stream",
     "text": [
      "Optimal\n",
      "15×15 Named Array{Int64,2}\n",
      "Names ╲ Times │ 10:00  10:20  10:40  11:00  11:20  11:40  12:00  12:20  12:40  13:00  13:20  13:40  14:00  14:20  14:40\n",
      "──────────────┼────────────────────────────────────────────────────────────────────────────────────────────────────────\n",
      "Manuel        │     0      0      1      0      0      0      0      0      0      0      0      0      0      0      0\n",
      "Luca          │     0      1      0      0      0      0      0      0      0      0      0      0      0      0      0\n",
      "Jule          │     0      0      0      0      0      0      1      0      0      0      0      0      0      0      0\n",
      "Michael       │     0      0      0      0      0      0      0      1      0      0      0      0      0      0      0\n",
      "Malte         │     0      0      0      0      0      0      0      0      1      0      0      0      0      0      0\n",
      "Chris         │     0      0      0      0      0      0      0      0      0      0      0      1      0      0      0\n",
      "Spyros        │     0      0      0      0      1      0      0      0      0      0      0      0      0      0      0\n",
      "Mirjam        │     0      0      0      0      0      0      0      0      0      0      0      0      0      1      0\n",
      "Matt          │     0      0      0      0      0      0      0      0      0      0      0      0      1      0      0\n",
      "Florian       │     0      0      0      0      0      0      0      0      0      0      1      0      0      0      0\n",
      "Josep         │     0      0      0      0      0      0      0      0      0      1      0      0      0      0      0\n",
      "Joel          │     1      0      0      0      0      0      0      0      0      0      0      0      0      0      0\n",
      "Tom           │     0      0      0      0      0      0      0      0      0      0      0      0      0      0      1\n",
      "Daniel        │     0      0      0      1      0      0      0      0      0      0      0      0      0      0      0\n",
      "Anne          │     0      0      0      0      0      1      0      0      0      0      0      0      0      0      0"
     ]
    }
   ],
   "source": [
    "using JuMP\n",
    "\n",
    "m = Model()\n",
    "\n",
    "@variable(m, x[names, times] >= 0)\n",
    "\n",
    "# the candidate can only meet with 1 employee at any 20-minute period\n",
    "@constraint(m, a[j in times], sum(x[i,j] for i in names) <= 1)\n",
    "            \n",
    "# each employee can only meet with the candidate once\n",
    "@constraint(m, b[i in names], sum(x[i,j] for j in times) <= 1)\n",
    "            \n",
    "@objective(m, Max, sum(x[i,j]*data[i,j] for i in names, j in times))\n",
    "                        \n",
    "status = solve(m)\n",
    "println(status)\n",
    "                                    \n",
    "schedule = NamedArray( [Int(getvalue(x[i,j])) for i in names, j in times], (names, times), (\"Names\", \"Times\"))\n",
    "                        \n",
    "show(IOContext(STDOUT, displaysize=(100, 1000)), schedule)"
   ]
  },
  {
   "cell_type": "markdown",
   "metadata": {},
   "source": [
    "#### Note:\n",
    "\n",
    "To account for the lunch period, I simply split the lunch hour into 3 separate 20-minute periods with identical data."
   ]
  },
  {
   "cell_type": "code",
   "execution_count": 9,
   "metadata": {
    "collapsed": false
   },
   "outputs": [
    {
     "name": "stdout",
     "output_type": "stream",
     "text": [
      "Schedule is as follows: \n",
      "\n",
      "10:00: Joel\n",
      "10:20: Luca\n",
      "10:40: Manuel\n",
      "11:00: Daniel\n",
      "11:20: Spyros\n",
      "11:40: Anne\n",
      "12:00: Jule\n",
      "12:20: Michael\n",
      "12:40: Malte\n",
      "13:00: Josep\n",
      "13:20: Florian\n",
      "13:40: Chris\n",
      "14:00: Matt\n",
      "14:20: Mirjam\n",
      "14:40: Tom\n"
     ]
    }
   ],
   "source": [
    "println(\"Schedule is as follows: \")\n",
    "println()\n",
    "\n",
    "for j = 1:15\n",
    "    for i = 1:15\n",
    "        if schedule[i,j] == 1\n",
    "            print(times[j])\n",
    "            print(\": \")\n",
    "            println(names[i])\n",
    "        end\n",
    "    end\n",
    "end"
   ]
  },
  {
   "cell_type": "markdown",
   "metadata": {},
   "source": [
    "This means that Jule, Michael and Malte get to join the candidate for lunch. Lucky them."
   ]
  },
  {
   "cell_type": "code",
   "execution_count": 11,
   "metadata": {
    "collapsed": false
   },
   "outputs": [
    {
     "name": "stdout",
     "output_type": "stream",
     "text": [
      "Max x[Manuel,10:40] + x[Manuel,11:00] + x[Manuel,13:00] + x[Manuel,13:20] + x[Luca,10:20] + x[Luca,10:40] + x[Luca,13:20] + x[Luca,13:40] + x[Jule,11:00] + x[Jule,11:20] + x[Jule,12:00] + x[Jule,12:20] + x[Jule,12:40] + x[Jule,13:00] + x[Jule,13:40] + x[Jule,14:00] + x[Jule,14:20] + x[Jule,14:40] + x[Michael,11:00] + x[Michael,11:20] + x[Michael,11:40] + x[Michael,12:00] + x[Michael,12:20] + x[Michael,12:40] + x[Michael,13:00] + x[Michael,13:20] + x[Michael,13:40] + x[Michael,14:00] + x[Michael,14:20] + x[Malte,12:00] + x[Malte,12:20] + x[Malte,12:40] + x[Malte,13:00] + x[Malte,13:20] + x[Chris,10:20] + x[Chris,10:40] + x[Chris,13:20] + x[Chris,13:40] + x[Spyros,11:00] + x[Spyros,11:20] + x[Spyros,11:40] + x[Spyros,12:00] + x[Spyros,12:20] + x[Spyros,12:40] + x[Mirjam,10:00] + x[Mirjam,10:20] + x[Mirjam,14:00] + x[Mirjam,14:20] + x[Mirjam,14:40] + x[Matt,10:00] + x[Matt,10:20] + x[Matt,10:40] + x[Matt,13:40] + x[Matt,14:00] + x[Florian,13:00] + x[Florian,13:20] + x[Josep,12:00] + x[Josep,12:20] + x[Josep,12:40] + x[Josep,13:00] + x[Josep,13:20] + x[Joel,10:00] + x[Joel,10:20] + x[Joel,11:40] + x[Joel,12:00] + x[Joel,12:20] + x[Joel,12:40] + x[Joel,13:00] + x[Joel,13:20] + x[Joel,14:20] + x[Joel,14:40] + x[Tom,10:00] + x[Tom,10:20] + x[Tom,10:40] + x[Tom,11:20] + x[Tom,11:40] + x[Tom,14:20] + x[Tom,14:40] + x[Daniel,10:20] + x[Daniel,10:40] + x[Daniel,11:00] + x[Anne,10:00] + x[Anne,10:20] + x[Anne,11:20] + x[Anne,11:40]\n",
      "Subject to\n",
      " x[Manuel,10:00] + x[Luca,10:00] + x[Jule,10:00] + x[Michael,10:00] + x[Malte,10:00] + x[Chris,10:00] + x[Spyros,10:00] + x[Mirjam,10:00] + x[Matt,10:00] + x[Florian,10:00] + x[Josep,10:00] + x[Joel,10:00] + x[Tom,10:00] + x[Daniel,10:00] + x[Anne,10:00] <= 1\n",
      " x[Manuel,10:20] + x[Luca,10:20] + x[Jule,10:20] + x[Michael,10:20] + x[Malte,10:20] + x[Chris,10:20] + x[Spyros,10:20] + x[Mirjam,10:20] + x[Matt,10:20] + x[Florian,10:20] + x[Josep,10:20] + x[Joel,10:20] + x[Tom,10:20] + x[Daniel,10:20] + x[Anne,10:20] <= 1\n",
      " x[Manuel,10:40] + x[Luca,10:40] + x[Jule,10:40] + x[Michael,10:40] + x[Malte,10:40] + x[Chris,10:40] + x[Spyros,10:40] + x[Mirjam,10:40] + x[Matt,10:40] + x[Florian,10:40] + x[Josep,10:40] + x[Joel,10:40] + x[Tom,10:40] + x[Daniel,10:40] + x[Anne,10:40] <= 1\n",
      " x[Manuel,11:00] + x[Luca,11:00] + x[Jule,11:00] + x[Michael,11:00] + x[Malte,11:00] + x[Chris,11:00] + x[Spyros,11:00] + x[Mirjam,11:00] + x[Matt,11:00] + x[Florian,11:00] + x[Josep,11:00] + x[Joel,11:00] + x[Tom,11:00] + x[Daniel,11:00] + x[Anne,11:00] <= 1\n",
      " x[Manuel,11:20] + x[Luca,11:20] + x[Jule,11:20] + x[Michael,11:20] + x[Malte,11:20] + x[Chris,11:20] + x[Spyros,11:20] + x[Mirjam,11:20] + x[Matt,11:20] + x[Florian,11:20] + x[Josep,11:20] + x[Joel,11:20] + x[Tom,11:20] + x[Daniel,11:20] + x[Anne,11:20] <= 1\n",
      " x[Manuel,11:40] + x[Luca,11:40] + x[Jule,11:40] + x[Michael,11:40] + x[Malte,11:40] + x[Chris,11:40] + x[Spyros,11:40] + x[Mirjam,11:40] + x[Matt,11:40] + x[Florian,11:40] + x[Josep,11:40] + x[Joel,11:40] + x[Tom,11:40] + x[Daniel,11:40] + x[Anne,11:40] <= 1\n",
      " x[Manuel,12:00] + x[Luca,12:00] + x[Jule,12:00] + x[Michael,12:00] + x[Malte,12:00] + x[Chris,12:00] + x[Spyros,12:00] + x[Mirjam,12:00] + x[Matt,12:00] + x[Florian,12:00] + x[Josep,12:00] + x[Joel,12:00] + x[Tom,12:00] + x[Daniel,12:00] + x[Anne,12:00] <= 1\n",
      " x[Manuel,12:20] + x[Luca,12:20] + x[Jule,12:20] + x[Michael,12:20] + x[Malte,12:20] + x[Chris,12:20] + x[Spyros,12:20] + x[Mirjam,12:20] + x[Matt,12:20] + x[Florian,12:20] + x[Josep,12:20] + x[Joel,12:20] + x[Tom,12:20] + x[Daniel,12:20] + x[Anne,12:20] <= 1\n",
      " x[Manuel,12:40] + x[Luca,12:40] + x[Jule,12:40] + x[Michael,12:40] + x[Malte,12:40] + x[Chris,12:40] + x[Spyros,12:40] + x[Mirjam,12:40] + x[Matt,12:40] + x[Florian,12:40] + x[Josep,12:40] + x[Joel,12:40] + x[Tom,12:40] + x[Daniel,12:40] + x[Anne,12:40] <= 1\n",
      " x[Manuel,13:00] + x[Luca,13:00] + x[Jule,13:00] + x[Michael,13:00] + x[Malte,13:00] + x[Chris,13:00] + x[Spyros,13:00] + x[Mirjam,13:00] + x[Matt,13:00] + x[Florian,13:00] + x[Josep,13:00] + x[Joel,13:00] + x[Tom,13:00] + x[Daniel,13:00] + x[Anne,13:00] <= 1\n",
      " x[Manuel,13:20] + x[Luca,13:20] + x[Jule,13:20] + x[Michael,13:20] + x[Malte,13:20] + x[Chris,13:20] + x[Spyros,13:20] + x[Mirjam,13:20] + x[Matt,13:20] + x[Florian,13:20] + x[Josep,13:20] + x[Joel,13:20] + x[Tom,13:20] + x[Daniel,13:20] + x[Anne,13:20] <= 1\n",
      " x[Manuel,13:40] + x[Luca,13:40] + x[Jule,13:40] + x[Michael,13:40] + x[Malte,13:40] + x[Chris,13:40] + x[Spyros,13:40] + x[Mirjam,13:40] + x[Matt,13:40] + x[Florian,13:40] + x[Josep,13:40] + x[Joel,13:40] + x[Tom,13:40] + x[Daniel,13:40] + x[Anne,13:40] <= 1\n",
      " x[Manuel,14:00] + x[Luca,14:00] + x[Jule,14:00] + x[Michael,14:00] + x[Malte,14:00] + x[Chris,14:00] + x[Spyros,14:00] + x[Mirjam,14:00] + x[Matt,14:00] + x[Florian,14:00] + x[Josep,14:00] + x[Joel,14:00] + x[Tom,14:00] + x[Daniel,14:00] + x[Anne,14:00] <= 1\n",
      " x[Manuel,14:20] + x[Luca,14:20] + x[Jule,14:20] + x[Michael,14:20] + x[Malte,14:20] + x[Chris,14:20] + x[Spyros,14:20] + x[Mirjam,14:20] + x[Matt,14:20] + x[Florian,14:20] + x[Josep,14:20] + x[Joel,14:20] + x[Tom,14:20] + x[Daniel,14:20] + x[Anne,14:20] <= 1\n",
      " x[Manuel,14:40] + x[Luca,14:40] + x[Jule,14:40] + x[Michael,14:40] + x[Malte,14:40] + x[Chris,14:40] + x[Spyros,14:40] + x[Mirjam,14:40] + x[Matt,14:40] + x[Florian,14:40] + x[Josep,14:40] + x[Joel,14:40] + x[Tom,14:40] + x[Daniel,14:40] + x[Anne,14:40] <= 1\n",
      " x[Manuel,10:00] + x[Manuel,10:20] + x[Manuel,10:40] + x[Manuel,11:00] + x[Manuel,11:20] + x[Manuel,11:40] + x[Manuel,12:00] + x[Manuel,12:20] + x[Manuel,12:40] + x[Manuel,13:00] + x[Manuel,13:20] + x[Manuel,13:40] + x[Manuel,14:00] + x[Manuel,14:20] + x[Manuel,14:40] <= 1\n",
      " x[Luca,10:00] + x[Luca,10:20] + x[Luca,10:40] + x[Luca,11:00] + x[Luca,11:20] + x[Luca,11:40] + x[Luca,12:00] + x[Luca,12:20] + x[Luca,12:40] + x[Luca,13:00] + x[Luca,13:20] + x[Luca,13:40] + x[Luca,14:00] + x[Luca,14:20] + x[Luca,14:40] <= 1\n",
      " x[Jule,10:00] + x[Jule,10:20] + x[Jule,10:40] + x[Jule,11:00] + x[Jule,11:20] + x[Jule,11:40] + x[Jule,12:00] + x[Jule,12:20] + x[Jule,12:40] + x[Jule,13:00] + x[Jule,13:20] + x[Jule,13:40] + x[Jule,14:00] + x[Jule,14:20] + x[Jule,14:40] <= 1\n",
      " x[Michael,10:00] + x[Michael,10:20] + x[Michael,10:40] + x[Michael,11:00] + x[Michael,11:20] + x[Michael,11:40] + x[Michael,12:00] + x[Michael,12:20] + x[Michael,12:40] + x[Michael,13:00] + x[Michael,13:20] + x[Michael,13:40] + x[Michael,14:00] + x[Michael,14:20] + x[Michael,14:40] <= 1\n",
      " x[Malte,10:00] + x[Malte,10:20] + x[Malte,10:40] + x[Malte,11:00] + x[Malte,11:20] + x[Malte,11:40] + x[Malte,12:00] + x[Malte,12:20] + x[Malte,12:40] + x[Malte,13:00] + x[Malte,13:20] + x[Malte,13:40] + x[Malte,14:00] + x[Malte,14:20] + x[Malte,14:40] <= 1\n",
      " x[Chris,10:00] + x[Chris,10:20] + x[Chris,10:40] + x[Chris,11:00] + x[Chris,11:20] + x[Chris,11:40] + x[Chris,12:00] + x[Chris,12:20] + x[Chris,12:40] + x[Chris,13:00] + x[Chris,13:20] + x[Chris,13:40] + x[Chris,14:00] + x[Chris,14:20] + x[Chris,14:40] <= 1\n",
      " x[Spyros,10:00] + x[Spyros,10:20] + x[Spyros,10:40] + x[Spyros,11:00] + x[Spyros,11:20] + x[Spyros,11:40] + x[Spyros,12:00] + x[Spyros,12:20] + x[Spyros,12:40] + x[Spyros,13:00] + x[Spyros,13:20] + x[Spyros,13:40] + x[Spyros,14:00] + x[Spyros,14:20] + x[Spyros,14:40] <= 1\n",
      " x[Mirjam,10:00] + x[Mirjam,10:20] + x[Mirjam,10:40] + x[Mirjam,11:00] + x[Mirjam,11:20] + x[Mirjam,11:40] + x[Mirjam,12:00] + x[Mirjam,12:20] + x[Mirjam,12:40] + x[Mirjam,13:00] + x[Mirjam,13:20] + x[Mirjam,13:40] + x[Mirjam,14:00] + x[Mirjam,14:20] + x[Mirjam,14:40] <= 1\n",
      " x[Matt,10:00] + x[Matt,10:20] + x[Matt,10:40] + x[Matt,11:00] + x[Matt,11:20] + x[Matt,11:40] + x[Matt,12:00] + x[Matt,12:20] + x[Matt,12:40] + x[Matt,13:00] + x[Matt,13:20] + x[Matt,13:40] + x[Matt,14:00] + x[Matt,14:20] + x[Matt,14:40] <= 1\n",
      " x[Florian,10:00] + x[Florian,10:20] + x[Florian,10:40] + x[Florian,11:00] + x[Florian,11:20] + x[Florian,11:40] + x[Florian,12:00] + x[Florian,12:20] + x[Florian,12:40] + x[Florian,13:00] + x[Florian,13:20] + x[Florian,13:40] + x[Florian,14:00] + x[Florian,14:20] + x[Florian,14:40] <= 1\n",
      " x[Josep,10:00] + x[Josep,10:20] + x[Josep,10:40] + x[Josep,11:00] + x[Josep,11:20] + x[Josep,11:40] + x[Josep,12:00] + x[Josep,12:20] + x[Josep,12:40] + x[Josep,13:00] + x[Josep,13:20] + x[Josep,13:40] + x[Josep,14:00] + x[Josep,14:20] + x[Josep,14:40] <= 1\n",
      " x[Joel,10:00] + x[Joel,10:20] + x[Joel,10:40] + x[Joel,11:00] + x[Joel,11:20] + x[Joel,11:40] + x[Joel,12:00] + x[Joel,12:20] + x[Joel,12:40] + x[Joel,13:00] + x[Joel,13:20] + x[Joel,13:40] + x[Joel,14:00] + x[Joel,14:20] + x[Joel,14:40] <= 1\n",
      " x[Tom,10:00] + x[Tom,10:20] + x[Tom,10:40] + x[Tom,11:00] + x[Tom,11:20] + x[Tom,11:40] + x[Tom,12:00] + x[Tom,12:20] + x[Tom,12:40] + x[Tom,13:00] + x[Tom,13:20] + x[Tom,13:40] + x[Tom,14:00] + x[Tom,14:20] + x[Tom,14:40] <= 1\n",
      " x[Daniel,10:00] + x[Daniel,10:20] + x[Daniel,10:40] + x[Daniel,11:00] + x[Daniel,11:20] + x[Daniel,11:40] + x[Daniel,12:00] + x[Daniel,12:20] + x[Daniel,12:40] + x[Daniel,13:00] + x[Daniel,13:20] + x[Daniel,13:40] + x[Daniel,14:00] + x[Daniel,14:20] + x[Daniel,14:40] <= 1\n",
      " x[Anne,10:00] + x[Anne,10:20] + x[Anne,10:40] + x[Anne,11:00] + x[Anne,11:20] + x[Anne,11:40] + x[Anne,12:00] + x[Anne,12:20] + x[Anne,12:40] + x[Anne,13:00] + x[Anne,13:20] + x[Anne,13:40] + x[Anne,14:00] + x[Anne,14:20] + x[Anne,14:40] <= 1\n",
      " x[i,j] >= 0 for all i in {Manuel,Luca,..,Daniel,Anne}, j in {10:00,10:20,..,14:20,14:40}\n",
      "\n"
     ]
    }
   ],
   "source": [
    "println(m)"
   ]
  }
 ],
 "metadata": {
  "kernelspec": {
   "display_name": "Julia 0.5.0",
   "language": "julia",
   "name": "julia-0.5"
  },
  "language_info": {
   "file_extension": ".jl",
   "mimetype": "application/julia",
   "name": "julia",
   "version": "0.5.0"
  }
 },
 "nbformat": 4,
 "nbformat_minor": 2
}
