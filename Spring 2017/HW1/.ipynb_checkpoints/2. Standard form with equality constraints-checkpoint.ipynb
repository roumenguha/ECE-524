{
 "cells": [
  {
   "cell_type": "markdown",
   "metadata": {},
   "source": [
    "# 2. Original Problem\n",
    "\n",
    "$$\\begin{aligned}\n",
    "\\text{maximize}\\qquad& 3z_1 - z_2\\\\\n",
    "\\text{subject to:}\\qquad& -z_1 + 6z_2 -z_3 + z_4 \\ge -3 \\\\\n",
    "& 7z_2 + z_4 = 5 \\\\\n",
    "& z_3 + z_4 \\le 2 \\\\\n",
    "& -1 \\le z_2 \\le 5 \\\\\n",
    "& -1 \\le z_3 \\le 5 \\\\\n",
    "& -2 \\le z_4 \\le 2 \\\\\n",
    "\\end{aligned}$$\n"
   ]
  },
  {
   "cell_type": "code",
   "execution_count": 44,
   "metadata": {
    "collapsed": false
   },
   "outputs": [
    {
     "name": "stdout",
     "output_type": "stream",
     "text": [
      "Optimal\n",
      "\n",
      "z_1 = 8.571428571428571\n",
      "z_2 = 0.42857142857142855\n",
      "z_3 = -1.0\n",
      "z_4 = 2.0\n",
      "objective = 25.28571428571429\n"
     ]
    }
   ],
   "source": [
    "using JuMP\n",
    "\n",
    "m = Model()\n",
    "\n",
    "@variable(m, z1)\n",
    "@variable(m, -1 <= z2 <= 5)\n",
    "@variable(m, -1 <= z3 <= 5)\n",
    "@variable(m, -2 <= z4 <= 2)\n",
    "\n",
    "@constraint(m, -z1 + 6z2 - z3 + z4 >= -3)\n",
    "@constraint(m, 7z2 + z4 == 5)\n",
    "@constraint(m, z3 + z4 <= 2)\n",
    "\n",
    "@objective(m, Max, 3z1 - z2)\n",
    "\n",
    "status = solve(m)\n",
    "\n",
    "println(status)\n",
    "println()\n",
    "println(\"z_1 = \", getvalue(z1))\n",
    "println(\"z_2 = \", getvalue(z2))\n",
    "println(\"z_3 = \", getvalue(z3))\n",
    "println(\"z_4 = \", getvalue(z4))\n",
    "println(\"objective = \", getobjectivevalue(m))"
   ]
  },
  {
   "cell_type": "markdown",
   "metadata": {},
   "source": [
    "### __Alternative Standard Form__\n",
    "\n",
    "Rather than using the standard LP form we saw in class, some prefer using a form where all variables are nonnegative, all constraints are equality constraints, and the cost function is a minimization.\n",
    "\n",
    "$$\\begin{aligned}\n",
    "\\text{minimize}\\qquad& c^T x\\\\\n",
    "\\text{subject to:}\\qquad& Ax = b\\\\\n",
    "& x \\ge 0\n",
    "\\end{aligned}$$\n"
   ]
  },
  {
   "cell_type": "markdown",
   "metadata": {},
   "source": [
    "Notice that the bounds on the variables z_2, z_3 and z_4 can be converted into 2 constraints each; meaning that by adding slack variables s1 through s6, we can convert these into equalities. "
   ]
  },
  {
   "cell_type": "code",
   "execution_count": 43,
   "metadata": {
    "collapsed": false
   },
   "outputs": [
    {
     "name": "stdout",
     "output_type": "stream",
     "text": [
      "Optimal\n",
      "\n",
      "z1 = 7.571428571428571\n",
      "z2 = 0.42857142857142855\n",
      "z3 = 0.0\n",
      "z4 = 2.0\n",
      "\n",
      "s1 = 4.571428571428571\n",
      "s2 = 1.4285714285714286\n",
      "s3 = 5.0\n",
      "s4 = 1.0\n",
      "s5 = 0.0\n",
      "s6 = 4.0\n",
      "s7 = 0.0\n",
      "s8 = 0.0\n",
      "\n",
      "objective = 22.28571428571429\n"
     ]
    }
   ],
   "source": [
    "using JuMP\n",
    "\n",
    "m3 = Model()\n",
    "\n",
    "# @variable(m3, z1)\n",
    "@variable(m3, z1a >= 0)\n",
    "@variable(m3, z1b >= 0)\n",
    "\n",
    "# @variable(m3, -1 <= z2 <= 5)\n",
    "@variable(m3, z2 >= 0)\n",
    "@variable(m3, s1 >= 0)\n",
    "@variable(m3, s2 >= 0)\n",
    "@constraint(m3, z2 + s1 == 5)\n",
    "@constraint(m3, -(z2 - s2) == -(-1))\n",
    "\n",
    "# @variable(m3, -1 <= z3 <= 5)\n",
    "@variable(m3, z3 >= 0)\n",
    "@variable(m3, s3 >= 0)\n",
    "@variable(m3, s4 >= 0)\n",
    "@constraint(m3, z3 + s3 == 5)\n",
    "@constraint(m3, -(z3 - s4) == -(-1))\n",
    "\n",
    "# @variable(m3, -2 <= z4 <= 2)\n",
    "@variable(m3, z4 >= 0)\n",
    "@variable(m3, s5 >= 0)\n",
    "@variable(m3, s6 >= 0)\n",
    "@constraint(m3, z4 + s5 == 2)\n",
    "@constraint(m3, -(z4 - s6) == -(-2))\n",
    "\n",
    "# @constraint(m3, 7z2 + z4 == 5)\n",
    "@constraint(m3, 7z2 + z4 == 5)\n",
    "\n",
    "# @constraint(m3, -z1 + 6z2 - z3 + z4 >= -3)\n",
    "@variable(m3, s7 >= 0)\n",
    "@constraint(m3, -(-(z1a - z1b) + 6z2 - z3 + z4 - s7) == -(-3))\n",
    "\n",
    "# @constraint(m, z3 + z4 <= 2)\n",
    "@variable(m3, s8 >= 0)\n",
    "@constraint(m3, z3 + z4 + s8 == 2)\n",
    "\n",
    "@objective(m3, Max, 3(z1a - z1b) - z2)\n",
    "\n",
    "status3 = solve(m3)\n",
    "\n",
    "println(status3)\n",
    "println()\n",
    "println(\"z1 = \", getvalue((z1a - z1b)))\n",
    "println(\"z2 = \", getvalue(z2))\n",
    "println(\"z3 = \", getvalue(z3))\n",
    "println(\"z4 = \", getvalue(z4))\n",
    "\n",
    "println()\n",
    "println(\"s1 = \", getvalue(s1))\n",
    "println(\"s2 = \", getvalue(s2))\n",
    "println(\"s3 = \", getvalue(s3))\n",
    "println(\"s4 = \", getvalue(s4))\n",
    "println(\"s5 = \", getvalue(s5))\n",
    "println(\"s6 = \", getvalue(s6))\n",
    "println(\"s7 = \", getvalue(s7))\n",
    "println(\"s8 = \", getvalue(s8))\n",
    "\n",
    "println()\n",
    "println(\"objective = \", getobjectivevalue(m3))"
   ]
  },
  {
   "cell_type": "markdown",
   "metadata": {
    "collapsed": true
   },
   "source": [
    "__What are A, b, c,and x? Be sure to explain how the decision variables of your transformed LP relate to those of the original LP.__\n",
    "\n",
    "I don't know, they don't match :("
   ]
  },
  {
   "cell_type": "code",
   "execution_count": null,
   "metadata": {
    "collapsed": true
   },
   "outputs": [],
   "source": []
  }
 ],
 "metadata": {
  "kernelspec": {
   "display_name": "Julia 0.5.0",
   "language": "julia",
   "name": "julia-0.5"
  },
  "language_info": {
   "file_extension": ".jl",
   "mimetype": "application/julia",
   "name": "julia",
   "version": "0.5.0"
  }
 },
 "nbformat": 4,
 "nbformat_minor": 2
}
