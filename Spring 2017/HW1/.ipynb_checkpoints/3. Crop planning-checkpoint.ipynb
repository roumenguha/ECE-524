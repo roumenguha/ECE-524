{
 "cells": [
  {
   "cell_type": "markdown",
   "metadata": {
    "collapsed": true
   },
   "source": [
    "# 3. Crop planning problem [10 pts]\n",
    "\n",
    "Farmer Jane owns 45 acres of land. She is going to plant each with wheat\n",
    "or corn. Each acre planted with wheat yields \\$200 profit; each with corn yields \\$300 profit. The labor and fertilizer used for each acre are given in the table below. __One hundred workers__ and __120 tons of\n",
    "fertilizer__ are available.\n",
    "\n",
    "| | Wheat | Corn | \n",
    "|------|---|---|---|---|\n",
    "|Labor | 3 workers | 2 workers| \n",
    "|Fertilizer | 2 tons | 4 tons |\n",
    "\n",
    "a) How should Jane plant her crops to maximize profit? Model and solve this problem using JuMP.\n",
    "\n"
   ]
  },
  {
   "cell_type": "markdown",
   "metadata": {
    "collapsed": true
   },
   "source": [
    "### Solution"
   ]
  },
  {
   "cell_type": "code",
   "execution_count": 35,
   "metadata": {
    "collapsed": false
   },
   "outputs": [
    {
     "name": "stdout",
     "output_type": "stream",
     "text": [
      "acres of wheat = 19.99999999999999\n",
      "acres of corn = 20.000000000000007\n",
      "\n",
      "Optimal\n",
      "10000.0\n"
     ]
    }
   ],
   "source": [
    "using JuMP\n",
    "\n",
    "total_labor = 100\n",
    "total_fertilizer = 120\n",
    "total_land = 45\n",
    "\n",
    "m = Model()\n",
    "@variable(m, w >= 0)\n",
    "@variable(m, c >= 0)\n",
    "\n",
    "@constraint(m, w + c <= total_land)\n",
    "@constraint(m, 3w + 2c <= total_labor)\n",
    "@constraint(m, 2w + 4c <= total_fertilizer)\n",
    "\n",
    "@objective(m, Max, 200w + 300c)\n",
    "\n",
    "status = solve(m)\n",
    "println(\"acres of wheat = \", getvalue(w))\n",
    "println(\"acres of corn = \", getvalue(c))\n",
    "println()\n",
    "println(status)\n",
    "println(getobjectivevalue(m))\n",
    " "
   ]
  },
  {
   "cell_type": "markdown",
   "metadata": {},
   "source": [
    "b) Solve the problem graphically and confirm that you obtain the same solution.\n"
   ]
  }
 ],
 "metadata": {
  "kernelspec": {
   "display_name": "Julia 0.5.0",
   "language": "julia",
   "name": "julia-0.5"
  },
  "language_info": {
   "file_extension": ".jl",
   "mimetype": "application/julia",
   "name": "julia",
   "version": "0.5.0"
  }
 },
 "nbformat": 4,
 "nbformat_minor": 2
}
