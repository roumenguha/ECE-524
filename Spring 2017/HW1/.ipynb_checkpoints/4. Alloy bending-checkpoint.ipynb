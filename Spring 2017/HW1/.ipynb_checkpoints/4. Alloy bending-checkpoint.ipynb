{
 "cells": [
  {
   "cell_type": "markdown",
   "metadata": {
    "collapsed": true
   },
   "source": [
    "# 4. Alloy blending [10 pts]\n",
    "\n",
    "The company Steelco has received an order for __500__ tons of steel to be used in shipbuilding. The steel must have the following characteristics:\n",
    "\n",
    "| Chemical Element | Minimum Grade (%) | Maximum Grade (%) | \n",
    "|------|---|---|---|---|\n",
    "|Carbon (C) | 2 | 3 | \n",
    "|Copper (Cu) | 0.4 | 0.6 |\n",
    "|Manganese (Mn) | 1.2 | 1.65 | \n",
    "\n",
    "The company has seven different raw materials in stock that may be used for the production of this\n",
    "steel. The following table lists the grades, available amounts and prices for all materials:\n",
    "\n",
    "| Raw Material | C % | Cu % | Mn % | Availability in tons | Cost in \\$/ton | \n",
    "|--------------|-----|------|------|----------------------|----------------|\n",
    "|Iron alloy 1 | 2.5 | 0 | 1.3 | 400 | 200 | \n",
    "|Iron alloy 2 | 3 | 0 | 0.8 | 300 | 250 |\n",
    "|Iron alloy 3 | 0 | 0.3 | 0 | 600 | 150 | \n",
    "|Copper 1 | 0 | 90 | 0 | 500 | 220 |\n",
    "|Copper 2 | 0 | 96 | 4 | 200 | 240 |\n",
    "|Aluminum 1 | 0 | 0.4 | 1.2 | 300 | 200 |\n",
    "|Aluminum 2 | 0 | 0.6 | 0 | 250 | 165 |\n",
    "\n",
    "__Determine the composition of the steel that minimizes the production cost.__"
   ]
  },
  {
   "cell_type": "code",
   "execution_count": 30,
   "metadata": {
    "collapsed": false
   },
   "outputs": [
    {
     "name": "stdout",
     "output_type": "stream",
     "text": [
      "\n",
      "C % = 2.0\n",
      "Cu % = 0.4\n",
      "Mn % = 1.2757142857142858\n",
      "\n",
      "Total cost = 100035.71428571429\n"
     ]
    }
   ],
   "source": [
    "m = Model()\n",
    "\n",
    "# define all raw materials to be unsigned\n",
    "@variable(m, fe1 >= 0)\n",
    "@variable(m, fe2 >= 0)\n",
    "@variable(m, fe3 >= 0)\n",
    "@variable(m, cu1 >= 0)\n",
    "@variable(m, cu2 >= 0)\n",
    "@variable(m, al1 >= 0)\n",
    "@variable(m, al2 >= 0)\n",
    "\n",
    "raw_materials = [fe1, fe2, fe3, cu1, cu2, al1, al2]\n",
    "availability  = [400, 300, 600, 500, 200, 300, 250]\n",
    "cost          = [200, 250, 250, 220, 240, 200, 265]\n",
    "\n",
    "perc_c        = [2.5, 3, 0, 0, 0, 0, 0]\n",
    "perc_cu       = [0, 0, 0.3, 90, 96, 0.4, 0.6]\n",
    "perc_mn       = [1.3, 0.8, 0, 0, 4, 1.2, 0]\n",
    "\n",
    "# constrain each according to their individual availability\n",
    "@constraint(m, raw_materials[1] <= availability[1])\n",
    "@constraint(m, raw_materials[2] <= availability[2])\n",
    "@constraint(m, raw_materials[3] <= availability[3])\n",
    "@constraint(m, raw_materials[4] <= availability[4])\n",
    "@constraint(m, raw_materials[5] <= availability[5])\n",
    "@constraint(m, raw_materials[6] <= availability[6])\n",
    "@constraint(m, raw_materials[7] <= availability[7])\n",
    "\n",
    "# set the sum of all the quantities to be == 500\n",
    "@expression(m, total_mass, raw_materials[1] + raw_materials[2] + raw_materials[3] + raw_materials[4] + raw_materials[5] + raw_materials[6] + raw_materials[7])\n",
    "@constraint(m, total_mass == 500)\n",
    "\n",
    "# set the constraint for the percentage of carbon\n",
    "@expression(m, total_mass_c, raw_materials[1]*perc_c[1] + raw_materials[2]*perc_c[2] + raw_materials[3]*perc_c[3] + raw_materials[4]*perc_c[4] + raw_materials[5]*perc_c[5] + raw_materials[6]*perc_c[6] + raw_materials[7]*perc_c[7])\n",
    "@expression(m, total_perc_c, total_mass_c / 500)\n",
    "@constraint(m, 2 <= total_perc_c <= 3)\n",
    "\n",
    "# set the constraint for the percentage of copper\n",
    "@expression(m, total_mass_cu, raw_materials[1]*perc_cu[1] + raw_materials[2]*perc_cu[2] + raw_materials[3]*perc_cu[3] + raw_materials[4]*perc_cu[4] + raw_materials[5]*perc_cu[5] + raw_materials[6]*perc_cu[6] + raw_materials[7]*perc_cu[7])\n",
    "@expression(m, total_perc_cu, total_mass_cu / 500)\n",
    "@constraint(m, 0.4 <= total_perc_cu <= 0.6)\n",
    "\n",
    "# set the constraint for the percentage of manganese\n",
    "@expression(m, total_mass_mn, raw_materials[1]*perc_mn[1] + raw_materials[2]*perc_mn[2] + raw_materials[3]*perc_mn[3] + raw_materials[4]*perc_mn[4] + raw_materials[5]*perc_mn[5] + raw_materials[6]*perc_mn[6] + raw_materials[7]*perc_mn[7])\n",
    "@expression(m, total_perc_mn, total_mass_mn / 500)\n",
    "@constraint(m, 1.2 <= total_perc_mn <= 1.65)\n",
    "\n",
    "@expression(m, total_cost, raw_materials[1]*cost[1] + raw_materials[2]*cost[2] + raw_materials[3]*cost[3] + raw_materials[4]*cost[4] + raw_materials[5]*cost[5] + raw_materials[6]*cost[6] + raw_materials[7]*cost[7])\n",
    "@objective(m, Min, total_cost)\n",
    "\n",
    "solve(m)\n",
    "\n",
    "println()\n",
    "println(\"C % = \", getvalue(total_perc_c))\n",
    "println(\"Cu % = \", getvalue(total_perc_cu))\n",
    "println(\"Mn % = \", getvalue(total_perc_mn))\n",
    "\n",
    "println()\n",
    "println(\"Total cost = \", getvalue(total_cost))\n",
    "\n",
    "\n",
    "\n",
    "\n"
   ]
  }
 ],
 "metadata": {
  "kernelspec": {
   "display_name": "Julia 0.5.0",
   "language": "julia",
   "name": "julia-0.5"
  },
  "language_info": {
   "file_extension": ".jl",
   "mimetype": "application/julia",
   "name": "julia",
   "version": "0.5.0"
  }
 },
 "nbformat": 4,
 "nbformat_minor": 2
}
