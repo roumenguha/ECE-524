{
 "cells": [
  {
   "cell_type": "markdown",
   "metadata": {
    "collapsed": true
   },
   "source": [
    "# Alloy blending [10 pts]\n",
    "\n",
    "The company Steelco has received an order for __500__ tons of steel to be used in shipbuilding. The steel must have the following characteristics:\n",
    "\n",
    "| Chemical Element | Minimum Grade (%) | Maximum Grade (%) | \n",
    "|------|---|---|---|---|\n",
    "|Carbon (C) | 2 | 3 | \n",
    "|Copper (Cu) | 0.4 | 0.6 |\n",
    "|Manganese (Mn) | 1.2 | 1.65 | \n",
    "\n",
    "The company has seven different raw materials in stock that may be used for the production of this\n",
    "steel. The following table lists the grades, available amounts and prices for all materials:\n",
    "\n",
    "| Raw Material | C % | Cu % | Mn % | Availability in tons | Cost in \\$/ton | \n",
    "|--------------|-----|------|------|----------------------|----------------|\n",
    "|Iron alloy 1 | 2.5 | 0 | 1.3 | 400 | 200 | \n",
    "|Iron alloy 2 | 3 | 0 | 0.8 | 300 | 250 |\n",
    "|Iron alloy 3 | 0 | 0.3 | 0 | 600 | 150 | \n",
    "|Copper 1 | 0 | 90 | 0 | 500 | 220 |\n",
    "|Copper 2 | 0 | 96 | 4 | 200 | 240 |\n",
    "|Aluminum 1 | 0 | 0.4 | 1.2 | 300 | 200 |\n",
    "|Aluminum 2 | 0 | 0.6 | 0 | 250 | 165 |\n",
    "\n",
    "__Determine the composition of the steel that minimizes the production cost.__"
   ]
  },
  {
   "cell_type": "code",
   "execution_count": 9,
   "metadata": {
    "collapsed": false
   },
   "outputs": [],
   "source": [
    "using JuMP"
   ]
  },
  {
   "cell_type": "code",
   "execution_count": 10,
   "metadata": {
    "collapsed": false
   },
   "outputs": [
    {
     "ename": "LoadError",
     "evalue": "ArgumentError: Dict(kv): kv needs to be an iterator of tuples or pairs",
     "output_type": "error",
     "traceback": [
      "ArgumentError: Dict(kv): kv needs to be an iterator of tuples or pairs",
      "",
      " in Dict{K,V}(::Base.Zip1{Array{JuMP.Variable,1}}) at .\\dict.jl:388"
     ]
    }
   ],
   "source": [
    "m = Model()\n",
    "\n",
    "# define all raw materials to be unsigned\n",
    "@variable(m, fe1 >= 0)\n",
    "@variable(m, fe2 >= 0)\n",
    "@variable(m, fe3 >= 0)\n",
    "@variable(m, cu1 >= 0)\n",
    "@variable(m, cu2 >= 0)\n",
    "@variable(m, al1 >= 0)\n",
    "@variable(m, al2 >= 0)\n",
    "\n",
    "raw_materials = [:fe1, :fe2, :fe3, :cu1, :cu2, :al2, :al2]\n",
    "masses        = Dict(zip([fe1, fe2, fe3, cu1, cu2, al2, al2]))\n",
    "\n",
    "availability  = Dict(zip([400, 300, 600, 500, 200, 300, 250]))\n",
    "cost          = Dict(zip([200, 250, 250, 220, 240, 200, 265]))\n",
    "\n",
    "perc_c        = Dict(zip([2.5, 3, 0, 0, 0, 0, 0]))\n",
    "perc_cu       = Dict(zip([0, 0, 0.3, 90, 96, 0.4]))\n",
    "perc_mn       = Dict(zip([1.3, 0.8, 0, 0, 4, 1.2, 0]))\n",
    "\n",
    "# constrain each according to their individual availability\n",
    "@constraint(m, masses[i in raw_materials] <= availability[i])\n",
    "\n",
    "\n"
   ]
  },
  {
   "cell_type": "code",
   "execution_count": null,
   "metadata": {
    "collapsed": true
   },
   "outputs": [],
   "source": []
  },
  {
   "cell_type": "code",
   "execution_count": null,
   "metadata": {
    "collapsed": true
   },
   "outputs": [],
   "source": []
  }
 ],
 "metadata": {
  "kernelspec": {
   "display_name": "Julia 0.5.0",
   "language": "julia",
   "name": "julia-0.5"
  },
  "language_info": {
   "file_extension": ".jl",
   "mimetype": "application/julia",
   "name": "julia",
   "version": "0.5.0"
  }
 },
 "nbformat": 4,
 "nbformat_minor": 2
}
