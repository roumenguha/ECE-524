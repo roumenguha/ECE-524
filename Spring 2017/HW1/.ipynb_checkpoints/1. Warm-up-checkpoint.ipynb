{
 "cells": [
  {
   "cell_type": "markdown",
   "metadata": {},
   "source": [
    "# 1. Warm-up [5 pts]\n",
    "\n",
    "Compare the answers found by each solver: which\n",
    "solver is more accurate? Which is fastest (use the @time macro)? Can you speculate as to why?"
   ]
  },
  {
   "cell_type": "code",
   "execution_count": 9,
   "metadata": {
    "collapsed": false
   },
   "outputs": [
    {
     "name": "stdout",
     "output_type": "stream",
     "text": [
      "  0.000319 seconds (106 allocations: 6.391 KB)\n",
      "Max 5 x1 - x2 + 11 x3\n",
      "Subject to\n",
      " 2 x1 - x2 - x3 >= 0\n",
      " 1 <= x1 <= 3\n",
      " 1 <= x2 <= 3\n",
      " 1 <= x3 <= 3\n",
      "\n",
      "Optimal\n",
      "x1 = 3.0\n",
      "x2 = 1.0\n",
      "x3 = 3.0\n"
     ]
    }
   ],
   "source": [
    "using JuMP, Clp, ECOS, SCS\n",
    "\n",
    "m1 = Model(solver=ClpSolver(LogLevel=0)) # using the Clp solver\n",
    "\n",
    "@variable(m1, 1 <= x1 <= 3)\n",
    "@variable(m1, 1 <= x2 <= 3)\n",
    "@variable(m1, 1 <= x3 <= 3)\n",
    "\n",
    "@constraint(m1, 2x1 >= x2 + x3)\n",
    "\n",
    "@objective(m1, Max, 5x1 - x2 + 11x3)\n",
    "\n",
    "@time status = solve(m1)\n",
    "\n",
    "println(m1)\n",
    "println(status)\n",
    "\n",
    "println(\"x1 = \", getvalue(x1))\n",
    "println(\"x2 = \", getvalue(x2))\n",
    "println(\"x3 = \", getvalue(x3))"
   ]
  },
  {
   "cell_type": "code",
   "execution_count": 15,
   "metadata": {
    "collapsed": false
   },
   "outputs": [
    {
     "name": "stdout",
     "output_type": "stream",
     "text": [
      "  0.000511 seconds (841 allocations: 48.766 KB)\n",
      "Max 5 x1 - x2 + 11 x3\n",
      "Subject to\n",
      " 2 x1 - x2 - x3 >= 0\n",
      " 1 <= x1 <= 3\n",
      " 1 <= x2 <= 3\n",
      " 1 <= x3 <= 3\n",
      "\n",
      "Optimal\n",
      "x1 = 2.999999998615505\n",
      "x2 = 1.0000000052158287\n",
      "x3 = 3.0000000004504215\n"
     ]
    }
   ],
   "source": [
    "m2 = Model(solver=ECOSSolver(verbose=0)) # using the ECOS solver\n",
    "\n",
    "@variable(m2, 1 <= x1 <= 3)\n",
    "@variable(m2, 1 <= x2 <= 3)\n",
    "@variable(m2, 1 <= x3 <= 3)\n",
    "\n",
    "@constraint(m2, 2x1 >= x2 + x3)\n",
    "\n",
    "@objective(m2, Max, 5x1 - x2 + 11x3)\n",
    "\n",
    "@time status = solve(m2)\n",
    "\n",
    "println(m2)\n",
    "println(status)\n",
    "\n",
    "println(\"x1 = \", getvalue(x1))\n",
    "println(\"x2 = \", getvalue(x2))\n",
    "println(\"x3 = \", getvalue(x3))"
   ]
  },
  {
   "cell_type": "code",
   "execution_count": 20,
   "metadata": {
    "collapsed": false
   },
   "outputs": [
    {
     "name": "stdout",
     "output_type": "stream",
     "text": [
      "  0.000577 seconds (638 allocations: 37.188 KB)\n",
      "Max 5 x1 - x2 + 11 x3\n",
      "Subject to\n",
      " 2 x1 - x2 - x3 >= 0\n",
      " 1 <= x1 <= 3\n",
      " 1 <= x2 <= 3\n",
      " 1 <= x3 <= 3\n",
      "\n",
      "Optimal\n",
      "x1 = 2.999979012563557\n",
      "x2 = 1.000007765927258\n",
      "x3 = 3.0000200958587935\n"
     ]
    }
   ],
   "source": [
    "m3 = Model(solver=SCSSolver(verbose=0)) # using the SCS solver\n",
    "\n",
    "@variable(m3, 1 <= x1 <= 3)\n",
    "@variable(m3, 1 <= x2 <= 3)\n",
    "@variable(m3, 1 <= x3 <= 3)\n",
    "\n",
    "@constraint(m3, 2x1 >= x2 + x3)\n",
    "\n",
    "@objective(m3, Max, 5x1 - x2 + 11x3)\n",
    "\n",
    "@time status = solve(m3)\n",
    "\n",
    "println(m3)\n",
    "println(status)\n",
    "\n",
    "println(\"x1 = \", getvalue(x1))\n",
    "println(\"x2 = \", getvalue(x2))\n",
    "println(\"x3 = \", getvalue(x3))"
   ]
  },
  {
   "cell_type": "markdown",
   "metadata": {},
   "source": [
    "On first run, Clp took the longest time to run, followed by ECOS then SCS, which was the fastest solver of the three. \n",
    "\n",
    "After multiple runs, Clp runs the quickest, followed by ECOS then SCS which was the slowest. However, both ECOS and SCS have trouble with integer rounding, with  ECOS having less error from the actual values. "
   ]
  },
  {
   "cell_type": "code",
   "execution_count": null,
   "metadata": {
    "collapsed": true
   },
   "outputs": [],
   "source": []
  }
 ],
 "metadata": {
  "kernelspec": {
   "display_name": "Julia 0.5.0",
   "language": "julia",
   "name": "julia-0.5"
  },
  "language_info": {
   "file_extension": ".jl",
   "mimetype": "application/julia",
   "name": "julia",
   "version": "0.5.0"
  }
 },
 "nbformat": 4,
 "nbformat_minor": 2
}
