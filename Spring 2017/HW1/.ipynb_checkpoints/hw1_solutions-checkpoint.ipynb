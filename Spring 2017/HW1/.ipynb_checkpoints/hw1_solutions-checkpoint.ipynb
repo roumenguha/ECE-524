{
 "cells": [
  {
   "cell_type": "markdown",
   "metadata": {},
   "source": [
    "# Homework 1 - Solutions\n",
    "### Prepared by: Laurent Lessard"
   ]
  },
  {
   "cell_type": "markdown",
   "metadata": {},
   "source": [
    "## 1. Warm up\n",
    "Model the following problem in JuMP. \n",
    "\n",
    "$$\\begin{aligned}\n",
    "\\text{maximize}\\qquad& 5x_1 − x_2 + 11x_3\\\\\n",
    "\\text{subject to:}\\qquad& 2x_1 \\ge x_2 + x_3 \\\\\n",
    "& 0 \\le x_j \\le 3, \\ \\ j=1,...,3\n",
    "\\end{aligned}$$\n",
    "\n",
    "Solve this problem using Clp, ECOS, and SCS. Compare the answers found by each solver."
   ]
  },
  {
   "cell_type": "code",
   "execution_count": 8,
   "metadata": {
    "collapsed": false
   },
   "outputs": [],
   "source": [
    "using JuMP\n",
    "function solveLP(solver)\n",
    "    m = Model(solver=solver)\n",
    "    @variable(m, 0 <= x[1:3] <= 3)\n",
    "    @constraint(m, 2x[1] >= x[2] + x[3] )\n",
    "    @objective(m, Max, 5x[1] - x[2] + 11x[3] )\n",
    "    status = solve(m)\n",
    "    println()\n",
    "    println(\"SOLVER: \", m.solver)\n",
    "    println(\"STATUS: \", status)\n",
    "    for i = 1:3\n",
    "        println(\"x[\", i, \"] = \", getvalue(x[i]) )\n",
    "    end\n",
    "    println(\"objective = \", getobjectivevalue(m) )\n",
    "end;"
   ]
  },
  {
   "cell_type": "code",
   "execution_count": 11,
   "metadata": {
    "collapsed": false
   },
   "outputs": [
    {
     "name": "stdout",
     "output_type": "stream",
     "text": [
      "\n",
      "SOLVER: Clp.ClpMathProgSolverInterface.ClpSolver(Any[])\n",
      "STATUS: Optimal\n",
      "x[1] = 3.0\n",
      "x[2] = 0.0\n",
      "x[3] = 3.0\n",
      "objective = 48.0\n",
      "  0.002144 seconds (639 allocations: 32.375 KB)\n",
      "\n",
      "SOLVER: ECOS.ECOSSolver(Any[])\n",
      "STATUS: Optimal\n",
      "x[1] = 2.999999998571697\n",
      "x[2] = 8.223270011736391e-9\n",
      "x[3] = 3.0000000001977236\n",
      "objective = 47.999999986810174\n",
      "  0.114595 seconds (1.54 k allocations: 110.750 KB)\n",
      "\n",
      "SOLVER: SCS.SCSSolver(Any[])\n",
      "STATUS: Optimal\n",
      "x[1] = 2.999985652990818\n",
      "x[2] = 4.149724928776938e-6\n",
      "x[3] = 3.0000130627112176\n",
      "objective = 48.00006780505256\n",
      "  0.337513 seconds (1.39 k allocations: 100.984 KB)\n"
     ]
    }
   ],
   "source": [
    "using Clp, ECOS, SCS\n",
    "for solver in [ ClpSolver(), ECOSSolver(), SCSSolver() ]\n",
    "    @time solveLP(solver)\n",
    "end"
   ]
  },
  {
   "cell_type": "markdown",
   "metadata": {},
   "source": [
    "**Comments:** the most accurate solver is Clp, because it is a dedicated LP solver. The other two solvers are less accurate (and slower) because they are using more general algorithms that are less specialized and more boradly applicable."
   ]
  },
  {
   "cell_type": "markdown",
   "metadata": {
    "collapsed": true
   },
   "source": [
    "---\n",
    "## 2. Standard form with equality constraints\n",
    "\n",
    "Rather than using the standard LP form we saw in class, some prefer using a form where all variables are nonnegative, all constraints are equality constraints, and the cost function is a minimization. So a general LP would look like:\n",
    "\n",
    "$$\\begin{aligned}\n",
    "\\text{minimize} \\qquad& c^Tx \\\\\n",
    "\\text{subject to:} \\qquad& Ax = b \\\\\n",
    "& x \\ge 0\\\\\n",
    "\\end{aligned}$$\n",
    "\n",
    "Consider the following LP:\n",
    "$$\\begin{aligned}\n",
    "\\text{maximize} \\qquad& 3z_1 - z_2 \\\\\n",
    "\\text{subject to:} \\qquad& -z_1 + 6z_2 - z_3 + z_4 \\ge -3\\\\\n",
    "& 7z_2 + z_4 = 5 \\\\\n",
    "& z_3 + z_4 \\le 2 \\\\\n",
    "& -1 \\le z_2 \\le 5,\\quad -1 \\le z_3 \\le 5,\\quad -2 \\le z_2 \\le 2\n",
    "\\end{aligned}$$\n",
    "\n",
    "**a)** Transform the above LP into the equality-constrained standard form of (1). What are A, b, c,\n",
    "and x? Be sure to explain how the decision variables of your transformed LP relate to those of\n",
    "the original LP \n",
    "\n",
    "**b)** Solve both versions of the LP using JuMP and show that you can recover the optimal z and\n",
    "objective value by solving your transformed version of the LP."
   ]
  },
  {
   "cell_type": "markdown",
   "metadata": {
    "collapsed": true
   },
   "source": [
    "We have omitted the details for part a. The solution to part b is given below."
   ]
  },
  {
   "cell_type": "code",
   "execution_count": 5,
   "metadata": {
    "collapsed": false
   },
   "outputs": [
    {
     "name": "stdout",
     "output_type": "stream",
     "text": [
      "Max 3 z[1] - z[2]\n",
      "Subject to\n",
      " -1 <= z[2] <= 5\n",
      " -1 <= z[3] <= 5\n",
      " -2 <= z[4] <= 2\n",
      " -z[1] + 6 z[2] - z[3] + z[4] >= -3\n",
      " z[3] + z[4] <= 2\n",
      " 7 z[2] + z[4] == 5\n",
      " z[i] free for all i in {1,2,3,4}\n",
      "\n",
      "Optimal\n",
      "\n",
      "z[1] = 8.571428571428571\n",
      "z[2] = 0.42857142857142855\n",
      "z[3] = -1.0\n",
      "z[4] = 2.0\n",
      "objective = 25.28571428571429\n"
     ]
    }
   ],
   "source": [
    "# Solution of the original problem\n",
    "\n",
    "using JuMP\n",
    "m = Model()\n",
    "\n",
    "@variable(m, z[1:4] )\n",
    "@constraints(m, begin\n",
    "    -1 <= z[2] <= 5\n",
    "    -1 <= z[3] <= 5\n",
    "    -2 <= z[4] <= 2\n",
    "    -z[1] + 6z[2] - z[3] + z[4] >= -3\n",
    "    z[3] + z[4] <= 2\n",
    "    7z[2] + z[4] == 5\n",
    "end)\n",
    "@objective(m, Max, 3z[1] - z[2])\n",
    "\n",
    "status = solve(m)\n",
    "println(m)\n",
    "println(status)\n",
    "println()\n",
    "for i = 1:4\n",
    "    println(\"z[\", i, \"] = \", getvalue(z[i]) )\n",
    "end\n",
    "println(\"objective = \", getobjectivevalue(m) )"
   ]
  },
  {
   "cell_type": "code",
   "execution_count": 6,
   "metadata": {
    "collapsed": false
   },
   "outputs": [
    {
     "name": "stdout",
     "output_type": "stream",
     "text": [
      "Min -3 x[1] + 0.8333333333333333 x[2] - 0.16666666666666666 x[3]\n",
      "Subject to\n",
      " x[4] + x[5] == 6\n",
      " x[2] + x[3] == 6\n",
      " x[6] + x[7] == 4\n",
      " x[1] - 5 x[2] + x[3] + 0.8333333333333333 x[4] - 0.16666666666666666 x[5] - 0.5 x[6] + 0.5 x[7] + x[8] == 3\n",
      " 5.833333333333333 x[2] - 1.1666666666666665 x[3] + 0.5 x[6] - 0.5 x[7] == 5\n",
      " 0.8333333333333333 x[4] - 0.16666666666666666 x[5] + 0.5 x[6] - 0.5 x[7] + x[9] == 2\n",
      " x[i] >= 0 for all i in {1,2,..,8,9}\n",
      "\n",
      "Optimal\n",
      "\n",
      "z[1] = 8.571428571428571\n",
      "z[2] = 0.4285714285714286\n",
      "z[3] = -1.0\n",
      "z[4] = 2.0\n",
      "objective = 25.28571428571429\n"
     ]
    }
   ],
   "source": [
    "# Solution of the new version of the problem\n",
    "\n",
    "using JuMP\n",
    "m = Model()\n",
    "\n",
    "@variable(m, x[1:9] >= 0 )\n",
    "@constraints(m, begin\n",
    "    x[4] + x[5] == 6\n",
    "    x[2] + x[3] == 6\n",
    "    x[6] + x[7] == 4\n",
    "    x[1]-5x[2]+x[3]+(5/6)x[4]-(1/6)x[5]-(1/2)x[6]+(1/2)x[7]+x[8] == 3\n",
    "    (35/6)x[2]-(7/6)x[3]+(1/2)x[6]-(1/2)x[7] == 5\n",
    "    (5/6)x[4]-(1/6)x[5]+(1/2)x[6]-(1/2)x[7]+x[9] == 2\n",
    "end)\n",
    "@objective(m, Min, -3x[1] + (5/6)x[2] - (1/6)x[3] )\n",
    "\n",
    "status = solve(m)\n",
    "println(m)\n",
    "println(status)\n",
    "println()\n",
    "println(\"z[1] = \", getvalue( x[1] ))\n",
    "println(\"z[2] = \", getvalue( (5/6)x[2] - (1/6)x[3]) )\n",
    "println(\"z[3] = \", getvalue( (5/6)x[4] - (1/6)x[5]) )\n",
    "println(\"z[4] = \", getvalue( (1/2)x[6] - (1/2)x[7]) )\n",
    "println(\"objective = \", -getobjectivevalue(m) )"
   ]
  },
  {
   "cell_type": "code",
   "execution_count": 7,
   "metadata": {
    "collapsed": false
   },
   "outputs": [
    {
     "name": "stdout",
     "output_type": "stream",
     "text": [
      "Min -3 x[1] + 0.8333333333333334 x[2] - 0.16666666666666666 x[3]\n",
      "Subject to\n",
      " x[4] + x[5] == 6\n",
      " x[2] + x[3] == 6\n",
      " x[6] + x[7] == 4\n",
      " x[1] - 5 x[2] + x[3] + 0.8333333333333334 x[4] - 0.16666666666666666 x[5] - 0.5 x[6] + 0.5 x[7] + x[8] == 3\n",
      " 5.833333333333333 x[2] - 1.1666666666666667 x[3] + 0.5 x[6] - 0.5 x[7] == 5\n",
      " 0.8333333333333334 x[4] - 0.16666666666666666 x[5] + 0.5 x[6] - 0.5 x[7] + x[9] == 2\n",
      " x[i] >= 0 for all i in {1,2,..,8,9}\n",
      "\n",
      "Optimal\n",
      "\n",
      "z[1] = 8.571428571428571\n",
      "z[2] = 0.4285714285714286\n",
      "z[3] = -1.0\n",
      "z[4] = 2.0\n",
      "objective = 25.28571428571429\n"
     ]
    }
   ],
   "source": [
    "# Solution of the new version of the problem (condensed form)\n",
    "\n",
    "using JuMP\n",
    "m = Model()\n",
    "\n",
    "@variable(m, x[1:9] >= 0 )\n",
    "\n",
    "A = [ 0   0    0    1    1    0    0    0    0\n",
    "      0   1    1    0    0    0    0    0    0\n",
    "      0   0    0    0    0    1    1    0    0\n",
    "      1  -5    1   5/6 -1/6 -1/2  1/2   1    0\n",
    "      0  35/6 -7/6  0    0   1/2 -1/2   0    0\n",
    "      0   0    0   5/6 -1/6  1/2 -1/2   0    1 ]\n",
    "\n",
    "b = [ 6; 6; 4; 3; 5; 2 ]\n",
    "\n",
    "c = [ -3; 5/6; -1/6; 0; 0; 0; 0; 0; 0 ]\n",
    "\n",
    "@constraint(m, A*x .== b)\n",
    "@objective(m, Min, dot(c,x))\n",
    "\n",
    "status = solve(m)\n",
    "println(m)\n",
    "println(status)\n",
    "println()\n",
    "println(\"z[1] = \", getvalue( x[1]) )\n",
    "println(\"z[2] = \", getvalue( (5/6)x[2] - (1/6)x[3]) )\n",
    "println(\"z[3] = \", getvalue( (5/6)x[4] - (1/6)x[5]) )\n",
    "println(\"z[4] = \", getvalue( (1/2)x[6] - (1/2)x[7]) )\n",
    "println(\"objective = \", -getobjectivevalue(m) )"
   ]
  },
  {
   "cell_type": "markdown",
   "metadata": {},
   "source": [
    "---\n",
    "## 3. Crop planning\n",
    "\n",
    "Farmer Jane owns 45 acres of land. She is going to plant each with wheat or corn. Each acre planted with wheat yields \\$200 profit; each with corn yields \\$300 profit. The labor and fertilizer used for each acre are given in the table below. One hundred workers and 120 tons of fertilizer are available. How should Jane plant her crops to maximize profits from her land?\n",
    "\n",
    "|            | Wheat     | Corn      |\n",
    "|------------|-----------|-----------|\n",
    "| Labor      | 3 workers | 2 workers |\n",
    "| Fertilizer | 2 tons    | 4 tons    |"
   ]
  },
  {
   "cell_type": "code",
   "execution_count": 3,
   "metadata": {
    "collapsed": false
   },
   "outputs": [
    {
     "name": "stdout",
     "output_type": "stream",
     "text": [
      "acres of wheat planted: 19.99999999999999\n",
      "acres of corn planted:  20.000000000000007\n",
      "total profit: $10000.0\n"
     ]
    }
   ],
   "source": [
    "using JuMP\n",
    "\n",
    "m = Model()\n",
    "\n",
    "@variable(m, wheat >= 0)    # acres of wheat planted\n",
    "@variable(m, corn  >= 0)    # acres of corn planted\n",
    "@constraint(m, wheat + corn <= 45 )        # acreage budget\n",
    "@constraint(m, 3*wheat + 2*corn <= 100 )   # labor budget\n",
    "@constraint(m, 2*wheat + 4*corn <= 120 )   # fertilizer budget\n",
    "@objective(m, Max, 200*wheat + 300*corn )  # maximize profit\n",
    "\n",
    "solve(m)\n",
    "println(\"acres of wheat planted: \", getvalue(wheat))\n",
    "println(\"acres of corn planted:  \", getvalue(corn))\n",
    "println(\"total profit: \\$\", getobjectivevalue(m))"
   ]
  },
  {
   "cell_type": "code",
   "execution_count": 7,
   "metadata": {
    "collapsed": false
   },
   "outputs": [
    {
     "data": {
      "image/png": "[encoded data removed]",
      "text/plain": [
       "PyPlot.Figure(PyObject <matplotlib.figure.Figure object at 0x0000000028946EB8>)"
      ]
     },
     "metadata": {},
     "output_type": "display_data"
    }
   ],
   "source": [
    "# here is PyPlot code that plots the region and shows the optimal value\n",
    "using PyPlot\n",
    "figure(figsize=(6,5))\n",
    "\n",
    "# express each constraint as corn = f(wheat)\n",
    "w = linspace(-10,80,3)\n",
    "plot( w, (10000-200*w)/300, \"r--\")     # cost (200w + 300c = 10000)\n",
    "plot( w, 0*w, \"b-\" )                   # c = 0\n",
    "plot( 0*w, w, \"b-\" )                   # w = 0\n",
    "plot( w, (100 - 3*w)/2, \"b-\")          # 3w + 2c = 100\n",
    "plot( w, (120 - 2*w)/4, \"b-\")          # 2w + 4c = 120\n",
    "plot( w, 45-w, \"b-\")                   # w + c = 45\n",
    "plot( 20, 20, \"k.\", markersize=12)     # optimal point (20,20)\n",
    "text( 13, 18, \"(20,20)\")\n",
    "fill( [0, 0, 20, 100/3, 0], [0, 30, 20, 0, 0], color=(160/255,220/255,255/255) )\n",
    "grid(); axis(\"equal\"); axis([-2,40,-2,40]); \n",
    "xlabel(\"acres of wheat\");  ylabel(\"acres of corn\")\n",
    "legend([\"optimal cost\", \"constraints\"],fontsize=12)\n",
    "title(\"feasible set for the crop planning problem\");"
   ]
  },
  {
   "cell_type": "markdown",
   "metadata": {},
   "source": [
    "---\n",
    "## 4. Alloy blending\n",
    "\n",
    "The company Steelco has received an order for 500 tonnes of steel to be used in shipbuilding.  The steel must have the following charactersitics:\n",
    "\n",
    "| Chemical Element | Minimum Grade | Maximum Grade |\n",
    "|------------------|---------------|---------------|\n",
    "| Carbon (C)       | 2             | 3             |\n",
    "| Copper (Cu)      | 0.4           | 0.6           |\n",
    "| Manganese (Mn)   | 1.2           | 1.65          |\n",
    "\n",
    "The company has seven different raw materials in stock that may be used for the production of this steel. The following table lists the grades, available amounts and prices for all materials:\n",
    "\n",
    "| Raw Material | C%     | Cu%    | Mn%    | Availability in t | Cost in $/t  |\n",
    "|--------------|--------|--------|--------|-------------------|--------------|\n",
    "| Iron1        | 2.5    | 0      | 1.3    | 400               | 200          |\n",
    "| Iron2        | 3      | 0      | 0.8    | 300               | 250          |\n",
    "| Iron3        | 0      | 0.3    | 0      | 600               | 150          |\n",
    "| Cu1          | 0      | 90     | 0      | 500               | 220          |\n",
    "| Cu2          | 0      | 96     | 4      | 200               | 240          |\n",
    "| Al1          | 0      | 0.4    | 1.2    | 300               | 200          |\n",
    "| Al2          | 0      | 0.6    | 0      | 250               | 165          |\n",
    "\n",
    "The objective is to determine the composition of the steel that minimizes the production cost."
   ]
  },
  {
   "cell_type": "code",
   "execution_count": 12,
   "metadata": {
    "collapsed": true
   },
   "outputs": [],
   "source": [
    "# store all the data for the problem\n",
    "\n",
    "raw = [ :iron1, :iron2, :iron3, :cu1, :cu2, :al1, :al2 ]\n",
    "\n",
    "# composition (in percent) of [C, Cu, Mn]\n",
    "composition = Dict(\n",
    ":iron1 => [2.5, 0,  1.3],\n",
    ":iron2 => [3,   0,  0.8],\n",
    ":iron3 => [0,  0.3,  0 ],\n",
    ":cu1   => [0,  90,   0 ],\n",
    ":cu2   => [0,  96,   4 ],\n",
    ":al1   => [0,  0.4, 1.2],\n",
    ":al2   => [0,  0.6,  0 ])\n",
    "\n",
    "# availability in tonnes\n",
    "availability = Dict(\n",
    ":iron1 => 400,\n",
    ":iron2 => 300,\n",
    ":iron3 => 600,\n",
    ":cu1   => 500,\n",
    ":cu2   => 200,\n",
    ":al1   => 300,\n",
    ":al2   => 250)\n",
    "\n",
    "# cost in dollars per tonne\n",
    "cost = Dict(\n",
    ":iron1 => 200,\n",
    ":iron2 => 250,\n",
    ":iron3 => 150,\n",
    ":cu1   => 220,\n",
    ":cu2   => 240,\n",
    ":al1   => 200,\n",
    ":al2   => 165)\n",
    "\n",
    "# minimum and maximum grade of [C, Cu, Mn]\n",
    "MinGrade = [2, 0.4, 1.2]\n",
    "MaxGrade = [3, 0.6, 1.65]\n",
    ";"
   ]
  },
  {
   "cell_type": "code",
   "execution_count": 16,
   "metadata": {
    "collapsed": false
   },
   "outputs": [
    {
     "name": "stdout",
     "output_type": "stream",
     "text": [
      "use: 1 dimensions:\n",
      "[iron1] = 400.0\n",
      "[iron2] = 0.0\n",
      "[iron3] = 39.77630199231041\n",
      "[  cu1] = 0.0\n",
      "[  cu2] = 2.7612722824187346\n",
      "[  al1] = 57.46242572527083\n",
      "[  al2] = 0.0\n",
      "\n",
      "The cost will be $98121.63579168123\n"
     ]
    }
   ],
   "source": [
    "using JuMP\n",
    "\n",
    "m = Model()\n",
    "@variable(m, use[raw] >= 0)   # amount of each raw material to use (in tonnes)\n",
    "@expression(m, production, sum(use))\n",
    "@constraint(m, avail[i in raw], use[i] <= availability[i])\n",
    "@constraint(m, sum(composition[i]*use[i] for i in raw) .>= MinGrade*production)\n",
    "@constraint(m, sum(composition[i]*use[i] for i in raw) .<= MaxGrade*production)\n",
    "@constraint(m, production >= 500)\n",
    "@objective(m, Min, sum(cost[i]*use[i] for i in raw))\n",
    "solve(m)\n",
    "println(getvalue(use))\n",
    "println(\"The cost will be \\$\", getobjectivevalue(m))"
   ]
  }
 ],
 "metadata": {
  "kernelspec": {
   "display_name": "Julia 0.5.0",
   "language": "julia",
   "name": "julia-0.5"
  },
  "language_info": {
   "file_extension": ".jl",
   "mimetype": "application/julia",
   "name": "julia",
   "version": "0.5.0"
  }
 },
 "nbformat": 4,
 "nbformat_minor": 0
}
