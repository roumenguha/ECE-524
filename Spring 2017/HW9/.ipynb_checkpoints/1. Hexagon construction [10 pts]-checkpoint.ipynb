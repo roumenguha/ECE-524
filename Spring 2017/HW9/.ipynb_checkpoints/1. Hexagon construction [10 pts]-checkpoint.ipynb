{
 "cells": [
  {
   "cell_type": "markdown",
   "metadata": {},
   "source": [
    "# 1. Hexagon construction [10 pts]\n",
    "\n",
    "The goal is to figure out the optimal geometry of a hexagon such that (1) the __hexagon's area is maximized__ and (2) the hexagon's __diameter does not exceed 1__. The diameter of the hexagon is the largest distance between any pair of points belonging to the hexagon. There are many different ways to solve this problem. A few suggestions/hints:\n",
    "\n",
    "+ Place one of the vertices at the origin so that you don't need as many decision variables.\n",
    "+ A simple way of computing the area of a hexagon is to split it into four triangles that share a common vertex. The area of the hexagon is then the sum of the areas of the four triangles.\n",
    "+ The optimal solution will look like a legitimate hexagon. It will not be degenerate (no coincident vertices), nor will it be perfectly regular (all sidelengths equal).\n",
    "\n",
    "Plot a picture of the optimal hexagon."
   ]
  },
  {
   "cell_type": "code",
   "execution_count": null,
   "metadata": {
    "collapsed": true
   },
   "outputs": [],
   "source": []
  },
  {
   "cell_type": "code",
   "execution_count": null,
   "metadata": {
    "collapsed": true
   },
   "outputs": [],
   "source": []
  }
 ],
 "metadata": {
  "kernelspec": {
   "display_name": "Julia 0.5.1",
   "language": "julia",
   "name": "julia-0.5"
  },
  "language_info": {
   "file_extension": ".jl",
   "mimetype": "application/julia",
   "name": "julia",
   "version": "0.5.1"
  }
 },
 "nbformat": 4,
 "nbformat_minor": 2
}
