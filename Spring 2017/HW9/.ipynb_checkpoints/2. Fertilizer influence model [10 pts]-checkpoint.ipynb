{
 "cells": [
  {
   "cell_type": "markdown",
   "metadata": {},
   "source": [
    "# 2. Fertilizer infuence model  [10 pts]\n",
    "\n",
    "A series of experiments is conducted to determine the effect of a particular fertilizer on wheat crop yield. Here are the results: \n",
    "\n",
    "| fertilizer rate ($x$) | crop yield ($y$) |\n",
    "|-----------------------|------------------|\n",
    "| $-5$ | $127$ |\n",
    "| $-3$ | $151$ |\n",
    "| $-1$ | $379$ |\n",
    "| $1$ | $421$ |\n",
    "| $3$ | $460$ |\n",
    "| $5$ | $426$ |\n",
    "\n",
    "Such situations typically involve some sort of \"diminishing returns\". So there is a limit to how much the fertilizer can boost the yield. A popular model for this relationship is the following:\n",
    "\n",
    "<center> $y$ = $k_1$ + $k_2exp(k_3x)$ </center>\n",
    "\n",
    "Use nonlinear least squares to determine the values of ($k_1$, $k_2$, $k_3$) that provide the best fit to the data. We are expecting coefficients in the neighborhood of (500, -200,-1).\n",
    "\n",
    "To display your result, produce a plot of the original data points and the best-fit curve."
   ]
  },
  {
   "cell_type": "code",
   "execution_count": null,
   "metadata": {
    "collapsed": true
   },
   "outputs": [],
   "source": []
  }
 ],
 "metadata": {
  "kernelspec": {
   "display_name": "Julia 0.5.1",
   "language": "julia",
   "name": "julia-0.5"
  },
  "language_info": {
   "file_extension": ".jl",
   "mimetype": "application/julia",
   "name": "julia",
   "version": "0.5.1"
  }
 },
 "nbformat": 4,
 "nbformat_minor": 2
}
