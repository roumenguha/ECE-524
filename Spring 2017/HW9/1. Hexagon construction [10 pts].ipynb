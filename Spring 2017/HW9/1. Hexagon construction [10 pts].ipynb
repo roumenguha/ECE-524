{
 "cells": [
  {
   "cell_type": "markdown",
   "metadata": {},
   "source": [
    "# 1. Hexagon construction [10 pts]\n",
    "\n",
    "The goal is to figure out the optimal geometry of a hexagon such that (1) the __hexagon's area is maximized__ and (2) the hexagon's __diameter does not exceed 1__. The diameter of the hexagon is the largest distance between any pair of points belonging to the hexagon. There are many different ways to solve this problem. A few suggestions/hints:\n",
    "\n",
    "+ Place one of the vertices at the origin so that you don't need as many decision variables.\n",
    "+ A simple way of computing the area of a hexagon is to split it into four triangles that share a common vertex. The area of the hexagon is then the sum of the areas of the four triangles.\n",
    "+ The optimal solution will look like a legitimate hexagon. It will not be degenerate (no coincident vertices), nor will it be perfectly regular (all sidelengths equal).\n",
    "\n",
    "Plot a picture of the optimal hexagon."
   ]
  },
  {
   "cell_type": "code",
   "execution_count": 1,
   "metadata": {
    "collapsed": false
   },
   "outputs": [
    {
     "name": "stderr",
     "output_type": "stream",
     "text": [
      "\u001b[1m\u001b[34mINFO: Precompiling module JuMP.\n",
      "\u001b[0m\u001b[1m\u001b[34mINFO: Precompiling module PyPlot.\n",
      "\u001b[0m\u001b[1m\u001b[34mINFO: Installing matplotlib via the Conda matplotlib package...\n",
      "\u001b[0m\u001b[1m\u001b[34mINFO: Precompiling module Ipopt.\n",
      "\u001b[0m"
     ]
    },
    {
     "name": "stdout",
     "output_type": "stream",
     "text": [
      "Optimal\n",
      "Optimal area: 2.5980762614802067\n"
     ]
    },
    {
     "data": {
      "text/plain": [
       "6×2 Array{Float64,2}:\n",
       " 1.0  60.0\n",
       " 1.0  60.0\n",
       " 1.0  60.0\n",
       " 1.0  60.0\n",
       " 1.0  60.0\n",
       " 1.0  60.0"
      ]
     },
     "execution_count": 1,
     "metadata": {},
     "output_type": "execute_result"
    }
   ],
   "source": [
    "using JuMP, PyPlot, Ipopt\n",
    "n = 6\n",
    "\n",
    "m = Model(solver = IpoptSolver())\n",
    "@variable(m, 0 <= r[1:n] <= 1 )\n",
    "@variable(m, α[1:n] >= 0 )\n",
    "\n",
    "# angles sum to 2π\n",
    "@constraint(m, sum(α) <= 2π)\n",
    "\n",
    "@NLobjective(m, Max, 0.5*sum(r[i]*r[i+1]*sin(α[i]) for i=1:n-1) + 0.5*r[1]*r[n]*sin(α[n]) )\n",
    "\n",
    "status = solve(m)\n",
    "\n",
    "println(status)\n",
    "println(\"Optimal area: \", getobjectivevalue(m))\n",
    "getvalue([r α*180/π])"
   ]
  },
  {
   "cell_type": "code",
   "execution_count": null,
   "metadata": {
    "collapsed": true
   },
   "outputs": [],
   "source": []
  }
 ],
 "metadata": {
  "kernelspec": {
   "display_name": "Julia 0.5.1",
   "language": "julia",
   "name": "julia-0.5"
  },
  "language_info": {
   "file_extension": ".jl",
   "mimetype": "application/julia",
   "name": "julia",
   "version": "0.5.1"
  }
 },
 "nbformat": 4,
 "nbformat_minor": 2
}
