{
 "cells": [
  {
   "cell_type": "markdown",
   "metadata": {},
   "source": [
    "# 2. Construction with Constraints [10 pts]\n",
    "#### by Roumen Guha, on Sunday, February 12th, 2017\n",
    "\n",
    "During the next 4 months, a construction firm must complete three projects. Each project has a deadline as well as labor requirements. \n",
    "\n",
    "+ Project 1 must be completed no later than 3 months from now and requires 8 worker-months of labor. \n",
    "+ Project 2 must be completed no later than 4 months from now and requires 10 worker-months of labor. \n",
    "+ Project 3 must be completed no later than 2 months from now and requires 12 worker-months of labor. \n",
    "\n",
    "| Project | 1  | 2  | 3  |\n",
    "|---------|----|----|----|\n",
    "| Deadline (Months) | 3  | 4 | 2 | \n",
    "| Required Labor (Worker-Months)  | 8 | 10 | 12 | \n",
    "\n",
    "Each month, __8__ workers are available. During a given month, no more than __6__ workers can work on a single job. Determine whether all three projects can be completed on time."
   ]
  },
  {
   "cell_type": "markdown",
   "metadata": {},
   "source": [
    "#### Solution (without Julia)\n",
    "\n",
    "Given the constraints, we can see an immediate solution. The first two months will have 6 workers working on Project 3 to complete it in 2 months. These first two months will have the remaining 2 available workers working on Project 1, so that it require only 4 worker-months of labor by the start of the third month. So, in month 3, 4 workers will work on Projects 1 and 2, and by the end of the third month Project 1 will be complete and Project 2 will require 6 more worker-months of labor. This leaves 6 workers working on Project 2 for the last month, allowing the project to meet its deadlines. We therefore know that the goal is at least attainable, if not surpassable."
   ]
  },
  {
   "cell_type": "markdown",
   "metadata": {},
   "source": [
    "#### Solution (with Julia)"
   ]
  },
  {
   "cell_type": "code",
   "execution_count": 24,
   "metadata": {
    "collapsed": false
   },
   "outputs": [
    {
     "data": {
      "text/plain": [
       ":Optimal"
      ]
     },
     "execution_count": 24,
     "metadata": {},
     "output_type": "execute_result"
    }
   ],
   "source": [
    "using JuMP\n",
    "\n",
    "available_monthly_workers = 8\n",
    "max_workers_per_job = 6\n",
    "required_labor = [8, 10, 12]\n",
    "\n",
    "m = Model()\n",
    "\n",
    "# arrays contain the number of workers in that month who worked on that project\n",
    "@variable(m, 0 <= labor_project1[1:3] <= max_workers_per_job)\n",
    "@variable(m, 0 <= labor_project2[1:4] <= max_workers_per_job)\n",
    "@variable(m, 0 <= labor_project3[1:2] <= max_workers_per_job)\n",
    "\n",
    "# set constraints on the distribution (and the deadlines, inherently) of work \n",
    "@expression(m, labor_month1, labor_project1[1] + labor_project2[1] + labor_project3[1])\n",
    "@constraint(m, 0 <= labor_month1 <= available_monthly_workers)\n",
    "@expression(m, labor_month2, labor_project1[2] + labor_project2[2] + labor_project3[2])\n",
    "@constraint(m, 0 <= labor_month2 <= available_monthly_workers)\n",
    "@expression(m, labor_month3, labor_project1[3] + labor_project2[3])\n",
    "@constraint(m, 0 <= labor_month3 <= available_monthly_workers)\n",
    "@expression(m, labor_month4, labor_project2[4])\n",
    "@constraint(m, 0 <= labor_month4 <= available_monthly_workers)\n",
    "\n",
    "# set constraints on the amount of work needed for each project\n",
    "@constraint(m, sum(labor_project1) == required_labor[1]) \n",
    "@constraint(m, sum(labor_project2) == required_labor[2]) \n",
    "@constraint(m, sum(labor_project3) == required_labor[3])\n",
    "\n",
    "solve(m)"
   ]
  },
  {
   "cell_type": "code",
   "execution_count": 20,
   "metadata": {
    "collapsed": false
   },
   "outputs": [
    {
     "data": {
      "text/plain": [
       "3-element Array{Float64,1}:\n",
       " 0.0\n",
       " 2.0\n",
       " 6.0"
      ]
     },
     "execution_count": 20,
     "metadata": {},
     "output_type": "execute_result"
    }
   ],
   "source": [
    "getvalue(labor_project1)"
   ]
  },
  {
   "cell_type": "code",
   "execution_count": 21,
   "metadata": {
    "collapsed": false
   },
   "outputs": [
    {
     "data": {
      "text/plain": [
       "4-element Array{Float64,1}:\n",
       " 2.0\n",
       " 0.0\n",
       " 2.0\n",
       " 6.0"
      ]
     },
     "execution_count": 21,
     "metadata": {},
     "output_type": "execute_result"
    }
   ],
   "source": [
    "getvalue(labor_project2)"
   ]
  },
  {
   "cell_type": "code",
   "execution_count": 22,
   "metadata": {
    "collapsed": false
   },
   "outputs": [
    {
     "data": {
      "text/plain": [
       "2-element Array{Float64,1}:\n",
       " 6.0\n",
       " 6.0"
      ]
     },
     "execution_count": 22,
     "metadata": {},
     "output_type": "execute_result"
    }
   ],
   "source": [
    "getvalue(labor_project3)"
   ]
  },
  {
   "cell_type": "markdown",
   "metadata": {},
   "source": [
    "It looks like Julia found a different solution than the one proposed earlier, but it is equally as optimal. Interestingly, we didn't need a maximize or minimize objective. "
   ]
  }
 ],
 "metadata": {
  "kernelspec": {
   "display_name": "Julia 0.5.0",
   "language": "julia",
   "name": "julia-0.5"
  },
  "language_info": {
   "file_extension": ".jl",
   "mimetype": "application/julia",
   "name": "julia",
   "version": "0.5.0"
  }
 },
 "nbformat": 4,
 "nbformat_minor": 2
}
