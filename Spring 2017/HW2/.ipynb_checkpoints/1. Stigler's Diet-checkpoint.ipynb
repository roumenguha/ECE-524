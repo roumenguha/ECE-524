{
 "cells": [
  {
   "cell_type": "markdown",
   "metadata": {
    "collapsed": false,
    "scrolled": true
   },
   "source": [
    "# 1. Stigler's Diet [10 pts]\n",
    "#### by Roumen Guha, on Sunday, February 12th, 2017\n",
    "True story! In 1945, American economist (and future Nobel laureate) George Stigler published a paper investigating the composition of an optimal diet; minimizing total cost while meeting the recommended daily allowance (RDA) of several nutrients. To answer this question, Stigler tabulated a list of 77 foods and their nutrient content for 9 nutrients: calories, protein, calcium, iron, vitamin A, thiamine, riboflavin, niacin, and ascorbic acid.\n",
    "\n",
    "To make calculations easier, Stigler normalized his data so each row shows the nutrients contained in \\$1’s worth of the given food item. Back then, \\$1 could buy you quite a lot! When Stigler posed his diet problem, the simplex method had not yet been invented. In his paper, he wrote: “... the procedure is experimental because there does not appear to be any direct method\n",
    "of finding the minimum of a linear function subject to linear conditions.” Nevertheless, through a combination of “trial and error, mathematical insight, and agility”, he eventually arrived at a solution: a diet costing only $39.93 per year. Though he confessed: “There is no reason to believe that the cheapest combination was found, for only a handful of the [many] possible combinations of commodities were examined.”\n",
    "\n",
    "__(a)__ Formulate Stigler’s diet problem as an LP and solve it. To get you started, Stigler’s original data is provided in stigler.csv, and the IJulia notebook stigler.ipynb imports the data and puts it into a convenient array format. How does your cheapest diet compare in annual cost to Stigler’s? What foods make up your optimal diet?"
   ]
  },
  {
   "cell_type": "code",
   "execution_count": 78,
   "metadata": {
    "collapsed": false,
    "scrolled": false
   },
   "outputs": [],
   "source": [
    "using NamedArrays      # make sure you run Pkg.add(\"NamedArrays\") first!\n",
    "\n",
    "# import Stigler's data set\n",
    "raw = readcsv(\"stigler.csv\")\n",
    "(m, n) = size(raw)\n",
    "\n",
    "n_nutrients = 2:n      # columns containing nutrient names\n",
    "n_foods = 3:m          # rows containing food names\n",
    "\n",
    "nutrients = raw[1, n_nutrients][:]   # the list of nutrients (convert to 1-D array)\n",
    "foods = raw[n_foods, 1][:]           # the list of foods (convert to 1-D array)\n",
    "\n",
    "# min_requirements[i] is the minimum daily requirement of nutrient i.\n",
    "min_requirements = Dict(zip(nutrients, raw[2, n_nutrients]))\n",
    "\n",
    "# data[f,i] is the amount of nutrient i contained in food f.\n",
    "data = NamedArray(raw[n_foods, n_nutrients], (foods, nutrients), (\"foods\", \"nutrients\"))\n",
    ";"
   ]
  },
  {
   "cell_type": "code",
   "execution_count": 79,
   "metadata": {
    "collapsed": false,
    "scrolled": true
   },
   "outputs": [],
   "source": [
    "using JuMP\n",
    "m = Model()\n",
    "\n",
    "@variable(m, quant_food[1:77] >= 0.0)\n",
    "# Number of servings of food\n",
    "for i = 1:9\n",
    "    count[i] = 0\n",
    "    for j = 1:77\n",
    "        count[i] = count[i] + data[j,i]*quant_food[j]\n",
    "    end\n",
    "    @constraint(m, count[i] >= raw[2, n_nutrients][i])\n",
    "end\n",
    "\n",
    "@objective(m, Min, sum(quant_food))\n",
    "\n",
    "solve(m)"
   ]
  },
  {
   "cell_type": "code",
   "execution_count": 68,
   "metadata": {
    "collapsed": false
   },
   "outputs": [
    {
     "data": {
      "text/html": [
       "39.66173154546625"
      ],
      "text/plain": [
       "39.66173154546625"
      ]
     },
     "execution_count": 68,
     "metadata": {},
     "output_type": "execute_result"
    }
   ],
   "source": [
    "getobjectivevalue(m)*365"
   ]
  },
  {
   "cell_type": "code",
   "execution_count": 69,
   "metadata": {
    "collapsed": false
   },
   "outputs": [
    {
     "name": "stdout",
     "output_type": "stream",
     "text": [
      "The optimal diet consists of:\n",
      "\n",
      "item 1: Wheat Flour (Enriched) --> 0.02951906167648827\n",
      "item 30: Liver (Beef) --> 0.0018925572907052643\n",
      "item 46: Cabbage --> 0.011214435246144865\n",
      "item 52: Spinach --> 0.005007660466725203\n",
      "item 69: Navy Beans, Dried --> 0.061028563526693246\n"
     ]
    }
   ],
   "source": [
    "println(\"The optimal diet consists of:\")\n",
    "println(\"\")\n",
    "\n",
    "for i = 1:77\n",
    "    t = getvalue(quant_food[i])\n",
    "    if t > 1e-5\n",
    "        println(\"item \", i, \": \", raw[i + 2, 1], \" --> \", t)\n",
    "    end\n",
    "end"
   ]
  },
  {
   "cell_type": "markdown",
   "metadata": {},
   "source": [
    "__(b)__ Suppose we wanted to find the cheapest diet that was also vegan and gluten-free. How much would that cost per year, and what foods would be used?\n"
   ]
  },
  {
   "cell_type": "markdown",
   "metadata": {},
   "source": [
    "Of the 5 items that the optimal solution contains, note that 2 of the foods are not vegan nor are they gluten-free. Therefore, we introduce constraints to remove these items."
   ]
  },
  {
   "cell_type": "code",
   "execution_count": 75,
   "metadata": {
    "collapsed": false
   },
   "outputs": [
    {
     "data": {
      "text/plain": [
       ":Optimal"
      ]
     },
     "execution_count": 75,
     "metadata": {},
     "output_type": "execute_result"
    }
   ],
   "source": [
    "using JuMP\n",
    "m2 = Model()\n",
    "\n",
    "data[1, :] = zeros(9) # set wheat flour to have zero nutritional value\n",
    "# interestingly enough, setting this to zero changed the solution enough that it\n",
    "# was not necessary to set beef liver to zero. Go figure. \n",
    "\n",
    "@variable(m2, quant_food[1:77] >= 0.0) # Number of servings of food\n",
    "\n",
    "for i = 1:9\n",
    "    count[i] = 0\n",
    "    for j = 1:77\n",
    "        count[i] = count[i] + data[j,i]*quant_food[j]\n",
    "    end\n",
    "    @constraint(m2, count[i] >= raw[2, n_nutrients][i])\n",
    "end\n",
    "\n",
    "@objective(m2, Min, sum(quant_food))\n",
    "\n",
    "solve(m2)"
   ]
  },
  {
   "cell_type": "code",
   "execution_count": 76,
   "metadata": {
    "collapsed": false
   },
   "outputs": [
    {
     "data": {
      "text/html": [
       "45.55617276801373"
      ],
      "text/plain": [
       "45.55617276801373"
      ]
     },
     "execution_count": 76,
     "metadata": {},
     "output_type": "execute_result"
    }
   ],
   "source": [
    "getobjectivevalue(m2)*365"
   ]
  },
  {
   "cell_type": "code",
   "execution_count": 77,
   "metadata": {
    "collapsed": false
   },
   "outputs": [
    {
     "name": "stdout",
     "output_type": "stream",
     "text": [
      "The optimal vegan and gluten-free diet consists of:\n",
      "\n",
      "item 24: Lard --> 0.003609110117837147\n",
      "item 46: Cabbage --> 0.011221011438294\n",
      "item 52: Spinach --> 0.005355495313175868\n",
      "item 69: Navy Beans, Dried --> 0.1046258153718265\n"
     ]
    }
   ],
   "source": [
    "println(\"The optimal vegan and gluten-free diet consists of:\")\n",
    "println()\n",
    "\n",
    "for i = 1:77\n",
    "    t = getvalue(quant_food[i])\n",
    "    if t > 1e-5\n",
    "        println(\"item \", i, \": \", raw[i + 2, 1], \" --> \", t)\n",
    "    end\n",
    "end"
   ]
  }
 ],
 "metadata": {
  "kernelspec": {
   "display_name": "Julia 0.5.0",
   "language": "julia",
   "name": "julia-0.5"
  },
  "language_info": {
   "file_extension": ".jl",
   "mimetype": "application/julia",
   "name": "julia",
   "version": "0.5.0"
  }
 },
 "nbformat": 4,
 "nbformat_minor": 0
}
