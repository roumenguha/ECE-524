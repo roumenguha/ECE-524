{
 "cells": [
  {
   "cell_type": "markdown",
   "metadata": {},
   "source": [
    "# 4. Electricity Grid with Storage [15 pts]\n",
    "#### by Roumen Guha, on Sunday, February 12th, 2017\n",
    "\n",
    "The town of Hamilton buys its electricity from the Powerco utility, which charges for electricity on an hourly basis. If less than 50 MWh is used during a given hour, then the cost is \\$100 per MWh. Any excess beyond 50 MWh used during the hour is charged at the higher rate of \\$400 per MWh. The maximum power that Powerco can provide in any given hour is 75 MWh. Here is what the average daily electricity demand looks like for Hamilton during the month of January:\n",
    "\n",
    "| Hour of Day (AM) | 1  | 2  | 3  | 4  | 5  | 6  | 7  | 8  | 9  | 10 | 11 | 12 |\n",
    "|------------------|----|----|----|----|----|----|----|----|----|----|----|----|\n",
    "| Demand (MWh)     | 43 | 40 | 36 | 36 | 35 | 38 | 41 | 46 | 49 | 48 | 47 | 47 |\n",
    "\n",
    "| Hour of Day (PM) | 1  | 2  | 3  | 4  | 5  | 6  | 7  | 8  | 9  | 10 | 11 | 12 |\n",
    "|------------------|----|----|----|----|----|----|----|----|----|----|----|----|\n",
    "| Demand (MWh)     | 48 | 46 | 45 | 47 | 50 | 63 | 75 | 75 | 72 | 66 | 57 | 50 |\n",
    "\n",
    "The mayor of Hamilton is concerned because the high electricity use during evening hours is costing the city a lot of money. There is also risk of black-outs at around 7pm because the average demand is dangerously close to Powerco’s 75 MWh limit.\n",
    "To address these issues, the mayor purchased a large battery with a storage capacity of 30 MWh. The idea is that extra electricity could be purchased early in the day (at the lower rate), stored in the battery, and used later in the day when demand (and prices) are high."
   ]
  },
  {
   "cell_type": "code",
   "execution_count": 14,
   "metadata": {
    "collapsed": false
   },
   "outputs": [],
   "source": [
    "low_demand_price = 100  # when less than 50MWh is used per hour\n",
    "high_demand_price = 400 # when more than 50MWh is used per hour\n",
    "\n",
    "maximum_power_supplied = 75 \n",
    "battery_capacity = 30\n",
    "\n",
    "# hourly demand in an average day\n",
    "d = [43, 40, 36, 36, 35, 38, 41, 46, 49, 48, 47, 47, 48, 46, 45, 47, 50, 63, 75, 75, 72, 66, 57, 50]\n",
    ";"
   ]
  },
  {
   "cell_type": "markdown",
   "metadata": {},
   "source": [
    "__(a)__ How much money can the town of Hamilton save per day thanks to the battery? Assume that\n",
    "the battery begins the day completely drained. Also, to be safe from possible black-outs, limit\n",
    "the amount of electricity purchased every hour to a maximum of 65 MWh."
   ]
  },
  {
   "cell_type": "code",
   "execution_count": 54,
   "metadata": {
    "collapsed": false
   },
   "outputs": [
    {
     "name": "stdout",
     "output_type": "stream",
     "text": [
      "Without the battery, the citizens of Hamilton would pay $163200.\n",
      "With the battery, the citizens of Hamilton would pay $143400.0.\n",
      "\n",
      "The battery saves them $19800.0 daily.\n"
     ]
    }
   ],
   "source": [
    "daily_cost_without_battery = 0\n",
    "for i in 1:24\n",
    "    if d[i] <= 50\n",
    "        daily_cost_without_battery = daily_cost_without_battery + d[i]*low_demand_price\n",
    "    else\n",
    "        daily_cost_without_battery = daily_cost_without_battery + d[i]*low_demand_price + (d[i] - 50)*high_demand_price \n",
    "    end\n",
    "end\n",
    "\n",
    "using JuMP\n",
    "\n",
    "m = Model()\n",
    "\n",
    "max_hourly_energy = 65\n",
    "\n",
    "@variable(m, 0 <= x[1:24] <= 50)  # energy produced with regular rate\n",
    "@variable(m, 0 <= y[1:24] <= 65)  # energy produced with premium rate\n",
    "@variable(m, 0 <= b[1:25] <= 30)  # energy stored in battery\n",
    "@constraint(m, b[1] == 0)\n",
    "@constraint(m, flow[i in 1:24], x[i] + y[i] + b[i] == d[i] + b[i+1])                   # conservation of energy\n",
    "@objective(m, Min, low_demand_price*sum(x) + high_demand_price*sum(y))      # minimize costs\n",
    "\n",
    "solve(m)\n",
    "\n",
    "println(\"Without the battery, the citizens of Hamilton would pay \\$\", daily_cost_without_battery, \".\")\n",
    "println(\"With the battery, the citizens of Hamilton would pay \\$\", getobjectivevalue(m), \".\")\n",
    "\n",
    "println()\n",
    "println(\"The battery saves them \\$\", daily_cost_without_battery - getobjectivevalue(m), \" daily.\")"
   ]
  },
  {
   "cell_type": "markdown",
   "metadata": {},
   "source": [
    "__(b)__ How much money would be saved if the battery had an infinite capacity? In this scenario, how much of the battery’s capacity is actually used?\n"
   ]
  },
  {
   "cell_type": "code",
   "execution_count": 61,
   "metadata": {
    "collapsed": false
   },
   "outputs": [
    {
     "name": "stdout",
     "output_type": "stream",
     "text": [
      "With a battery of infinite capacity, the citizens of Hamilton would pay $120000.0.\n",
      "\n",
      "The infinite battery saves them $43200.0 daily.\n",
      "[0.0,7.0,17.0,31.0,45.0,60.0,72.0,81.0,85.0,86.0,88.0,91.0,94.0,96.0,100.0,105.0,108.0,108.0,95.0,70.0,45.0,23.0,7.0,0.0,0.0]"
     ]
    },
    {
     "data": {
      "text/plain": [
       "(25,)"
      ]
     },
     "execution_count": 61,
     "metadata": {},
     "output_type": "execute_result"
    }
   ],
   "source": [
    "using JuMP\n",
    "\n",
    "m2 = Model()\n",
    "\n",
    "@variable(m2, 0 <= x[1:24] <= 50) # energy produced with regular rate\n",
    "@variable(m2, 0 <= y[1:24] <= 65) # energy produced with premium rate\n",
    "@variable(m2, b[1:25] >= 0)       # energy stored in battery\n",
    "@constraint(m2, b[1] == 0)\n",
    "@constraint(m2, flow[i in 1:24], x[i] + y[i] + b[i] == d[i] + b[i+1])                   # conservation of energy\n",
    "@objective(m2, Min, low_demand_price*sum(x) + high_demand_price*sum(y))      # minimize costs\n",
    "\n",
    "solve(m2)\n",
    "\n",
    "println(\"With a battery of infinite capacity, the citizens of Hamilton would pay \\$\", getobjectivevalue(m2), \".\")\n",
    "\n",
    "println()\n",
    "println(\"The infinite battery saves them \\$\", daily_cost_without_battery - getobjectivevalue(m2), \" daily.\")\n",
    "\n",
    "print(getvalue(b))"
   ]
  },
  {
   "cell_type": "markdown",
   "metadata": {},
   "source": [
    "__(c)__ Make a plot that shows (i) the typical energy demand vs time of day (ii) the electricity purchased using the strategy found in part __(a)__ vs time of day, and (iii) the battery capacity used as a function of time (draw all three plots on the same axes)."
   ]
  },
  {
   "cell_type": "code",
   "execution_count": null,
   "metadata": {
    "collapsed": false
   },
   "outputs": [
    {
     "name": "stderr",
     "output_type": "stream",
     "text": [
      "\u001b[1m\u001b[34mINFO: Precompiling module PyPlot.\n",
      "\u001b[0m"
     ]
    }
   ],
   "source": [
    "using PyPlot\n",
    "x = 1:5\n",
    "y = [3, 5, 4, 2, 6]\n",
    "bar(x,y,align=\"center\")"
   ]
  },
  {
   "cell_type": "markdown",
   "metadata": {},
   "source": [
    "__(d)__ Comment on whether the solutions you found are unique. Are other solutions possible? Why? Suggest a way of finding another optimal solution."
   ]
  },
  {
   "cell_type": "markdown",
   "metadata": {
    "collapsed": true
   },
   "source": [
    "No, the solutions are not unique. Other solutions "
   ]
  }
 ],
 "metadata": {
  "kernelspec": {
   "display_name": "Julia 0.5.0",
   "language": "julia",
   "name": "julia-0.5"
  },
  "language_info": {
   "file_extension": ".jl",
   "mimetype": "application/julia",
   "name": "julia",
   "version": "0.5.0"
  }
 },
 "nbformat": 4,
 "nbformat_minor": 2
}
