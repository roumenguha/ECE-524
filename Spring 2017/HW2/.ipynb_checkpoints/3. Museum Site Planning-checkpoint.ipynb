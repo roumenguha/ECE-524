{
 "cells": [
  {
   "cell_type": "markdown",
   "metadata": {},
   "source": [
    "# 3. Museum Site Planning [10 pts]\n",
    "#### by Roumen Guha, on Sunday, February 12th, 2017\n",
    "\n",
    "A site is being investigated as a potential location for a new museum. An aerial plan of the site is shown in the figure below (in __feet__). The museum will have a __circular__ footprint and law mandates that there be __at least 50 feet of clearance between the building and any road__. If we want the largest possible museum, where should it be located? What is its optimal radius? Re-plot the figure below along with the optimally designed museum."
   ]
  },
  {
   "cell_type": "markdown",
   "metadata": {
    "collapsed": true
   },
   "source": [
    "<img src=\"3.png\">"
   ]
  },
  {
   "cell_type": "code",
   "execution_count": null,
   "metadata": {
    "collapsed": false
   },
   "outputs": [],
   "source": []
  }
 ],
 "metadata": {
  "kernelspec": {
   "display_name": "Julia 0.5.0",
   "language": "julia",
   "name": "julia-0.5"
  },
  "language_info": {
   "file_extension": ".jl",
   "mimetype": "application/julia",
   "name": "julia",
   "version": "0.5.0"
  }
 },
 "nbformat": 4,
 "nbformat_minor": 2
}
