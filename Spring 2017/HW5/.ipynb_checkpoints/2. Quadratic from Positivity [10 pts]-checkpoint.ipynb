{
 "cells": [
  {
   "cell_type": "markdown",
   "metadata": {},
   "source": [
    "# 2. Quadratic from Positivity [10 pts]\n",
    "\n",
    "#### by Roumen Guha on Sunday, March 5th, 2017\n",
    "\n",
    "You're presented with the constraint: \n",
    "\n",
    "<h3><center>$ 2x^2 + 2y^2 + 9z^2 + 8xy - 6xz - 6yz \\le 1 $ (1) </center></h3>\n"
   ]
  },
  {
   "cell_type": "markdown",
   "metadata": {},
   "source": [
    "__a)__ It turns out the above constraint is not convex. In other words, the set of $(x, y, z)$ satisfying the constraint (1) is not an ellipsoid. Explain why this is the case."
   ]
  },
  {
   "cell_type": "code",
   "execution_count": 4,
   "metadata": {
    "collapsed": false
   },
   "outputs": [
    {
     "name": "stdout",
     "output_type": "stream",
     "text": [
      "[-2.0,3.0,12.0]\n",
      "[0.707107 -0.57735 -0.408248; -0.707107 -0.57735 -0.408248; 0.0 -0.57735 0.816497]\n"
     ]
    }
   ],
   "source": [
    "# Symmetric equivalent matrix\n",
    "V = [2  4 -3\n",
    "     4  2 -3\n",
    "    -3 -3  9]\n",
    "\n",
    "val, vec = eig(V)\n",
    "\n",
    "println(val)\n",
    "println(vec)"
   ]
  },
  {
   "cell_type": "markdown",
   "metadata": {},
   "source": [
    "By eigenvalue decomposition and some manipulation, we get:\n",
    "\n",
    "<center>$ 2x^2 + 2y^2 + 9z^2 + 8xy - 6xz - 6yz = -2p^2 + 3q^2 + 12r^2 $</center>\n",
    "\n",
    "Which means it can be written as:\n",
    "\n",
    "<center>$-2p^2 + 3q^2 + 12r^2 \\le 1$</center>\n",
    "\n",
    "which a nonconvex quadratic constraint, simply because of the negative eigenvalue, which makes this matrix __non-PSD__. "
   ]
  },
  {
   "cell_type": "markdown",
   "metadata": {},
   "source": [
    "__b)__ Show that the following QCQP is unbounded:\n",
    "\n",
    "<img src=\"2.png\">\n",
    "\n",
    "*Hint*: this is not a convex QCQP because as seen above, (1) is not convex. Moreover, the objective is not convex because it involves *maximizing* a positive definite quadratic. So do not attempt to solve this using JuMP! Instead, show how to construct a vector $(x, y, z)$ of arbitrarily large magnitude that satisfies (1)."
   ]
  },
  {
   "cell_type": "markdown",
   "metadata": {},
   "source": [
    "<h3><center>$ 2x^2 + 2y^2 + 9z^2 + 8xy - 6xz - 6yz \\le 1 $ (1) </center></h3>\n",
    "\n",
    "\n",
    "Try $ (x, y, z) = (c, -c, 0) $\n",
    "\n",
    "<h3><center>$ 2c^2 + 2c^2 + 0 + -8c^2 - 0 - 0 \\le 1$</center></h3>\n",
    "<h3><center>$ -4c^2 \\le 1$</center></h3>\n",
    "\n",
    "<h3><center>$\\because c^2 $ must be positive when $c \\in \\mathbb{R}$</center></h3>\n",
    "\n",
    "<h3><center>$\\therefore -4c^2 \\le 0$</center></h3>\n",
    "\n",
    "<center> and $ -4c^2 \\lt 1$, which means that the constraint __is always satisfied__ when $(x, y, z)$ is of the form $(c, -c, 0).$</center><br \\>\n",
    "\n",
    "Our objective, $ x^2 + y^2 + z^2 $, when $ (x, y, z) = (c, -c, 0) $, becomes $ 2c^2 $ which can be made arbitrarily large by choosing larger values of $ c $. Because we have shown that any vector of the form $ (c, -c, 0) $ will have this property of being valid under the constraint (1), the solution is shown to be unbounded.\n"
   ]
  }
 ],
 "metadata": {
  "kernelspec": {
   "display_name": "Julia 0.5.0",
   "language": "julia",
   "name": "julia-0.5"
  },
  "language_info": {
   "file_extension": ".jl",
   "mimetype": "application/julia",
   "name": "julia",
   "version": "0.5.0"
  }
 },
 "nbformat": 4,
 "nbformat_minor": 2
}
