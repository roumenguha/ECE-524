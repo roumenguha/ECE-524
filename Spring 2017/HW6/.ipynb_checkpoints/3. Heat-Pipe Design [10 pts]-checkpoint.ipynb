{
 "cells": [
  {
   "cell_type": "markdown",
   "metadata": {},
   "source": [
    "# 3. Heat-Pipe Design [10 pts]\n",
    "\n",
    "A heated fluid at temperature $T$ (degrees above ambient temperature) flows in a pipe with fixed length and circular cross section with radius $r$. A layer of insulation, with thickness $w$, surrounds the pipe to reduce heat loss through the pipe walls ($w$ is much smaller than $r$). The design variables in this problem are $T$, $r$, and $w$.\n",
    "\n",
    "The energy cost due to heat loss is roughly equal to $α_1Tr/w$. The cost of the pipe, which has a fixed wall thickness, is approximately proportional to the total material, i.e., it is given by $α_2r$. The cost of the insulation is also approximately proportional to the total insulation material, i.e., roughly $α_3rw$. The total cost is the sum of these three costs.\n",
    "\n",
    "The heat flow down the pipe is entirely due to the flow of the fluid, which has a fixed velocity, i.e., it is given by $α_4Tr^2$. The constants $α_i$ with $i ∈ \\{1,2,3,4\\}$ are __all positive__, as are the variables $T$, $r$, and $w$.\n",
    "\n",
    "Now the problem: maximize the total heat flow down the pipe, subject to an upper limit $C_{max}$ on total cost, and the constraints\n",
    "\n",
    "<img src = \"3a.png\">"
   ]
  },
  {
   "cell_type": "markdown",
   "metadata": {},
   "source": [
    "__a)__ Express this problem as a geometric program, and convert it into a convex optimization problem."
   ]
  },
  {
   "cell_type": "markdown",
   "metadata": {
    "collapsed": false
   },
   "source": [
    "<img src = \"3a.jpg\">"
   ]
  },
  {
   "cell_type": "markdown",
   "metadata": {},
   "source": [
    "__b)__ Consider a simple instance of this problem, where $C_{max} = 500$ and $α_1 = α_2 = α_3 = α_4 = 1$. Also assume for simplicity that __each variable has a lower bound of zero__ and __no upper bound__. Solve this problem using JuMP. Use the Mosek solver and the command __@NLconstraint(...)__ to specify nonlinear constraints such as log-sum-exp functions. Note: Mosek can solve general convex optimization problems! What is the optimal $T$, $r$, and $w$?"
   ]
  },
  {
   "cell_type": "code",
   "execution_count": 1,
   "metadata": {
    "collapsed": false
   },
   "outputs": [
    {
     "name": "stdout",
     "output_type": "stream",
     "text": [
      "Optimal\n",
      "We achieved a maximum heat flow of 51305.90644653668\n",
      "T = 23.840238958644314\n",
      "r =  46.39042810824172\n",
      "w = 4.639042747423223\n",
      "Our total cost is: 500.0000000182839\n"
     ]
    }
   ],
   "source": [
    "using JuMP, Mosek\n",
    "\n",
    "a = ones(4)\n",
    "C_max = 500\n",
    "\n",
    "m = Model(solver=MosekSolver(LOG=0))\n",
    "\n",
    "@variable(m, x >= 0)\n",
    "@variable(m, y >= 0)\n",
    "@variable(m, z >= 0)\n",
    "\n",
    "@NLexpression(m, T, exp(x))\n",
    "@NLexpression(m, r, exp(y))\n",
    "@NLexpression(m, w, exp(z))\n",
    "\n",
    "@NLexpression(m, heat_loss_cost, a[1]*T*r/w)\n",
    "@NLexpression(m, pipe_cost, a[2]*r)\n",
    "@NLexpression(m, insulation_cost, a[3]*r*w)\n",
    "@NLexpression(m, total_cost, heat_loss_cost + pipe_cost + insulation_cost)\n",
    "\n",
    "@NLconstraint(m, exp(log(a[1]) + x + y - z) + exp(log(a[2]) + y) + exp(log(a[3]) + y + z) - C_max <= 0)\n",
    "@NLconstraint(m, exp(z - y) <= 0.1)\n",
    "\n",
    "@NLobjective(m, Min, log(a[4]) - x - 2y)\n",
    "\n",
    "println(solve(m))\n",
    "\n",
    "println(\"We achieved a maximum heat flow of \", getvalue(T) * getvalue(r)^2)\n",
    "println(\"T = \", getvalue(T))\n",
    "println(\"r =  \", getvalue(r))\n",
    "println(\"w = \", getvalue(w))\n",
    "println(\"Our total cost is: \", getvalue(total_cost))"
   ]
  },
  {
   "cell_type": "code",
   "execution_count": 2,
   "metadata": {
    "collapsed": false
   },
   "outputs": [
    {
     "name": "stdout",
     "output_type": "stream",
     "text": [
      "Optimal\n",
      "We achieved a maximum heat flow of 48667.67592771966\n",
      "T = 20.24756171792293\n",
      "r =  49.02684407505225\n",
      "w = 4.3118627352713395\n",
      "Our total cost is: 490.64317317489616\n"
     ]
    }
   ],
   "source": [
    "# attempting something I saw on Piazza (@196)\n",
    "# inverted objective, then solve for minimization\n",
    "# NOT MY FINAL ANSWER\n",
    "\n",
    "using JuMP, Mosek\n",
    "\n",
    "m1 = Model(solver=MosekSolver(LOG=0))\n",
    "\n",
    "@variable(m1, T >= 0)\n",
    "@variable(m1, r >= 0)\n",
    "@variable(m1, w >= 0)\n",
    "\n",
    "@NLexpression(m1, x, log(T))\n",
    "@NLexpression(m1, y, log(r))\n",
    "@NLexpression(m1, z, log(w))\n",
    "\n",
    "@NLexpression(m1, heat_loss_cost, a[1]*T*r/w)\n",
    "@NLexpression(m1, pipe_cost, a[2]*r)\n",
    "@NLexpression(m1, insulation_cost, a[3]*r*w)\n",
    "@NLexpression(m1, total_cost, heat_loss_cost + pipe_cost + insulation_cost)\n",
    "\n",
    "@NLconstraint(m1, a[1]*T*r/w + a[2]*r + a[3]*r*w <= C_max)\n",
    "@NLconstraint(m1, w <= 0.1*r)\n",
    "\n",
    "@NLobjective(m1, Min, (a[4]*T*r^2)^-1)\n",
    "\n",
    "println(solve(m1))\n",
    "\n",
    "println(\"We achieved a maximum heat flow of \", getvalue(T) * getvalue(r)^2)\n",
    "println(\"T = \", getvalue(T))\n",
    "println(\"r =  \", getvalue(r))\n",
    "println(\"w = \", getvalue(w))\n",
    "println(\"Our total cost is: \", getvalue(total_cost))"
   ]
  }
 ],
 "metadata": {
  "kernelspec": {
   "display_name": "Julia 0.5.0",
   "language": "julia",
   "name": "julia-0.5"
  },
  "language_info": {
   "file_extension": ".jl",
   "mimetype": "application/julia",
   "name": "julia",
   "version": "0.5.0"
  }
 },
 "nbformat": 4,
 "nbformat_minor": 2
}
