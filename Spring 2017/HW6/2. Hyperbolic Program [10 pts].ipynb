{
 "cells": [
  {
   "cell_type": "markdown",
   "metadata": {},
   "source": [
    "# 2. Hyperbolic program [10 pts]\n",
    "\n",
    "In this problem, we start with a problem that doesn’t appear to be convex and show that it is in fact convex by converting it into an SOCP."
   ]
  },
  {
   "cell_type": "markdown",
   "metadata": {},
   "source": [
    "__a)__ Recall from class that for any $w \\in \\mathbb{R}^n$ and $x, y \\in \\mathbb{R}$, the following constraints are equivalent:\n",
    "\n",
    "<img src=\"2a.png\">\n",
    "\n",
    "Suppose we have an optimization problem with variables $t \\ge 0$ and $x \\in \\mathbb{R}^n$. Express the constraint: $t$($a^Tx + b$) $\\ge 1$ as a second-order cone constraint. Specifically, write the constraint in the form $\\|Ax + b\\| \\le c^Tx + d$. What are $A, b, c, d, x$?\n"
   ]
  },
  {
   "cell_type": "markdown",
   "metadata": {
    "collapsed": true
   },
   "source": [
    "<img src = \"2a.jpg\">"
   ]
  },
  {
   "cell_type": "markdown",
   "metadata": {},
   "source": [
    "__b)__ Consider the following hyperbolic optimization problem __(note the nonlinear objective)__:\n",
    "\n",
    "<img src = \"2b.png\">\n",
    "\n",
    "Write this optimization problem as an SOCP. *Hint: the first part of this problem is __very__ relevant!*"
   ]
  },
  {
   "cell_type": "markdown",
   "metadata": {
    "collapsed": true
   },
   "source": [
    "<img src = \"2b.jpg\">"
   ]
  }
 ],
 "metadata": {
  "kernelspec": {
   "display_name": "Julia 0.5.0",
   "language": "julia",
   "name": "julia-0.5"
  },
  "language_info": {
   "file_extension": ".jl",
   "mimetype": "application/julia",
   "name": "julia",
   "version": "0.5.0"
  }
 },
 "nbformat": 4,
 "nbformat_minor": 2
}
