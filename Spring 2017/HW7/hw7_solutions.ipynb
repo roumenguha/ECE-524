{
 "cells": [
  {
   "cell_type": "markdown",
   "metadata": {},
   "source": [
    "# CS/ECE/ISyE 524 - Spring 2017 - Homework 7 - Solutions\n",
    "### Prepared by: Laurent Lessard"
   ]
  },
  {
   "cell_type": "markdown",
   "metadata": {},
   "source": [
    "# 1. Thrift store\n",
    "\n",
    "How should you make change for 99 cents if the goal is to minimize the total weight of the coins used? The following table shows the weight of each type of coin. You may use any number of each type of coin.\n",
    "\n",
    "| Type of coin | penny | nickel | dime | quarter |\n",
    "|:------------:|:-----:|:------:|:----:|:-------:|\n",
    "|Weight (grams)| 2.500 |  5.000 |2.268 |  5.670  |"
   ]
  },
  {
   "cell_type": "code",
   "execution_count": 3,
   "metadata": {
    "collapsed": false
   },
   "outputs": [
    {
     "name": "stdout",
     "output_type": "stream",
     "text": [
      "x: 1 dimensions:\n",
      "[  penny] = 4.0\n",
      "[ nickel] = 0.0\n",
      "[   dime] = 2.0\n",
      "[quarter] = 3.0\n",
      "31.546\n"
     ]
    }
   ],
   "source": [
    "coinType = [ :penny, :nickel, :dime, :quarter ]\n",
    "\n",
    "# problem data (we'll use a dictionary here)\n",
    "weights = Dict( :penny => 2.500, :nickel => 5.000, :dime => 2.268, :quarter => 5.670 )\n",
    "values  = Dict( :penny => 1    , :nickel => 5    , :dime => 10   , :quarter => 25    )\n",
    "\n",
    "using JuMP, Cbc, Gurobi, Mosek, GLPKMathProgInterface\n",
    "m = Model(solver = MosekSolver())\n",
    "\n",
    "@variable(m, x[coinType] >= 0, Int)\n",
    "@constraint(m, sum( x[i] * values[i] for i in coinType ) == 99 )\n",
    "@objective(m, Min, sum( x[i] * weights[i] for i in coinType ) )\n",
    "solve(m)\n",
    "\n",
    "println(getvalue(x))\n",
    "println(getobjectivevalue(m))"
   ]
  },
  {
   "cell_type": "markdown",
   "metadata": {},
   "source": [
    "# 2. Comquat Computers\n",
    "\n",
    "Comquat owns four production plants at which personal computers are produced. Comquat can sell up to 20,000 computers per year at a price of \\$3,500 per computer. For each plant the production capacity, cost per computer, and fixed cost of operating the plant for a year are given below. Determine how Comquat can maximize its yearly profit from computer production.\n",
    "\n",
    "| Plant | Production capacity | Plant fixed cost (\\$ Million) | Cost per computer (\\$) |\n",
    "|:-----:|:-------------------:|:-----------------------------:|:----------------------:|\n",
    "| 1     | 10,000              |   9                           |  1,000                 |\n",
    "| 2     |  8,000              |   5                           |  1,700                 |\n",
    "| 3     |  9,000              |   3                           |  2,300                 |\n",
    "| 4     |  6,000              |   1                           |  2,900                 |"
   ]
  },
  {
   "cell_type": "code",
   "execution_count": 18,
   "metadata": {
    "collapsed": false
   },
   "outputs": [
    {
     "name": "stdout",
     "output_type": "stream",
     "text": [
      "The maximal profit is: 2.56e7\n",
      "Here is a tally of factory number, whether it's open or not, and how many computers it should produce.\n"
     ]
    },
    {
     "data": {
      "text/plain": [
       "4×3 Array{Float64,2}:\n",
       " 1.0  1.0  10000.0\n",
       " 2.0  1.0   8000.0\n",
       " 3.0  0.0      0.0\n",
       " 4.0  1.0   2000.0"
      ]
     },
     "execution_count": 18,
     "metadata": {},
     "output_type": "execute_result"
    }
   ],
   "source": [
    "using JuMP, Cbc\n",
    "m = Model(solver = CbcSolver())\n",
    "\n",
    "price     = 3.5e3                       # price at which we can sell a single computer (regardless of where it is produced)\n",
    "cap       = 20000                       # maximum computers that can be sold per year\n",
    "\n",
    "capacity  = [10000, 8000, 9000, 6000]   # production capacity for each plant\n",
    "fixedcost = [9e6, 5e6, 3e6, 1e6]        # fixed cost for each plant\n",
    "itemcost  = [1e3, 1.7e3, 2.3e3, 2.9e3]  # cost per computer for each factory\n",
    "\n",
    "@variable(m, z[1:4], Bin)   # indicator variables: is plant i on or off?\n",
    "@variable(m, x[1:4] >= 0)   # number of computers produced at each of the plants\n",
    "\n",
    "# production constraints on each plant\n",
    "@constraint(m, x .<= capacity)\n",
    "\n",
    "# total production capacity constraint\n",
    "@constraint(m, sum(x) <= cap)\n",
    "\n",
    "# logic constraint: if z[i]=0 then we must have x[i]=0\n",
    "@constraint(m, x .<= capacity .* z)\n",
    "\n",
    "# expenses (item costs + fixed costs)\n",
    "@expression(m, expenses, sum( itemcost[i]*x[i] for i in 1:4) + sum( fixedcost[i]*z[i] for i in 1:4) )\n",
    "\n",
    "# revenue (from selling items)\n",
    "@expression(m, revenue, price*sum(x))\n",
    "\n",
    "# MAXIMIZE PROFIT (revenue - expenses)\n",
    "@objective(m, Max, revenue - expenses)\n",
    "\n",
    "solve(m)\n",
    "println(\"The maximal profit is: \", getobjectivevalue(m))\n",
    "println(\"Here is a tally of factory number, whether it's open or not, and how many computers it should produce.\")\n",
    "getvalue([1:4 z x])"
   ]
  },
  {
   "cell_type": "markdown",
   "metadata": {},
   "source": [
    "# 3. ABC Investments\n",
    "\n",
    "ABC Inc. is considering several investment options.  Each option has a minimum investment required as well as a maximum investment allowed. These restrictions, along with the expected return are summarized in the following table (figures are in millions of dollars):\n",
    "\n",
    "|Option | Minimum investment | Maximum investment | Expected return (%)  |\n",
    "|:-----:|:------------------:|:------------------:|:--------------------:|\n",
    "|  1    |      3             |      27            |     13               |\n",
    "|  2    |      2             |      12            |      9               |\n",
    "|  3    |      9             |      35            |     17               |\n",
    "|  4    |      5             |      15            |     10               |\n",
    "|  5    |     12             |      46            |     22               |\n",
    "|  6    |      4             |      18            |     12               |\n",
    "\n",
    "Because of the high-risk nature of Option 5, company policy requires that the total amount invested in Option 5 be no more that the combined amount invested in Options 2, 4 and 6.  In addition, if an investment is made in Option 3, it is required that at least a minimum investment be made in Option 6.  ABC has \\$80 million to invest and obviously wants to maximize its total expected return on investment.  Which options should ABC invest in, and how much should be invested?"
   ]
  },
  {
   "cell_type": "code",
   "execution_count": 19,
   "metadata": {
    "collapsed": false
   },
   "outputs": [
    {
     "name": "stdout",
     "output_type": "stream",
     "text": [
      "The maximum return on investment (net profit) is: $13.5 million.\n",
      "This is an average return of: 16.875 %\n",
      "Here is a tally of each investment, whether we invest or not, and how much we invest (in millions of $).\n"
     ]
    },
    {
     "data": {
      "text/plain": [
       "6×3 Array{Float64,2}:\n",
       " 1.0  0.0   0.0\n",
       " 2.0  0.0   0.0\n",
       " 3.0  1.0  35.0\n",
       " 4.0  1.0   5.0\n",
       " 5.0  1.0  22.5\n",
       " 6.0  1.0  17.5"
      ]
     },
     "execution_count": 19,
     "metadata": {},
     "output_type": "execute_result"
    }
   ],
   "source": [
    "using JuMP, Cbc\n",
    "m = Model(solver = CbcSolver())\n",
    "\n",
    "lows  = [  3,  2,  9,  5, 12,  4 ]  # minimum investment\n",
    "highs = [ 27, 12, 35, 15, 46, 18 ]  # maximum investment\n",
    "ret   = [ 13,  9, 17, 10, 22, 12 ]  # expected return\n",
    "\n",
    "@variable(m, x[1:6] >= 0)             # amount invested in each option\n",
    "@variable(m, z[1:6], Bin)             # indicator variable: do we invest in option i or not?\n",
    "\n",
    "@constraint(m, sum(x) <= 80)     # total investment limit\n",
    "\n",
    "# option 5 is no more than combined amounts from options 2, 4, and 6\n",
    "@constraint(m, x[5] <= x[2] + x[4] + x[6])\n",
    "\n",
    "# if there is an investment in option 3, we must invest in option 6.\n",
    "# in other words: if z[3] = 1, then z[6] = 1.\n",
    "@constraint(m, z[3] <= z[6])\n",
    "\n",
    "# variable lower bounds (if z=0 then x=0. if z=1 then low <= x <= hi)\n",
    "for i = 1:6\n",
    "    @constraint(m, lows[i]*z[i] <= x[i]  )\n",
    "    @constraint(m, x[i] <= highs[i]*z[i] )\n",
    "end\n",
    "\n",
    "@expression(m, expectedReturn, sum( x[i] * ret[i]/100 for i = 1:6) )\n",
    "\n",
    "@objective(m, Max, expectedReturn)\n",
    "\n",
    "solve(m)\n",
    "println(\"The maximum return on investment (net profit) is: \\$\", getobjectivevalue(m), \" million.\")\n",
    "println(\"This is an average return of: \", 100*getobjectivevalue(m)/getvalue(sum(x)), \" %\")\n",
    "println(\"Here is a tally of each investment, whether we invest or not, and how much we invest (in millions of \\$).\")\n",
    "getvalue([1:6 z x])"
   ]
  },
  {
   "cell_type": "markdown",
   "metadata": {},
   "source": [
    "## 4. Lights Out\n",
    "\n",
    " In Tiger Electronic's handheld solitaire game Lights Out, the player strives to turn out all 25 lights that make up a $5\\times 5$ grid of cells.  On each turn, the player is allowed to click on any one cell. Clicking on a cell activates a switch that causes the states of the cell and its (edge) neighbors to change from on to off, or from off to on. Corner cells are considered to have 2 neighbors, edge cells to have three, and interior cells to have four. Find a way to turn out all the lights in as few turns as possible, starting from the state where all lights are on.\n",
    "\n",
    "**Hints:** The order in which the cells are clicked doesn't matter, and there is no need to click any cell more than once."
   ]
  },
  {
   "cell_type": "code",
   "execution_count": 4,
   "metadata": {
    "collapsed": false
   },
   "outputs": [
    {
     "name": "stdout",
     "output_type": "stream",
     "text": [
      "  0.423378 seconds (103 allocations: 26.938 KB)\n"
     ]
    },
    {
     "data": {
      "text/plain": [
       "5×5 Array{Int64,2}:\n",
       " 1  1  0  0  0\n",
       " 1  1  0  1  1\n",
       " 0  0  1  1  1\n",
       " 0  1  1  1  0\n",
       " 0  1  1  0  1"
      ]
     },
     "execution_count": 4,
     "metadata": {},
     "output_type": "execute_result"
    }
   ],
   "source": [
    "# there are many ways to model the logic constraints required here.\n",
    "# We will solve the problem in one possible way by using an integer variable\n",
    "# to model the parity constraint of clicking a button an even/odd number of times.\n",
    "\n",
    "N = 5               # size of the grid\n",
    "Xinit = ones(N,N)   # initial state (every light is on)\n",
    "\n",
    "\n",
    "using JuMP, Cbc\n",
    "m = Model(solver = CbcSolver())\n",
    "                                         # X[i,j] is 1 if we click cell (i,j) and 0 otherwise.\n",
    "@variable(m, X[1:N+2,1:N+2], Bin)        # NOTE: we add an extra border of cells around the grid to eliminate special cases\n",
    "                                         # so the effective size of the grid is now (N+2)×(N+2)\n",
    "@variable(m, 0 <= Z[1:N,1:N] <= 2, Int)  # one integer-valued variable per cell\n",
    "\n",
    "# each cell must get affected 0, 2, or 4 times if Xinit=0 and 1, 3, or 5 times if Xinit=1\n",
    "# we model this as 2*z), which can take on values of 0, 2, 4 depending on choice of z ∈ {0,1,2}\n",
    "for i = 2:N+1\n",
    "    for j = 2:N+1\n",
    "        @constraint(m, X[i,j]+X[i-1,j]+X[i+1,j]+X[i,j-1]+X[i,j+1] == Xinit[i-1,j-1]+2Z[i-1,j-1,1] )\n",
    "    end\n",
    "end\n",
    "\n",
    "# border cells are pegged at zero\n",
    "for i = 1:N+2\n",
    "    @constraint(m, X[1,i] == 0)\n",
    "    @constraint(m, X[N+2,i] == 0)\n",
    "    @constraint(m, X[i,1] == 0)\n",
    "    @constraint(m, X[i,N+2] == 0)\n",
    "end\n",
    "\n",
    "# minimize number of button presses\n",
    "@objective(m, Min, sum(X))\n",
    "\n",
    "@time(solve(m))\n",
    "Xopt = getvalue( X[2:N+1,2:N+1] )\n",
    "convert(Array{Int64}, Xopt)\n",
    "\n",
    "# NOTE: the solution is not unique (e.g. you can rotate by 90 deg, mirror,...)"
   ]
  },
  {
   "cell_type": "code",
   "execution_count": null,
   "metadata": {
    "collapsed": true
   },
   "outputs": [],
   "source": []
  }
 ],
 "metadata": {
  "kernelspec": {
   "display_name": "Julia 0.5.0",
   "language": "julia",
   "name": "julia-0.5"
  },
  "language_info": {
   "file_extension": ".jl",
   "mimetype": "application/julia",
   "name": "julia",
   "version": "0.5.0"
  }
 },
 "nbformat": 4,
 "nbformat_minor": 0
}
