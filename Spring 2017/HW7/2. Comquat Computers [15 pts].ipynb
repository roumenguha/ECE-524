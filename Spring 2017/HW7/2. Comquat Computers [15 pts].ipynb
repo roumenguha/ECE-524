{
 "cells": [
  {
   "cell_type": "markdown",
   "metadata": {
    "deletable": true,
    "editable": true
   },
   "source": [
    "# 2. Comquat Computers [15 pts]\n",
    "\n",
    "Comquat owns four production plants at which personal computers are produced.  Comquat can sell up to 20,000 computers per year at a price of \\$3,500 per computer.  For each plant the production capacity, cost per computer, and fixed cost of operating the plant for a year are given below.  Determine how Comquat can maximize its yearly profit from computer production.\n",
    "\n",
    "| Plant | Production capacity | Plant fixed cost (\\$ Million) | Cost per computer (\\$) |\n",
    "|-------|---------------------|-------------------------------|------------------------|\n",
    "|   1   |        10,000       |                9              |          1,000         | \n",
    "|   2   |         8,000       |                5              |          1,700         | \n",
    "|   3   |         9,000       |                3              |          2,300         | \n",
    "|   4   |         6,000       |                1              |          2,900         | "
   ]
  },
  {
   "cell_type": "code",
   "execution_count": 1,
   "metadata": {
    "collapsed": false,
    "deletable": true,
    "editable": true
   },
   "outputs": [],
   "source": [
    "# data\n",
    "prod_caps = [10000, 8000, 9000, 6000]\n",
    "plant_fixed_cost = [9, 5, 3, 1]\n",
    "cost_per_computer = [1000, 1700, 2300, 2900]\n",
    "\n",
    "max_computers_per_year = 20000\n",
    "price_per_computer = 3500\n",
    ";"
   ]
  },
  {
   "cell_type": "code",
   "execution_count": 24,
   "metadata": {
    "collapsed": false,
    "deletable": true,
    "editable": true
   },
   "outputs": [
    {
     "data": {
      "text/plain": [
       ":Optimal"
      ]
     },
     "execution_count": 24,
     "metadata": {},
     "output_type": "execute_result"
    }
   ],
   "source": [
    "using JuMP, Cbc, Gurobi, Mosek, GLPK\n",
    "\n",
    "m = Model(solver = MosekSolver())\n",
    "\n",
    "@variable(m, x[1:4] >= 0, Int) # quantities from each plant\n",
    "@variable(m, z[1:4], Bin) # whether plant is active\n",
    "@constraint(m, x .<= 10000*z) # if x > 0 then z = 1\n",
    "\n",
    "@constraint(m, x[1:4] .<= prod_caps[1:4]) # cap plant capacities according to data\n",
    "\n",
    "@constraint(m, sum(x[1:4]) <= 20000) # sale constraint\n",
    "\n",
    "@expression(m, max_revenue, sum(x[1:4]) * 3500) # price per computer constraint\n",
    "\n",
    "@expression(m, total_prod_cost, (cost_per_computer[1]*x[1] + cost_per_computer[2]*x[2] + cost_per_computer[3]*x[3] + cost_per_computer[4]*x[4]))\n",
    "@expression(m, total_plant_cost, (plant_fixed_cost[1]*z[1] + plant_fixed_cost[2]*z[2] + plant_fixed_cost[3]*z[3] + plant_fixed_cost[4]*z[4])*1000000) # in millions\n",
    "\n",
    "@objective(m, Max, max_revenue - (total_plant_cost + total_prod_cost))\n",
    "\n",
    "solve(m)"
   ]
  },
  {
   "cell_type": "code",
   "execution_count": 25,
   "metadata": {
    "collapsed": false,
    "deletable": true,
    "editable": true
   },
   "outputs": [
    {
     "name": "stdout",
     "output_type": "stream",
     "text": [
      "Plant 1 produced 10000.0 computers\n",
      "Plant 2 produced 8000.0 computers\n",
      "Plant 3 produced 0.0 computers\n",
      "Plant 4 produced 2000.0 computers\n"
     ]
    }
   ],
   "source": [
    "for i = 1:4\n",
    "        println(\"Plant \", i, \" produced \", getvalue(x[i]), \" computers\")\n",
    "end"
   ]
  },
  {
   "cell_type": "code",
   "execution_count": 26,
   "metadata": {
    "collapsed": false,
    "deletable": true,
    "editable": true
   },
   "outputs": [
    {
     "name": "stdout",
     "output_type": "stream",
     "text": [
      "With this configuration, Comquat Computers will make a profit of $2.56e7\n"
     ]
    }
   ],
   "source": [
    "println(\"With this configuration, Comquat Computers will make a profit of \\$\", getobjectivevalue(m))"
   ]
  }
 ],
 "metadata": {
  "kernelspec": {
   "display_name": "Julia 0.5.0",
   "language": "julia",
   "name": "julia-0.5"
  },
  "language_info": {
   "file_extension": ".jl",
   "mimetype": "application/julia",
   "name": "julia",
   "version": "0.5.0"
  }
 },
 "nbformat": 4,
 "nbformat_minor": 2
}
