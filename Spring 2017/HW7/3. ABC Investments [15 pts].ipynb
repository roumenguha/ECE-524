{
 "cells": [
  {
   "cell_type": "markdown",
   "metadata": {},
   "source": [
    "# 3. ABC Investments [15 pts]\n",
    "\n",
    "ABC Inc.  is considering several investment options.  Each option has a minimum investment required as well as a maximum investment allowed.  These restrictions, along with the expected return are summarized in the following table (figures are in millions of dollars):\n",
    "\n",
    "| Option | Minimum investment |     Maximum investment    | Expected return (%) |\n",
    "|--------|--------------------|---------------------------|---------------------|\n",
    "|   1    |        3           |           27              |          13         | \n",
    "|   2    |        2           |           12              |           9         | \n",
    "|   3    |        9           |           35              |          17         | \n",
    "|   4    |        5           |           15              |          10         | \n",
    "|   5    |        12          |           46              |          22         | \n",
    "|   6    |        4           |           18              |          12         | \n",
    "\n",
    "Because of the high-risk nature of Option 5, company policy requires that __the total amount invested in  Option  5  be  no  more  that  the  combined  amount  invested  in  Options  2,  4  and  6.__   In  addition,  __if an  investment  is  made  in  Option  3,  it  is  required  that  at  least  a  minimum  investment  be  made  in Option 6.__  ABC has \\$80 million to invest and obviously wants to maximize its total expected return on investment.  Which options should ABC invest in, and how much should be invested?"
   ]
  },
  {
   "cell_type": "code",
   "execution_count": 1,
   "metadata": {
    "collapsed": false
   },
   "outputs": [],
   "source": [
    "# data\n",
    "min_investments = [3, 2, 9, 5, 12, 4]\n",
    "max_investments = [27, 12, 35, 15, 46, 18]\n",
    "expected_returns = [13, 9, 17, 10, 22, 12]*0.01 + 1\n",
    "\n",
    "max_investment = 80\n",
    ";"
   ]
  },
  {
   "cell_type": "code",
   "execution_count": 8,
   "metadata": {
    "collapsed": false
   },
   "outputs": [
    {
     "data": {
      "text/plain": [
       ":Optimal"
      ]
     },
     "execution_count": 8,
     "metadata": {},
     "output_type": "execute_result"
    }
   ],
   "source": [
    "using JuMP, Cbc, Gurobi, Mosek, GLPK\n",
    "\n",
    "m = Model(solver = MosekSolver())\n",
    "\n",
    "@variable(m, x[1:6] >= 0)\n",
    "@variable(m, z[1:6], Bin)\n",
    "@constraint(m, sum(x[1:6]) <= max_investment)\n",
    "\n",
    "@constraint(m, x[1] >= min_investments[1]z[1])\n",
    "@constraint(m, x[1] <= max_investments[1]z[1])\n",
    "\n",
    "@constraint(m, x[2] >= min_investments[2]z[2])\n",
    "@constraint(m, x[2] <= max_investments[2]z[2])\n",
    "\n",
    "@constraint(m, x[3] >= min_investments[3]z[3])\n",
    "@constraint(m, x[3] <= max_investments[3]z[3])\n",
    "\n",
    "@constraint(m, x[4] >= min_investments[4]z[4])\n",
    "@constraint(m, x[4] <= max_investments[4]z[4])\n",
    "\n",
    "@constraint(m, x[5] >= min_investments[5]z[5])\n",
    "@constraint(m, x[5] <= max_investments[5]z[5])\n",
    "@constraint(m, x[5] <= (x[2] + x[4] + x[6]))\n",
    "\n",
    "@constraint(m, x[6] >= min_investments[6]z[6])\n",
    "@constraint(m, x[6] <= max_investments[6]z[6])\n",
    "@constraint(m, z[3] <= z[6])\n",
    "\n",
    "@expression(m, total_returns, expected_returns[1]*x[1] + expected_returns[2]*x[2] + expected_returns[3]*x[3] + expected_returns[4]*x[4] + expected_returns[5]*x[5] + expected_returns[6]*x[6])\n",
    "\n",
    "@objective(m, Max, total_returns)\n",
    "\n",
    "solve(m)"
   ]
  },
  {
   "cell_type": "code",
   "execution_count": 9,
   "metadata": {
    "collapsed": false
   },
   "outputs": [
    {
     "name": "stdout",
     "output_type": "stream",
     "text": [
      "ABC should invest as follows:\n",
      "Option 1 with $0.0 million invested\n",
      "Option 2 with $0.0 million invested\n",
      "Option 3 with $35.0 million invested\n",
      "Option 4 with $5.0 million invested\n",
      "Option 5 with $22.5 million invested\n",
      "Option 6 with $17.5 million invested\n",
      "\n",
      "This brings the total investment to $80.0 million, with an expected return of $93.5 million\n"
     ]
    }
   ],
   "source": [
    "println(\"ABC should invest as follows:\")\n",
    "\n",
    "for i = 1:6\n",
    "        println(\"Option \", i, \" with \\$\", getvalue(x[i]), \" million invested\")\n",
    "end\n",
    "\n",
    "println()\n",
    "println(\"This brings the total investment to \\$\", sum(getvalue(x[1:6])), \" million, with an expected return of \\$\", getobjectivevalue(m), \" million\")"
   ]
  }
 ],
 "metadata": {
  "kernelspec": {
   "display_name": "Julia 0.5.0",
   "language": "julia",
   "name": "julia-0.5"
  },
  "language_info": {
   "file_extension": ".jl",
   "mimetype": "application/julia",
   "name": "julia",
   "version": "0.5.0"
  }
 },
 "nbformat": 4,
 "nbformat_minor": 2
}
