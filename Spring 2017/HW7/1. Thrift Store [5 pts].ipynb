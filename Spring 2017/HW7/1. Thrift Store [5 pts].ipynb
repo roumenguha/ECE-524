{
 "cells": [
  {
   "cell_type": "markdown",
   "metadata": {},
   "source": [
    "# 1. Thrift Store [5 pts]\n",
    "\n",
    "How should you make change for 99 cents if the goal is to minimize the total weight of the coins used?  The following table shows the weight of each type of coin.  You may use any number of each type of coin.\n",
    "\n",
    "| Type of Coin  | penny  | nickel  | dime  | quarter  | \n",
    "|---------------|--------|---------|-------|----------|\n",
    "| Weight (grams)| 2.50   | 5.000   | 2.268 | 5.670    | "
   ]
  },
  {
   "cell_type": "code",
   "execution_count": 1,
   "metadata": {
    "collapsed": false
   },
   "outputs": [],
   "source": [
    "# data\n",
    "coins  = [0.01, 0.05, 0.10, 0.25]\n",
    "weights = [2.50, 5.00, 2.268, 5.670]\n",
    ";"
   ]
  },
  {
   "cell_type": "code",
   "execution_count": 2,
   "metadata": {
    "collapsed": false
   },
   "outputs": [
    {
     "data": {
      "text/plain": [
       ":Optimal"
      ]
     },
     "execution_count": 2,
     "metadata": {},
     "output_type": "execute_result"
    }
   ],
   "source": [
    "using JuMP, Clp, Gurobi, Mosek, GLPK\n",
    "\n",
    "m = Model(solver = MosekSolver())\n",
    "\n",
    "@variable(m, x[1:4] >= 0, Int)\n",
    "\n",
    "@constraint(m, x[1]*coins[1] + x[2]*coins[2] + x[3]*coins[3] + x[4]*coins[4] == 0.99)\n",
    "\n",
    "@expression(m, total_weight, x[1]*weights[1] + x[2]*weights[2] + x[3]*weights[3] + x[4]*weights[4])\n",
    "\n",
    "@objective(m, Min, total_weight)\n",
    "\n",
    "solve(m)"
   ]
  },
  {
   "cell_type": "code",
   "execution_count": 3,
   "metadata": {
    "collapsed": false
   },
   "outputs": [
    {
     "name": "stdout",
     "output_type": "stream",
     "text": [
      "The total weight (in grams) is 31.546\n",
      "Quantity of 0.01: 4.0\n",
      "Quantity of 0.05: 0.0\n",
      "Quantity of 0.1: 2.0\n",
      "Quantity of 0.25: 3.0\n"
     ]
    }
   ],
   "source": [
    "println(\"The total weight (in grams) is \", getobjectivevalue(m))\n",
    "\n",
    "for i = 1:4\n",
    "    println(\"Quantity of \", coins[i], \": \", getvalue(x[i]))\n",
    "end"
   ]
  }
 ],
 "metadata": {
  "kernelspec": {
   "display_name": "Julia 0.5.0",
   "language": "julia",
   "name": "julia-0.5"
  },
  "language_info": {
   "file_extension": ".jl",
   "mimetype": "application/julia",
   "name": "julia",
   "version": "0.5.0"
  }
 },
 "nbformat": 4,
 "nbformat_minor": 2
}
