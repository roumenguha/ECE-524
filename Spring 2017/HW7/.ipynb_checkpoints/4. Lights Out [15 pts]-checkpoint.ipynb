{
 "cells": [
  {
   "cell_type": "markdown",
   "metadata": {},
   "source": [
    "# 4. Lights Out [15 pts]\n",
    "\n",
    "In Tiger Electronic’s handheld solitaire game Lights Out, the player strives to turn out all 25 lights that make up a 5 × 5 grid of cells.  On each turn, the player is allowed to click on any one cell.  Clicking on a cell activates a switch that causes the states of the cell and its (edge) neighbors to change from on to off, or from off to on.  Corner cells are considered to have 2 neighbors, edge cells to have three, and interior cells to have four.  Find a way to turn out all the lights in as few turns as possible (starting from the state where all lights are on).\n",
    "\n",
    "*Hints*: The order in which the cells are clicked doesn’t matter (think about it!), and there is no need to click any cell more than once.\n",
    "\n",
    "https://en.wikipedia.org/wiki/Lights_Out_(game)"
   ]
  },
  {
   "cell_type": "code",
   "execution_count": 12,
   "metadata": {
    "collapsed": false
   },
   "outputs": [
    {
     "data": {
      "text/plain": [
       "7×7 Array{Int64,2}:\n",
       " 0  0  0  0  0  0  0\n",
       " 0  1  1  1  1  1  0\n",
       " 0  1  1  1  1  1  0\n",
       " 0  1  1  1  1  1  0\n",
       " 0  1  1  1  1  1  0\n",
       " 0  1  1  1  1  1  0\n",
       " 0  0  0  0  0  0  0"
      ]
     },
     "execution_count": 12,
     "metadata": {},
     "output_type": "execute_result"
    }
   ],
   "source": [
    "board = [0 0 0 0 0 0 0\n",
    "         0 1 1 1 1 1 0\n",
    "         0 1 1 1 1 1 0\n",
    "         0 1 1 1 1 1 0\n",
    "         0 1 1 1 1 1 0\n",
    "         0 1 1 1 1 1 0\n",
    "         0 0 0 0 0 0 0]"
   ]
  },
  {
   "cell_type": "code",
   "execution_count": 22,
   "metadata": {
    "collapsed": false
   },
   "outputs": [
    {
     "data": {
      "text/plain": [
       "7-element Array{JuMP.ConstraintRef{JuMP.Model,JuMP.GenericRangeConstraint{JuMP.GenericAffExpr{Float64,JuMP.Variable}}},1}:\n",
       " z[1,7] == 0\n",
       " z[2,7] == 0\n",
       " z[3,7] == 0\n",
       " z[4,7] == 0\n",
       " z[5,7] == 0\n",
       " z[6,7] == 0\n",
       " z[7,7] == 0"
      ]
     },
     "execution_count": 22,
     "metadata": {},
     "output_type": "execute_result"
    }
   ],
   "source": [
    "using JuMP, Cbc, Gurobi, Mosek, GLPK\n",
    "\n",
    "m = Model() \n",
    "\n",
    "@variable(m, z[1:7, 1:7] >= 0, Int)\n",
    "@constraint(m, z[1, :] .== 0)\n",
    "@constraint(m, z[7, :] .== 0)\n",
    "@constraint(m, z[:, 1] .== 0)\n",
    "@constraint(m, z[:, 7] .== 0)\n",
    "\n"
   ]
  },
  {
   "cell_type": "code",
   "execution_count": null,
   "metadata": {
    "collapsed": true
   },
   "outputs": [],
   "source": []
  }
 ],
 "metadata": {
  "kernelspec": {
   "display_name": "Julia 0.5.0",
   "language": "julia",
   "name": "julia-0.5"
  },
  "language_info": {
   "file_extension": ".jl",
   "mimetype": "application/julia",
   "name": "julia",
   "version": "0.5.0"
  }
 },
 "nbformat": 4,
 "nbformat_minor": 2
}
