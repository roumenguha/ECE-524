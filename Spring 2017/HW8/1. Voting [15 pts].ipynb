{
 "cells": [
  {
   "cell_type": "markdown",
   "metadata": {
    "deletable": true,
    "editable": true
   },
   "source": [
    "# 1. Voting [15 pts]\n",
    "\n",
    "Governor Blue of the state of Berry is attempting to get the state legislator to gerrymander Berry’s congressional districts. The state consists of ten cities, and the numbers of registered Republicans and Democrats __(in thousands)__ in each city are shown below\n",
    "\n",
    "| City | Republicans |     Democrats    | \n",
    "|------|-------------|------------------|\n",
    "|   1  |       80    |           34     |\n",
    "|   2  |       60    |           44     |\n",
    "|   3  |       40    |           44     |\n",
    "|   4  |       20    |           24     |\n",
    "|   5  |       40    |          114     |\n",
    "|   6  |       40    |           64     |\n",
    "|   7  |       70    |           14     |\n",
    "|   8  |       50    |           44     |\n",
    "|   9  |       70    |           54     |\n",
    "|  10  |       70    |           64     |\n",
    "\n",
    "Berry has five congressional representatives.  To form the five congressional districts,  cities must be grouped together according to the following restrictions:\n",
    "\n",
    "+ Districts cannot subdivide cities; all voters in a city must be in the same district.\n",
    "+ Each district must contain between 150,000 and 250,000 voters (there are no independent voters).\n",
    "\n",
    "Governor Blue is a Democrat.  Assume 100% voter turnout and that each voter always votes according to their registered party. Formulate and solve an optimization problem to help Governor Blue maximize the number of congressional districts that have a Democratic majority."
   ]
  },
  {
   "cell_type": "code",
   "execution_count": 18,
   "metadata": {
    "collapsed": false,
    "deletable": true,
    "editable": true
   },
   "outputs": [
    {
     "data": {
      "text/plain": [
       "10-element Array{Float64,1}:\n",
       "  46.0\n",
       "  16.0\n",
       "  -4.0\n",
       "  -4.0\n",
       " -74.0\n",
       " -24.0\n",
       "  56.0\n",
       "   6.0\n",
       "  16.0\n",
       "   6.0"
      ]
     },
     "execution_count": 18,
     "metadata": {},
     "output_type": "execute_result"
    }
   ],
   "source": [
    "distribution = [80.0 34.0\n",
    "                60.0 44.0\n",
    "                40.0 44.0\n",
    "                20.0 24.0\n",
    "                40.0 114.0\n",
    "                40.0 64.0\n",
    "                70.0 14.0\n",
    "                50.0 44.0\n",
    "                70.0 54.0\n",
    "                70.0 64.0]\n",
    "\n",
    "min_pop = 150\n",
    "max_pop = 250\n",
    "diff = distribution[:, 1] - distribution[:, 2]"
   ]
  },
  {
   "cell_type": "code",
   "execution_count": 29,
   "metadata": {
    "collapsed": false
   },
   "outputs": [
    {
     "name": "stderr",
     "output_type": "stream",
     "text": [
      "\u001b[1m\u001b[31mWARNING: Not solved to optimality, status: Unknown\u001b[0m\n"
     ]
    },
    {
     "data": {
      "text/plain": [
       ":Unknown"
      ]
     },
     "execution_count": 29,
     "metadata": {},
     "output_type": "execute_result"
    }
   ],
   "source": [
    "using JuMP, Cbc, Gurobi, Mosek, GLPK\n",
    "\n",
    "m = Model(solver = MosekSolver())\n",
    "\n",
    "@variable(m, x[1:5, 1:10], Bin)\n",
    "@variable(m, z[1:5], Bin)\n",
    "\n",
    "M = 106\n",
    "\n",
    "@constraint(m, x*diff .<= M*z - (1 - z))\n",
    "@constraint(m, sum(x[1:5,j]*diff[j] for j = 1:10) .<= max_pop)\n",
    "@constraint(m, sum(x[1:5,j]*diff[j] for j = 1:10) .>= min_pop)\n",
    "\n",
    "solve(m)"
   ]
  },
  {
   "cell_type": "code",
   "execution_count": 24,
   "metadata": {
    "collapsed": false
   },
   "outputs": [
    {
     "data": {
      "text/plain": [
       "5×10 Array{Float64,2}:\n",
       " 0.0  0.0  1.0  1.0  1.0  1.0  0.0  0.0  0.0  0.0\n",
       " 0.0  0.0  1.0  1.0  1.0  1.0  0.0  0.0  0.0  0.0\n",
       " 0.0  0.0  1.0  1.0  1.0  1.0  0.0  0.0  0.0  0.0\n",
       " 0.0  0.0  1.0  1.0  1.0  1.0  0.0  0.0  0.0  0.0\n",
       " 0.0  0.0  1.0  1.0  1.0  1.0  0.0  0.0  0.0  0.0"
      ]
     },
     "execution_count": 24,
     "metadata": {},
     "output_type": "execute_result"
    }
   ],
   "source": [
    "getvalue(x)"
   ]
  },
  {
   "cell_type": "code",
   "execution_count": 25,
   "metadata": {
    "collapsed": false
   },
   "outputs": [
    {
     "data": {
      "text/plain": [
       "5-element Array{Float64,1}:\n",
       " 1.0\n",
       " 1.0\n",
       " 1.0\n",
       " 1.0\n",
       " 1.0"
      ]
     },
     "execution_count": 25,
     "metadata": {},
     "output_type": "execute_result"
    }
   ],
   "source": [
    "getvalue(z)"
   ]
  }
 ],
 "metadata": {
  "kernelspec": {
   "display_name": "Julia 0.5.0",
   "language": "julia",
   "name": "julia-0.5"
  },
  "language_info": {
   "file_extension": ".jl",
   "mimetype": "application/julia",
   "name": "julia",
   "version": "0.5.0"
  }
 },
 "nbformat": 4,
 "nbformat_minor": 2
}
