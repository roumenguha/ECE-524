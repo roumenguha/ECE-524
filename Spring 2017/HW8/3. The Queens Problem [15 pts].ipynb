{
 "cells": [
  {
   "cell_type": "markdown",
   "metadata": {
    "deletable": true,
    "editable": true
   },
   "source": [
    "# 3. The Queens Problem [15 pts]\n",
    "\n",
    "You are given a standard 8 × 8 chess board.  The following problems involve placing queens on the board such that certain constraints are satisfied. For each of the following problems, model the optimization task as an integer program, solve it,  and show what an optimal placement of queens on the board looks like.\n",
    "\n",
    "__a)__ Find a way to place 8 queens on the board so that no two queens threaten each other. We say that two queens threaten each other if they occupy the same row, column, or diagonal. Show what this placement looks like.\n",
    "\n",
    "__b)__ Repeat part __(a)__ but this time find a placement of the 8 queens that has point symmetry. In other words, find a placement that looks the same if you rotate the board 180◦.\n",
    "\n",
    "__c)__ What is the smallest number of queens that we can place on the board so that each empty cell is threatened by at least one queen?  Show a possible optimal placement.\n",
    "\n",
    "__d)__ Repeat part __(c)__ but this time find a placement of the queens that also has point symmetry. Does the minimum number of queens required change?  Show a possible optimal placement."
   ]
  },
  {
   "cell_type": "code",
   "execution_count": 53,
   "metadata": {
    "collapsed": false,
    "deletable": true,
    "editable": true
   },
   "outputs": [
    {
     "name": "stderr",
     "output_type": "stream",
     "text": [
      "WARNING: Method definition printBoard(Any) in module Main at In[51]:2 overwritten at In[53]:2"
     ]
    },
    {
     "data": {
      "text/plain": [
       "printBoardLine (generic function with 1 method)"
      ]
     },
     "execution_count": 53,
     "metadata": {},
     "output_type": "execute_result"
    },
    {
     "name": "stderr",
     "output_type": "stream",
     "text": [
      ".\n",
      "WARNING: Method definition printBoardLine(Any) in module Main at In[51]:22 overwritten at In[53]:22.\n"
     ]
    }
   ],
   "source": [
    "function printBoard(matrix)\n",
    "    (width, height) = size(matrix)\n",
    "    \n",
    "    printBoardEdge(width)\n",
    "    \n",
    "    for i in 1:height\n",
    "        for j in 1:width\n",
    "            if matrix[i,j] == 1\n",
    "                print(\"| X \")\n",
    "            else\n",
    "                print(\"|   \")\n",
    "            end\n",
    "        end\n",
    "        println(\"|\")\n",
    "        printBoardLine(width)\n",
    "    end\n",
    "    \n",
    "end\n",
    "\n",
    "function printBoardLine(width)\n",
    "            \n",
    "    for w in 1:width\n",
    "        print(\"+---\")\n",
    "    end\n",
    "    \n",
    "    println(\"+\")\n",
    "    \n",
    "end"
   ]
  },
  {
   "cell_type": "code",
   "execution_count": 89,
   "metadata": {
    "collapsed": false
   },
   "outputs": [
    {
     "name": "stdout",
     "output_type": "stream",
     "text": [
      "[0]\n",
      "[0,1]\n",
      "[0,0,0]\n",
      "[1,0,0,0]\n",
      "[0,0,0,1,0]\n",
      "[0,0,0,0,0,0]\n",
      "[0,1,0,0,0]\n",
      "[0,0,0,1]\n",
      "[0,0,0]\n",
      "[1,0]\n",
      "[0]\n"
     ]
    },
    {
     "data": {
      "text/plain": [
       "6×6 Array{Int64,2}:\n",
       " 0  0  0  0  1  0\n",
       " 0  0  1  0  0  0\n",
       " 1  0  0  0  0  0\n",
       " 0  0  0  0  0  1\n",
       " 0  0  0  1  0  0\n",
       " 0  1  0  0  0  0"
      ]
     },
     "execution_count": 89,
     "metadata": {},
     "output_type": "execute_result"
    }
   ],
   "source": [
    "matrix = [ 0 0 0 0 1 0\n",
    "           0 0 1 0 0 0\n",
    "           1 0 0 0 0 0\n",
    "           0 0 0 0 0 1\n",
    "           0 0 0 1 0 0\n",
    "           0 1 0 0 0 0 ]\n",
    "\n",
    "for i in -5:5\n",
    " println(diag(matrix,i))\n",
    "end\n",
    "\n",
    "flipdim(matrix, 2)\n",
    "rot180(matrix)"
   ]
  },
  {
   "cell_type": "code",
   "execution_count": null,
   "metadata": {
    "collapsed": true
   },
   "outputs": [],
   "source": []
  }
 ],
 "metadata": {
  "kernelspec": {
   "display_name": "Julia 0.5.0",
   "language": "julia",
   "name": "julia-0.5"
  },
  "language_info": {
   "file_extension": ".jl",
   "mimetype": "application/julia",
   "name": "julia",
   "version": "0.5.0"
  }
 },
 "nbformat": 4,
 "nbformat_minor": 2
}
