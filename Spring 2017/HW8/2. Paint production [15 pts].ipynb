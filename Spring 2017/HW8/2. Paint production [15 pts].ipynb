{
 "cells": [
  {
   "cell_type": "markdown",
   "metadata": {
    "deletable": true,
    "editable": true
   },
   "source": [
    "# 2. Paint production [15 pts].\n",
    "\n",
    "As part of its weekly production, a paint company produces five batches of paints, always the same, for some big clients who have a stable demand. Every paint batch is produced in a single production process, all in the same blender that needs to be cleaned between each batch.  The durations of blending paint batches $1$ to $5$ are $40$, $35$, $45$, $32$ and $50$ minutes respectively. The cleaning times depend on the colors and the paint types.  For example, a long cleaning period is required if an oil-based paint is produced after a water-based paint, or to produce white paint after a dark color.  The times are given in minutes in the following matrix $A$ where $A_{ij}$ denotes the cleaning time after batch $i$ if it is followed by batch $j$.\n",
    "\n",
    "$\\left[\n",
    "\\begin{array}{A}\n",
    " 0 & 11 &  7 & 13 & 11 \\\\\n",
    " 5 &  0 & 13 & 15 & 15 \\\\\n",
    "13 & 15 &  0 & 23 & 11 \\\\\n",
    " 9 & 13 &  5 &  0 &  3 \\\\\n",
    " 3 &  7 &  7 &  7 &  0 \\\\\n",
    "\\end{array}\n",
    "\\right]$\n",
    "\n",
    "Since the company has other activities, it wishes to deal with this weekly production in the shortest possible time (blending and cleaning).  What is the corresponding order of paint batches? The order will be applied every week, so the cleaning time between the last batch of one week and the first of the following week needs to be accounted for in the total duration of cleaning."
   ]
  },
  {
   "cell_type": "code",
   "execution_count": 2,
   "metadata": {
    "collapsed": false,
    "deletable": true,
    "editable": true
   },
   "outputs": [],
   "source": [
    "using NamedArrays\n",
    "\n",
    "A = [ 0 11  7 13 11\n",
    "      5  0 13 15 15\n",
    "     13 15  0 23 11\n",
    "      9 13  5  0  3\n",
    "      3  7  7  7  0]\n",
    "\n",
    "paints = [1:5;]\n",
    "\n",
    "blending_times = [40, 35, 45, 32, 50]\n",
    "\n",
    "c = NamedArray(A, (paints, paints))\n",
    "N = size(A,1);"
   ]
  },
  {
   "cell_type": "code",
   "execution_count": 3,
   "metadata": {
    "collapsed": false
   },
   "outputs": [
    {
     "data": {
      "text/plain": [
       ":Optimal"
      ]
     },
     "execution_count": 3,
     "metadata": {},
     "output_type": "execute_result"
    }
   ],
   "source": [
    "using JuMP, Cbc, Gurobi, Mosek, GLPK\n",
    "\n",
    "m = Model(solver = MosekSolver())\n",
    "\n",
    "@variable(m, x[paints,paints], Bin)\n",
    "\n",
    "@constraint(m, c1[j in paints], sum(x[i,j] for i in paints) == 1)\n",
    "@constraint(m, c2[i in paints], sum(x[i,j] for j in paints) == 1)\n",
    "@constraint(m, c3[i in paints], x[i,i] == 0)\n",
    "\n",
    "@objective(m, Min, sum(x[i,j]*c[i,j] for i in paints, j in paints))\n",
    "\n",
    "# Miller-Tucker-Zemlin variables and constraints\n",
    "@variable(m, u[paints])\n",
    "@constraint(m, c4[i in paints, j in paints[2:end]], u[i] - u[j] + N*x[i,j] <= (N - 1))\n",
    "\n",
    "solve(m)"
   ]
  },
  {
   "cell_type": "code",
   "execution_count": 14,
   "metadata": {
    "collapsed": false
   },
   "outputs": [
    {
     "name": "stdout",
     "output_type": "stream",
     "text": [
      "The paints should be made in the order: Any[[1,2,5,3,4,1]]\n",
      "\n",
      "The total cleaning time taken is therefore: 41.0 minutes\n"
     ]
    }
   ],
   "source": [
    "x_opt = getvalue(x)\n",
    "order_opt = getAllSubtours(x_opt)\n",
    "\n",
    "println(\"The paints should be made in the order: \", (order_opt))\n",
    "\n",
    "println()\n",
    "println(\"The total cleaning time taken is therefore: \", getobjectivevalue(m), \" minutes\")"
   ]
  },
  {
   "cell_type": "code",
   "execution_count": 1,
   "metadata": {
    "collapsed": false
   },
   "outputs": [
    {
     "data": {
      "text/plain": [
       "getAllSubtours (generic function with 1 method)"
      ]
     },
     "execution_count": 1,
     "metadata": {},
     "output_type": "execute_result"
    }
   ],
   "source": [
    "# HELPER FUNCTION: returns the cycle containing the paint START.\n",
    "function getSubtour(x,start)\n",
    "    subtour = [start]\n",
    "    while true\n",
    "        j = subtour[end]\n",
    "        for k in paints\n",
    "            if x[k,j] == 1\n",
    "                push!(subtour,k)\n",
    "                break\n",
    "            end\n",
    "        end\n",
    "        if subtour[end] == start\n",
    "            break\n",
    "        end\n",
    "    end\n",
    "    return subtour\n",
    "end\n",
    "\n",
    "# HELPER FUNCTION: returns a list of all cycles\n",
    "function getAllSubtours(x)\n",
    "    nodesRemaining = paints\n",
    "    subtours = []\n",
    "    while length(nodesRemaining) > 0\n",
    "        subtour = getSubtour(x,nodesRemaining[1])\n",
    "        push!(subtours, subtour)\n",
    "        nodesRemaining = setdiff(nodesRemaining,subtour)\n",
    "    end\n",
    "    return subtours\n",
    "end"
   ]
  }
 ],
 "metadata": {
  "kernelspec": {
   "display_name": "Julia 0.5.0",
   "language": "julia",
   "name": "julia-0.5"
  },
  "language_info": {
   "file_extension": ".jl",
   "mimetype": "application/julia",
   "name": "julia",
   "version": "0.5.0"
  }
 },
 "nbformat": 4,
 "nbformat_minor": 2
}
